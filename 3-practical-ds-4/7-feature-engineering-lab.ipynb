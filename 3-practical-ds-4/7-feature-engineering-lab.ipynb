{
 "cells": [
  {
   "cell_type": "markdown",
   "metadata": {},
   "source": [
    "# Coercing Data"
   ]
  },
  {
   "cell_type": "markdown",
   "metadata": {},
   "source": [
    "### Introduction"
   ]
  },
  {
   "cell_type": "markdown",
   "metadata": {},
   "source": [
    "In this lab, we'll work on coercing data from a dataframe."
   ]
  },
  {
   "cell_type": "markdown",
   "metadata": {},
   "source": [
    "### Exploring our data"
   ]
  },
  {
   "cell_type": "markdown",
   "metadata": {},
   "source": [
    "We can start by loading our data from the related `csv` file."
   ]
  },
  {
   "cell_type": "code",
   "execution_count": 105,
   "metadata": {},
   "outputs": [],
   "source": [
    "import pandas as pd\n",
    "df = pd.read_csv('https://raw.githubusercontent.com/jigsawlabs-student/decision-trees-intro/master/3-practical-ds-4/nyc_hs_sat.csv')\n",
    "columns = ['reading_avg', 'math_avg', 'writing_score']\n",
    "df[columns] = df[columns].astype('object')"
   ]
  },
  {
   "cell_type": "markdown",
   "metadata": {},
   "source": [
    "> Above, we changed some of the columns to be an object so that our data is not so clean right out of the gate.  But let's pretend that didn't happen."
   ]
  },
  {
   "cell_type": "markdown",
   "metadata": {},
   "source": [
    "Ok, now let's begin to explore our data."
   ]
  },
  {
   "cell_type": "markdown",
   "metadata": {},
   "source": [
    "1. First, view the list of columns in our dataframe."
   ]
  },
  {
   "cell_type": "code",
   "execution_count": 67,
   "metadata": {},
   "outputs": [
    {
     "data": {
      "text/plain": [
       "Index(['dbn', 'name', 'num_test_takers', 'reading_avg', 'math_avg',\n",
       "       'writing_score', 'boro', 'total_students', 'graduation_rate',\n",
       "       'attendance_rate', 'college_career_rate'],\n",
       "      dtype='object')"
      ]
     },
     "execution_count": 67,
     "metadata": {},
     "output_type": "execute_result"
    }
   ],
   "source": [
    "df_columns = df.columns\n",
    "df_columns\n",
    "# Index(['dbn', 'name', 'num_test_takers', 'reading_avg', 'math_avg',\n",
    "#        'writing_score', 'boro', 'total_students', 'graduation_rate',\n",
    "#        'attendance_rate', 'college_career_rate'],\n",
    "#       dtype='object')"
   ]
  },
  {
   "cell_type": "markdown",
   "metadata": {},
   "source": [
    "Ok, let's start by selecting `math_avg` as our target.  Select this column and assign it to the variable `y`."
   ]
  },
  {
   "cell_type": "code",
   "execution_count": 68,
   "metadata": {},
   "outputs": [],
   "source": [
    "y = df.math_avg"
   ]
  },
  {
   "cell_type": "code",
   "execution_count": 69,
   "metadata": {},
   "outputs": [
    {
     "data": {
      "text/plain": [
       "0    404\n",
       "1    423\n",
       "2    402\n",
       "Name: math_avg, dtype: object"
      ]
     },
     "execution_count": 69,
     "metadata": {},
     "output_type": "execute_result"
    }
   ],
   "source": [
    "y[:3]\n",
    "\n",
    "# 0    404\n",
    "# 1    423\n",
    "# 2    402"
   ]
  },
  {
   "cell_type": "markdown",
   "metadata": {},
   "source": [
    "Let's choose `boro`, `total_students`, `graduation_rate`, and `attendance_rate` as features in our model.  Select those columns and assign them to the variable `X`."
   ]
  },
  {
   "cell_type": "code",
   "execution_count": 72,
   "metadata": {},
   "outputs": [],
   "source": [
    "feature_cols = ['boro', 'total_students', 'graduation_rate', 'attendance_rate']\n",
    "X = df[feature_cols]"
   ]
  },
  {
   "cell_type": "code",
   "execution_count": 73,
   "metadata": {},
   "outputs": [
    {
     "data": {
      "text/html": [
       "<div>\n",
       "<style scoped>\n",
       "    .dataframe tbody tr th:only-of-type {\n",
       "        vertical-align: middle;\n",
       "    }\n",
       "\n",
       "    .dataframe tbody tr th {\n",
       "        vertical-align: top;\n",
       "    }\n",
       "\n",
       "    .dataframe thead th {\n",
       "        text-align: right;\n",
       "    }\n",
       "</style>\n",
       "<table border=\"1\" class=\"dataframe\">\n",
       "  <thead>\n",
       "    <tr style=\"text-align: right;\">\n",
       "      <th></th>\n",
       "      <th>boro</th>\n",
       "      <th>total_students</th>\n",
       "      <th>graduation_rate</th>\n",
       "      <th>attendance_rate</th>\n",
       "    </tr>\n",
       "  </thead>\n",
       "  <tbody>\n",
       "    <tr>\n",
       "      <td>0</td>\n",
       "      <td>M</td>\n",
       "      <td>171</td>\n",
       "      <td>0.66</td>\n",
       "      <td>0.87</td>\n",
       "    </tr>\n",
       "    <tr>\n",
       "      <td>1</td>\n",
       "      <td>M</td>\n",
       "      <td>465</td>\n",
       "      <td>0.90</td>\n",
       "      <td>0.93</td>\n",
       "    </tr>\n",
       "  </tbody>\n",
       "</table>\n",
       "</div>"
      ],
      "text/plain": [
       "  boro  total_students  graduation_rate  attendance_rate\n",
       "0    M             171             0.66             0.87\n",
       "1    M             465             0.90             0.93"
      ]
     },
     "execution_count": 73,
     "metadata": {},
     "output_type": "execute_result"
    }
   ],
   "source": [
    "X[:2]\n",
    "\n",
    "# \tboro\ttotal_students\tgraduation_rate\tattendance_rate\n",
    "# 0\tM\t171\t0.66\t0.87\n",
    "# 1\tM\t465\t0.90\t0.93"
   ]
  },
  {
   "cell_type": "markdown",
   "metadata": {},
   "source": [
    "2. Now, let's see the columns and the respective datatype the features in our `X` dataframe."
   ]
  },
  {
   "cell_type": "code",
   "execution_count": 74,
   "metadata": {},
   "outputs": [
    {
     "data": {
      "text/plain": [
       "boro                object\n",
       "total_students       int64\n",
       "graduation_rate    float64\n",
       "attendance_rate    float64\n",
       "dtype: object"
      ]
     },
     "execution_count": 74,
     "metadata": {},
     "output_type": "execute_result"
    }
   ],
   "source": [
    "X_types = X.dtypes\n",
    "X_types\n",
    "\n",
    "# boro                object\n",
    "# total_students       int64\n",
    "# graduation_rate    float64\n",
    "# attendance_rate    float64\n",
    "# dtype: object"
   ]
  },
  {
   "cell_type": "markdown",
   "metadata": {},
   "source": [
    "Now if our datatypes are already a number, we're in pretty good shape.  It's where our datatypes are *objects* that we should do some cleaning up."
   ]
  },
  {
   "cell_type": "markdown",
   "metadata": {},
   "source": [
    "Let's select the `boro` column from `X` and assign it to the variable `boro_series`."
   ]
  },
  {
   "cell_type": "code",
   "execution_count": 75,
   "metadata": {},
   "outputs": [
    {
     "data": {
      "text/plain": [
       "0    M\n",
       "1    M\n",
       "2    M\n",
       "Name: boro, dtype: object"
      ]
     },
     "execution_count": 75,
     "metadata": {},
     "output_type": "execute_result"
    }
   ],
   "source": [
    "boro_series = X.boro\n",
    "boro_series[:3]\n",
    "\n",
    "# 0    M\n",
    "# 1    M\n",
    "# 2    M\n",
    "# Name: boro, dtype: object"
   ]
  },
  {
   "cell_type": "markdown",
   "metadata": {},
   "source": [
    "### Changing the boro column"
   ]
  },
  {
   "cell_type": "markdown",
   "metadata": {},
   "source": [
    "To start with, let's use a pandas method to view all of the different values in the series and the corresponding counts of the values."
   ]
  },
  {
   "cell_type": "code",
   "execution_count": 76,
   "metadata": {},
   "outputs": [
    {
     "data": {
      "text/plain": [
       "K    96\n",
       "X    80\n",
       "M    77\n",
       "Q    60\n",
       "R    10\n",
       "Name: boro, dtype: int64"
      ]
     },
     "execution_count": 76,
     "metadata": {},
     "output_type": "execute_result"
    }
   ],
   "source": [
    "val_counts = boro_series.value_counts()\n",
    "val_counts\n",
    "\n",
    "# K    96\n",
    "# X    80\n",
    "# M    77\n",
    "# Q    60\n",
    "# R    10\n",
    "# Name: boro, dtype: int64"
   ]
  },
  {
   "cell_type": "markdown",
   "metadata": {},
   "source": [
    "So we can see that there are five different values, just as there are five boroughs.  A little research would reveal that `M -> Manhattan`, `K -> Brooklyn`, `X -> Bronx`, `Q -Queens`, `R -> Staten Island`.  This is categorical data.\n",
    "\n",
    "Start by changing the datatype of the `boro_series` series from `object` to `category` and assign it to `boro_ser_cat`."
   ]
  },
  {
   "cell_type": "code",
   "execution_count": 77,
   "metadata": {},
   "outputs": [],
   "source": [
    "boro_ser_cat = boro_series.astype('category')"
   ]
  },
  {
   "cell_type": "code",
   "execution_count": 78,
   "metadata": {},
   "outputs": [
    {
     "data": {
      "text/plain": [
       "CategoricalDtype(categories=['K', 'M', 'Q', 'R', 'X'], ordered=False)"
      ]
     },
     "execution_count": 78,
     "metadata": {},
     "output_type": "execute_result"
    }
   ],
   "source": [
    "boro_ser_cat.dtype\n",
    "# CategoricalDtype(categories=['K', 'M', 'Q', 'R', 'X'], ordered=False)"
   ]
  },
  {
   "cell_type": "markdown",
   "metadata": {},
   "source": [
    "Now let's select the corresponding codes from the borough series, and assign it to `boro_series_codes`."
   ]
  },
  {
   "cell_type": "code",
   "execution_count": 80,
   "metadata": {},
   "outputs": [
    {
     "data": {
      "text/plain": [
       "0    96\n",
       "4    80\n",
       "1    77\n",
       "2    60\n",
       "3    10\n",
       "dtype: int64"
      ]
     },
     "execution_count": 80,
     "metadata": {},
     "output_type": "execute_result"
    }
   ],
   "source": [
    "boro_series_codes = boro_ser_cat.cat.codes\n",
    "boro_series_codes.value_counts()\n",
    "\n",
    "# 0    96\n",
    "# 4    80\n",
    "# 1    77\n",
    "# 2    60\n",
    "# 3    10\n",
    "# dtype: int64"
   ]
  },
  {
   "cell_type": "markdown",
   "metadata": {},
   "source": [
    "Ok, now let's replace the `boro` column in the `X` dataframe with the values in `boro_series_codes`."
   ]
  },
  {
   "cell_type": "code",
   "execution_count": 81,
   "metadata": {},
   "outputs": [],
   "source": [
    "X = X.assign(boro = boro_series_codes)"
   ]
  },
  {
   "cell_type": "code",
   "execution_count": 82,
   "metadata": {},
   "outputs": [
    {
     "data": {
      "text/plain": [
       "boro                  int8\n",
       "total_students       int64\n",
       "graduation_rate    float64\n",
       "attendance_rate    float64\n",
       "dtype: object"
      ]
     },
     "execution_count": 82,
     "metadata": {},
     "output_type": "execute_result"
    }
   ],
   "source": [
    "X.dtypes\n",
    "\n",
    "# boro                  int8\n",
    "# total_students       int64\n",
    "# graduation_rate    float64\n",
    "# attendance_rate    float64\n",
    "# dtype: object"
   ]
  },
  {
   "cell_type": "markdown",
   "metadata": {},
   "source": [
    "Now we can see that all of our features are represented as numbers."
   ]
  },
  {
   "cell_type": "code",
   "execution_count": 83,
   "metadata": {},
   "outputs": [
    {
     "data": {
      "text/plain": [
       "dtype('O')"
      ]
     },
     "execution_count": 83,
     "metadata": {},
     "output_type": "execute_result"
    }
   ],
   "source": [
    "y.dtype"
   ]
  },
  {
   "cell_type": "markdown",
   "metadata": {},
   "source": [
    "However, our `y` values are still a string.  We'll do this one for you."
   ]
  },
  {
   "cell_type": "code",
   "execution_count": 84,
   "metadata": {},
   "outputs": [],
   "source": [
    "y = y.astype('float64')"
   ]
  },
  {
   "cell_type": "code",
   "execution_count": 85,
   "metadata": {},
   "outputs": [
    {
     "data": {
      "text/plain": [
       "dtype('float64')"
      ]
     },
     "execution_count": 85,
     "metadata": {},
     "output_type": "execute_result"
    }
   ],
   "source": [
    "y.dtype"
   ]
  },
  {
   "cell_type": "markdown",
   "metadata": {},
   "source": [
    "### Training a model"
   ]
  },
  {
   "cell_type": "markdown",
   "metadata": {},
   "source": [
    "Now that all of our data is properly formatted, let's train a model."
   ]
  },
  {
   "cell_type": "markdown",
   "metadata": {},
   "source": [
    "> Our target values can be any number in a range, so we use the `DecisionTreeRegressor`."
   ]
  },
  {
   "cell_type": "code",
   "execution_count": 87,
   "metadata": {},
   "outputs": [],
   "source": [
    "from sklearn.tree import DecisionTreeRegressor"
   ]
  },
  {
   "cell_type": "markdown",
   "metadata": {},
   "source": [
    "Now create a new `DecisionTreeRegressor` model and assign it to the variable `model`."
   ]
  },
  {
   "cell_type": "code",
   "execution_count": 88,
   "metadata": {},
   "outputs": [],
   "source": [
    "model = DecisionTreeRegressor()"
   ]
  },
  {
   "cell_type": "markdown",
   "metadata": {},
   "source": [
    "Finally, fit the model with the features and target values."
   ]
  },
  {
   "cell_type": "code",
   "execution_count": 89,
   "metadata": {},
   "outputs": [
    {
     "data": {
      "text/plain": [
       "DecisionTreeRegressor(criterion='mse', max_depth=None, max_features=None,\n",
       "                      max_leaf_nodes=None, min_impurity_decrease=0.0,\n",
       "                      min_impurity_split=None, min_samples_leaf=1,\n",
       "                      min_samples_split=2, min_weight_fraction_leaf=0.0,\n",
       "                      presort=False, random_state=None, splitter='best')"
      ]
     },
     "execution_count": 89,
     "metadata": {},
     "output_type": "execute_result"
    }
   ],
   "source": [
    "model.fit(X, y)"
   ]
  },
  {
   "cell_type": "code",
   "execution_count": 90,
   "metadata": {},
   "outputs": [
    {
     "data": {
      "image/svg+xml": [
       "<?xml version=\"1.0\" encoding=\"UTF-8\" standalone=\"no\"?>\n",
       "<!DOCTYPE svg PUBLIC \"-//W3C//DTD SVG 1.1//EN\"\n",
       " \"http://www.w3.org/Graphics/SVG/1.1/DTD/svg11.dtd\">\n",
       "<!-- Generated by graphviz version 2.43.0 (0)\n",
       " -->\n",
       "<!-- Title: Tree Pages: 1 -->\n",
       "<svg width=\"671pt\" height=\"344pt\"\n",
       " viewBox=\"0.00 0.00 671.07 344.00\" xmlns=\"http://www.w3.org/2000/svg\" xmlns:xlink=\"http://www.w3.org/1999/xlink\">\n",
       "<g id=\"graph0\" class=\"graph\" transform=\"scale(1 1) rotate(0) translate(4 340)\">\n",
       "<title>Tree</title>\n",
       "<polygon fill=\"white\" stroke=\"transparent\" points=\"-4,4 -4,-340 667.07,-340 667.07,4 -4,4\"/>\n",
       "<!-- 0 -->\n",
       "<g id=\"node1\" class=\"node\">\n",
       "<title>0</title>\n",
       "<polygon fill=\"none\" stroke=\"black\" points=\"422.19,-336 263.95,-336 263.95,-272 422.19,-272 422.19,-336\"/>\n",
       "<text text-anchor=\"middle\" x=\"343.07\" y=\"-320.8\" font-family=\"Times,serif\" font-size=\"14.00\">attendance_rate &lt;= 0.945</text>\n",
       "<text text-anchor=\"middle\" x=\"343.07\" y=\"-306.8\" font-family=\"Times,serif\" font-size=\"14.00\">mse = 4634.117</text>\n",
       "<text text-anchor=\"middle\" x=\"343.07\" y=\"-292.8\" font-family=\"Times,serif\" font-size=\"14.00\">samples = 323</text>\n",
       "<text text-anchor=\"middle\" x=\"343.07\" y=\"-278.8\" font-family=\"Times,serif\" font-size=\"14.00\">value = 422.223</text>\n",
       "</g>\n",
       "<!-- 1 -->\n",
       "<g id=\"node2\" class=\"node\">\n",
       "<title>1</title>\n",
       "<polygon fill=\"none\" stroke=\"black\" points=\"329.13,-236 181.01,-236 181.01,-172 329.13,-172 329.13,-236\"/>\n",
       "<text text-anchor=\"middle\" x=\"255.07\" y=\"-220.8\" font-family=\"Times,serif\" font-size=\"14.00\">total_students &lt;= 557.5</text>\n",
       "<text text-anchor=\"middle\" x=\"255.07\" y=\"-206.8\" font-family=\"Times,serif\" font-size=\"14.00\">mse = 2159.412</text>\n",
       "<text text-anchor=\"middle\" x=\"255.07\" y=\"-192.8\" font-family=\"Times,serif\" font-size=\"14.00\">samples = 295</text>\n",
       "<text text-anchor=\"middle\" x=\"255.07\" y=\"-178.8\" font-family=\"Times,serif\" font-size=\"14.00\">value = 408.037</text>\n",
       "</g>\n",
       "<!-- 0&#45;&gt;1 -->\n",
       "<g id=\"edge1\" class=\"edge\">\n",
       "<title>0&#45;&gt;1</title>\n",
       "<path fill=\"none\" stroke=\"black\" d=\"M315.23,-271.99C307.2,-263.06 298.34,-253.19 289.95,-243.84\"/>\n",
       "<polygon fill=\"black\" stroke=\"black\" points=\"292.32,-241.24 283.03,-236.14 287.11,-245.92 292.32,-241.24\"/>\n",
       "<text text-anchor=\"middle\" x=\"281.69\" y=\"-256.91\" font-family=\"Times,serif\" font-size=\"14.00\">True</text>\n",
       "</g>\n",
       "<!-- 582 -->\n",
       "<g id=\"node9\" class=\"node\">\n",
       "<title>582</title>\n",
       "<polygon fill=\"none\" stroke=\"black\" points=\"508.63,-236 353.51,-236 353.51,-172 508.63,-172 508.63,-236\"/>\n",
       "<text text-anchor=\"middle\" x=\"431.07\" y=\"-220.8\" font-family=\"Times,serif\" font-size=\"14.00\">total_students &lt;= 2902.0</text>\n",
       "<text text-anchor=\"middle\" x=\"431.07\" y=\"-206.8\" font-family=\"Times,serif\" font-size=\"14.00\">mse = 6249.79</text>\n",
       "<text text-anchor=\"middle\" x=\"431.07\" y=\"-192.8\" font-family=\"Times,serif\" font-size=\"14.00\">samples = 28</text>\n",
       "<text text-anchor=\"middle\" x=\"431.07\" y=\"-178.8\" font-family=\"Times,serif\" font-size=\"14.00\">value = 571.679</text>\n",
       "</g>\n",
       "<!-- 0&#45;&gt;582 -->\n",
       "<g id=\"edge8\" class=\"edge\">\n",
       "<title>0&#45;&gt;582</title>\n",
       "<path fill=\"none\" stroke=\"black\" d=\"M370.91,-271.99C378.94,-263.06 387.8,-253.19 396.19,-243.84\"/>\n",
       "<polygon fill=\"black\" stroke=\"black\" points=\"399.03,-245.92 403.11,-236.14 393.82,-241.24 399.03,-245.92\"/>\n",
       "<text text-anchor=\"middle\" x=\"404.45\" y=\"-256.91\" font-family=\"Times,serif\" font-size=\"14.00\">False</text>\n",
       "</g>\n",
       "<!-- 2 -->\n",
       "<g id=\"node3\" class=\"node\">\n",
       "<title>2</title>\n",
       "<polygon fill=\"none\" stroke=\"black\" points=\"158.21,-136 -0.07,-136 -0.07,-72 158.21,-72 158.21,-136\"/>\n",
       "<text text-anchor=\"middle\" x=\"79.07\" y=\"-120.8\" font-family=\"Times,serif\" font-size=\"14.00\">graduation_rate &lt;= 0.965</text>\n",
       "<text text-anchor=\"middle\" x=\"79.07\" y=\"-106.8\" font-family=\"Times,serif\" font-size=\"14.00\">mse = 1304.371</text>\n",
       "<text text-anchor=\"middle\" x=\"79.07\" y=\"-92.8\" font-family=\"Times,serif\" font-size=\"14.00\">samples = 190</text>\n",
       "<text text-anchor=\"middle\" x=\"79.07\" y=\"-78.8\" font-family=\"Times,serif\" font-size=\"14.00\">value = 389.626</text>\n",
       "</g>\n",
       "<!-- 1&#45;&gt;2 -->\n",
       "<g id=\"edge2\" class=\"edge\">\n",
       "<title>1&#45;&gt;2</title>\n",
       "<path fill=\"none\" stroke=\"black\" d=\"M199.38,-171.99C181.73,-162.16 162.06,-151.21 143.82,-141.05\"/>\n",
       "<polygon fill=\"black\" stroke=\"black\" points=\"145.44,-137.95 135,-136.14 142.03,-144.07 145.44,-137.95\"/>\n",
       "</g>\n",
       "<!-- 377 -->\n",
       "<g id=\"node6\" class=\"node\">\n",
       "<title>377</title>\n",
       "<polygon fill=\"none\" stroke=\"black\" points=\"334.19,-136 175.95,-136 175.95,-72 334.19,-72 334.19,-136\"/>\n",
       "<text text-anchor=\"middle\" x=\"255.07\" y=\"-120.8\" font-family=\"Times,serif\" font-size=\"14.00\">attendance_rate &lt;= 0.915</text>\n",
       "<text text-anchor=\"middle\" x=\"255.07\" y=\"-106.8\" font-family=\"Times,serif\" font-size=\"14.00\">mse = 1983.371</text>\n",
       "<text text-anchor=\"middle\" x=\"255.07\" y=\"-92.8\" font-family=\"Times,serif\" font-size=\"14.00\">samples = 105</text>\n",
       "<text text-anchor=\"middle\" x=\"255.07\" y=\"-78.8\" font-family=\"Times,serif\" font-size=\"14.00\">value = 441.352</text>\n",
       "</g>\n",
       "<!-- 1&#45;&gt;377 -->\n",
       "<g id=\"edge5\" class=\"edge\">\n",
       "<title>1&#45;&gt;377</title>\n",
       "<path fill=\"none\" stroke=\"black\" d=\"M255.07,-171.99C255.07,-163.86 255.07,-154.96 255.07,-146.38\"/>\n",
       "<polygon fill=\"black\" stroke=\"black\" points=\"258.57,-146.14 255.07,-136.14 251.57,-146.14 258.57,-146.14\"/>\n",
       "</g>\n",
       "<!-- 3 -->\n",
       "<g id=\"node4\" class=\"node\">\n",
       "<title>3</title>\n",
       "<polygon fill=\"none\" stroke=\"black\" points=\"104.07,-36 50.07,-36 50.07,0 104.07,0 104.07,-36\"/>\n",
       "<text text-anchor=\"middle\" x=\"77.07\" y=\"-13.8\" font-family=\"Times,serif\" font-size=\"14.00\">(...)</text>\n",
       "</g>\n",
       "<!-- 2&#45;&gt;3 -->\n",
       "<g id=\"edge3\" class=\"edge\">\n",
       "<title>2&#45;&gt;3</title>\n",
       "<path fill=\"none\" stroke=\"black\" d=\"M78.33,-71.72C78.13,-63.42 77.92,-54.52 77.72,-46.44\"/>\n",
       "<polygon fill=\"black\" stroke=\"black\" points=\"81.22,-46.32 77.48,-36.4 74.22,-46.49 81.22,-46.32\"/>\n",
       "</g>\n",
       "<!-- 362 -->\n",
       "<g id=\"node5\" class=\"node\">\n",
       "<title>362</title>\n",
       "<polygon fill=\"none\" stroke=\"black\" points=\"176.07,-36 122.07,-36 122.07,0 176.07,0 176.07,-36\"/>\n",
       "<text text-anchor=\"middle\" x=\"149.07\" y=\"-13.8\" font-family=\"Times,serif\" font-size=\"14.00\">(...)</text>\n",
       "</g>\n",
       "<!-- 2&#45;&gt;362 -->\n",
       "<g id=\"edge4\" class=\"edge\">\n",
       "<title>2&#45;&gt;362</title>\n",
       "<path fill=\"none\" stroke=\"black\" d=\"M105.14,-71.72C112.68,-62.67 120.81,-52.91 128.01,-44.28\"/>\n",
       "<polygon fill=\"black\" stroke=\"black\" points=\"130.85,-46.33 134.57,-36.4 125.48,-41.85 130.85,-46.33\"/>\n",
       "</g>\n",
       "<!-- 378 -->\n",
       "<g id=\"node7\" class=\"node\">\n",
       "<title>378</title>\n",
       "<polygon fill=\"none\" stroke=\"black\" points=\"265.07,-36 211.07,-36 211.07,0 265.07,0 265.07,-36\"/>\n",
       "<text text-anchor=\"middle\" x=\"238.07\" y=\"-13.8\" font-family=\"Times,serif\" font-size=\"14.00\">(...)</text>\n",
       "</g>\n",
       "<!-- 377&#45;&gt;378 -->\n",
       "<g id=\"edge6\" class=\"edge\">\n",
       "<title>377&#45;&gt;378</title>\n",
       "<path fill=\"none\" stroke=\"black\" d=\"M248.74,-71.72C247.06,-63.42 245.26,-54.52 243.62,-46.44\"/>\n",
       "<polygon fill=\"black\" stroke=\"black\" points=\"247.01,-45.51 241.59,-36.4 240.15,-46.9 247.01,-45.51\"/>\n",
       "</g>\n",
       "<!-- 523 -->\n",
       "<g id=\"node8\" class=\"node\">\n",
       "<title>523</title>\n",
       "<polygon fill=\"none\" stroke=\"black\" points=\"337.07,-36 283.07,-36 283.07,0 337.07,0 337.07,-36\"/>\n",
       "<text text-anchor=\"middle\" x=\"310.07\" y=\"-13.8\" font-family=\"Times,serif\" font-size=\"14.00\">(...)</text>\n",
       "</g>\n",
       "<!-- 377&#45;&gt;523 -->\n",
       "<g id=\"edge7\" class=\"edge\">\n",
       "<title>377&#45;&gt;523</title>\n",
       "<path fill=\"none\" stroke=\"black\" d=\"M275.55,-71.72C281.35,-62.86 287.6,-53.31 293.17,-44.81\"/>\n",
       "<polygon fill=\"black\" stroke=\"black\" points=\"296.12,-46.69 298.67,-36.4 290.27,-42.85 296.12,-46.69\"/>\n",
       "</g>\n",
       "<!-- 583 -->\n",
       "<g id=\"node10\" class=\"node\">\n",
       "<title>583</title>\n",
       "<polygon fill=\"none\" stroke=\"black\" points=\"510.21,-136 351.93,-136 351.93,-72 510.21,-72 510.21,-136\"/>\n",
       "<text text-anchor=\"middle\" x=\"431.07\" y=\"-120.8\" font-family=\"Times,serif\" font-size=\"14.00\">graduation_rate &lt;= 0.985</text>\n",
       "<text text-anchor=\"middle\" x=\"431.07\" y=\"-106.8\" font-family=\"Times,serif\" font-size=\"14.00\">mse = 4871.12</text>\n",
       "<text text-anchor=\"middle\" x=\"431.07\" y=\"-92.8\" font-family=\"Times,serif\" font-size=\"14.00\">samples = 25</text>\n",
       "<text text-anchor=\"middle\" x=\"431.07\" y=\"-78.8\" font-family=\"Times,serif\" font-size=\"14.00\">value = 557.0</text>\n",
       "</g>\n",
       "<!-- 582&#45;&gt;583 -->\n",
       "<g id=\"edge9\" class=\"edge\">\n",
       "<title>582&#45;&gt;583</title>\n",
       "<path fill=\"none\" stroke=\"black\" d=\"M431.07,-171.99C431.07,-163.86 431.07,-154.96 431.07,-146.38\"/>\n",
       "<polygon fill=\"black\" stroke=\"black\" points=\"434.57,-146.14 431.07,-136.14 427.57,-146.14 434.57,-146.14\"/>\n",
       "</g>\n",
       "<!-- 632 -->\n",
       "<g id=\"node13\" class=\"node\">\n",
       "<title>632</title>\n",
       "<polygon fill=\"none\" stroke=\"black\" points=\"627.52,-136 528.62,-136 528.62,-72 627.52,-72 627.52,-136\"/>\n",
       "<text text-anchor=\"middle\" x=\"578.07\" y=\"-120.8\" font-family=\"Times,serif\" font-size=\"14.00\">boro &lt;= 0.5</text>\n",
       "<text text-anchor=\"middle\" x=\"578.07\" y=\"-106.8\" font-family=\"Times,serif\" font-size=\"14.00\">mse = 980.667</text>\n",
       "<text text-anchor=\"middle\" x=\"578.07\" y=\"-92.8\" font-family=\"Times,serif\" font-size=\"14.00\">samples = 3</text>\n",
       "<text text-anchor=\"middle\" x=\"578.07\" y=\"-78.8\" font-family=\"Times,serif\" font-size=\"14.00\">value = 694.0</text>\n",
       "</g>\n",
       "<!-- 582&#45;&gt;632 -->\n",
       "<g id=\"edge12\" class=\"edge\">\n",
       "<title>582&#45;&gt;632</title>\n",
       "<path fill=\"none\" stroke=\"black\" d=\"M477.58,-171.99C491.93,-162.43 507.86,-151.81 522.74,-141.89\"/>\n",
       "<polygon fill=\"black\" stroke=\"black\" points=\"524.98,-144.6 531.36,-136.14 521.09,-138.78 524.98,-144.6\"/>\n",
       "</g>\n",
       "<!-- 584 -->\n",
       "<g id=\"node11\" class=\"node\">\n",
       "<title>584</title>\n",
       "<polygon fill=\"none\" stroke=\"black\" points=\"433.07,-36 379.07,-36 379.07,0 433.07,0 433.07,-36\"/>\n",
       "<text text-anchor=\"middle\" x=\"406.07\" y=\"-13.8\" font-family=\"Times,serif\" font-size=\"14.00\">(...)</text>\n",
       "</g>\n",
       "<!-- 583&#45;&gt;584 -->\n",
       "<g id=\"edge10\" class=\"edge\">\n",
       "<title>583&#45;&gt;584</title>\n",
       "<path fill=\"none\" stroke=\"black\" d=\"M421.76,-71.72C419.26,-63.33 416.58,-54.32 414.15,-46.16\"/>\n",
       "<polygon fill=\"black\" stroke=\"black\" points=\"417.46,-44.99 411.25,-36.4 410.75,-46.99 417.46,-44.99\"/>\n",
       "</g>\n",
       "<!-- 599 -->\n",
       "<g id=\"node12\" class=\"node\">\n",
       "<title>599</title>\n",
       "<polygon fill=\"none\" stroke=\"black\" points=\"505.07,-36 451.07,-36 451.07,0 505.07,0 505.07,-36\"/>\n",
       "<text text-anchor=\"middle\" x=\"478.07\" y=\"-13.8\" font-family=\"Times,serif\" font-size=\"14.00\">(...)</text>\n",
       "</g>\n",
       "<!-- 583&#45;&gt;599 -->\n",
       "<g id=\"edge11\" class=\"edge\">\n",
       "<title>583&#45;&gt;599</title>\n",
       "<path fill=\"none\" stroke=\"black\" d=\"M448.57,-71.72C453.43,-63.05 458.65,-53.72 463.33,-45.35\"/>\n",
       "<polygon fill=\"black\" stroke=\"black\" points=\"466.5,-46.84 468.33,-36.4 460.39,-43.42 466.5,-46.84\"/>\n",
       "</g>\n",
       "<!-- 633 -->\n",
       "<g id=\"node14\" class=\"node\">\n",
       "<title>633</title>\n",
       "<polygon fill=\"none\" stroke=\"black\" points=\"591.07,-36 537.07,-36 537.07,0 591.07,0 591.07,-36\"/>\n",
       "<text text-anchor=\"middle\" x=\"564.07\" y=\"-13.8\" font-family=\"Times,serif\" font-size=\"14.00\">(...)</text>\n",
       "</g>\n",
       "<!-- 632&#45;&gt;633 -->\n",
       "<g id=\"edge13\" class=\"edge\">\n",
       "<title>632&#45;&gt;633</title>\n",
       "<path fill=\"none\" stroke=\"black\" d=\"M572.86,-71.72C571.47,-63.42 569.99,-54.52 568.64,-46.44\"/>\n",
       "<polygon fill=\"black\" stroke=\"black\" points=\"572.07,-45.69 566.97,-36.4 565.16,-46.84 572.07,-45.69\"/>\n",
       "</g>\n",
       "<!-- 634 -->\n",
       "<g id=\"node15\" class=\"node\">\n",
       "<title>634</title>\n",
       "<polygon fill=\"none\" stroke=\"black\" points=\"663.07,-36 609.07,-36 609.07,0 663.07,0 663.07,-36\"/>\n",
       "<text text-anchor=\"middle\" x=\"636.07\" y=\"-13.8\" font-family=\"Times,serif\" font-size=\"14.00\">(...)</text>\n",
       "</g>\n",
       "<!-- 632&#45;&gt;634 -->\n",
       "<g id=\"edge14\" class=\"edge\">\n",
       "<title>632&#45;&gt;634</title>\n",
       "<path fill=\"none\" stroke=\"black\" d=\"M599.67,-71.72C605.79,-62.86 612.38,-53.31 618.25,-44.81\"/>\n",
       "<polygon fill=\"black\" stroke=\"black\" points=\"621.25,-46.62 624.05,-36.4 615.49,-42.65 621.25,-46.62\"/>\n",
       "</g>\n",
       "</g>\n",
       "</svg>\n"
      ],
      "text/plain": [
       "<graphviz.files.Source at 0x1a20cbf090>"
      ]
     },
     "execution_count": 90,
     "metadata": {},
     "output_type": "execute_result"
    }
   ],
   "source": [
    "from sklearn import tree\n",
    "from IPython.display import SVG, display\n",
    "from graphviz import Source \n",
    "\n",
    "Source(tree.export_graphviz(model, out_file = None, feature_names=X.columns, max_depth = 2))"
   ]
  },
  {
   "cell_type": "code",
   "execution_count": 91,
   "metadata": {},
   "outputs": [
    {
     "data": {
      "text/html": [
       "<div>\n",
       "<style scoped>\n",
       "    .dataframe tbody tr th:only-of-type {\n",
       "        vertical-align: middle;\n",
       "    }\n",
       "\n",
       "    .dataframe tbody tr th {\n",
       "        vertical-align: top;\n",
       "    }\n",
       "\n",
       "    .dataframe thead th {\n",
       "        text-align: right;\n",
       "    }\n",
       "</style>\n",
       "<table border=\"1\" class=\"dataframe\">\n",
       "  <thead>\n",
       "    <tr style=\"text-align: right;\">\n",
       "      <th></th>\n",
       "      <th>boro</th>\n",
       "      <th>total_students</th>\n",
       "      <th>graduation_rate</th>\n",
       "      <th>attendance_rate</th>\n",
       "    </tr>\n",
       "  </thead>\n",
       "  <tbody>\n",
       "    <tr>\n",
       "      <td>0</td>\n",
       "      <td>1</td>\n",
       "      <td>171</td>\n",
       "      <td>0.66</td>\n",
       "      <td>0.87</td>\n",
       "    </tr>\n",
       "    <tr>\n",
       "      <td>1</td>\n",
       "      <td>1</td>\n",
       "      <td>465</td>\n",
       "      <td>0.90</td>\n",
       "      <td>0.93</td>\n",
       "    </tr>\n",
       "  </tbody>\n",
       "</table>\n",
       "</div>"
      ],
      "text/plain": [
       "   boro  total_students  graduation_rate  attendance_rate\n",
       "0     1             171             0.66             0.87\n",
       "1     1             465             0.90             0.93"
      ]
     },
     "execution_count": 91,
     "metadata": {},
     "output_type": "execute_result"
    }
   ],
   "source": [
    "X[:2]"
   ]
  },
  {
   "cell_type": "code",
   "execution_count": 103,
   "metadata": {},
   "outputs": [],
   "source": [
    "schools = [\n",
    "    [3, 200, 0.66,0.70],\n",
    "    [2, 300, 0.90,0.95]\n",
    "]"
   ]
  },
  {
   "cell_type": "code",
   "execution_count": 104,
   "metadata": {},
   "outputs": [
    {
     "data": {
      "text/plain": [
       "array([315., 421.])"
      ]
     },
     "execution_count": 104,
     "metadata": {},
     "output_type": "execute_result"
    }
   ],
   "source": [
    "model.predict(schools)\n",
    "# array([315., 421.])"
   ]
  },
  {
   "cell_type": "markdown",
   "metadata": {},
   "source": [
    "### Summary"
   ]
  },
  {
   "cell_type": "markdown",
   "metadata": {},
   "source": [
    "In this lab, we practiced using pandas to select specific columns, and then using the category datatype to perform feature engineering.  Finally, we trained a machine learning model with sklearn.  Great job :)"
   ]
  },
  {
   "cell_type": "markdown",
   "metadata": {},
   "source": [
    "<center>\n",
    "<a href=\"https://www.jigsawlabs.io/free\" style=\"position: center\"><img src=\"jigsaw-main.png\" width=\"15%\" style=\"text-align: center\"></a>\n",
    "</center>"
   ]
  },
  {
   "cell_type": "markdown",
   "metadata": {},
   "source": [
    "### Answers"
   ]
  },
  {
   "cell_type": "code",
   "execution_count": null,
   "metadata": {},
   "outputs": [],
   "source": [
    "df_columns = df.columns\n",
    "df_columns"
   ]
  },
  {
   "cell_type": "code",
   "execution_count": null,
   "metadata": {},
   "outputs": [],
   "source": [
    "y = df.math_avg"
   ]
  },
  {
   "cell_type": "code",
   "execution_count": null,
   "metadata": {},
   "outputs": [],
   "source": [
    "boro_ser_cat = boro_series.astype('category')"
   ]
  },
  {
   "cell_type": "code",
   "execution_count": null,
   "metadata": {},
   "outputs": [],
   "source": [
    "X = X.assign(boro = boro_series_codes)"
   ]
  },
  {
   "cell_type": "code",
   "execution_count": null,
   "metadata": {},
   "outputs": [],
   "source": [
    "model = DecisionTreeRegressor()"
   ]
  },
  {
   "cell_type": "code",
   "execution_count": null,
   "metadata": {},
   "outputs": [],
   "source": [
    "model.fit(X, y)"
   ]
  },
  {
   "cell_type": "code",
   "execution_count": null,
   "metadata": {},
   "outputs": [],
   "source": [
    "model.predict(schools)"
   ]
  }
 ],
 "metadata": {
  "kernelspec": {
   "display_name": "Python 3",
   "language": "python",
   "name": "python3"
  },
  "language_info": {
   "codemirror_mode": {
    "name": "ipython",
    "version": 3
   },
   "file_extension": ".py",
   "mimetype": "text/x-python",
   "name": "python",
   "nbconvert_exporter": "python",
   "pygments_lexer": "ipython3",
   "version": "3.8.6"
  }
 },
 "nbformat": 4,
 "nbformat_minor": 4
}
