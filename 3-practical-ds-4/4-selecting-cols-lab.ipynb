{
 "cells": [
  {
   "cell_type": "markdown",
   "metadata": {},
   "source": [
    "# Selecting Columns Lab"
   ]
  },
  {
   "cell_type": "markdown",
   "metadata": {},
   "source": [
    "### Introduction"
   ]
  },
  {
   "cell_type": "markdown",
   "metadata": {},
   "source": [
    "In this lesson, we'll get some practice working with the pandas library.  We'll use pandas to both load up our data and select specific columns.  We'll be doing so by working with some [real SAT data](https://data.cityofnewyork.us/Education/2012-SAT-Results/f9bf-2cp4) from New York City schools."
   ]
  },
  {
   "cell_type": "markdown",
   "metadata": {},
   "source": [
    "### Loading and Exploring the Data"
   ]
  },
  {
   "cell_type": "markdown",
   "metadata": {},
   "source": [
    "Let's begin by loading our data into pandas and assigning it to the variable `high_school_df`."
   ]
  },
  {
   "cell_type": "markdown",
   "metadata": {},
   "source": [
    "> Pass the `url` to the `read_csv` method to load up the csv data into a dataframe."
   ]
  },
  {
   "cell_type": "code",
   "execution_count": 3,
   "metadata": {},
   "outputs": [],
   "source": [
    "import pandas as pd\n",
    "url = 'https://raw.githubusercontent.com/jigsawlabs-student/decision-trees-intro/master/3-practical-ds-4/nyc_hs_sat.csv'\n",
    "high_school_df = pd.read_csv()"
   ]
  },
  {
   "cell_type": "markdown",
   "metadata": {},
   "source": [
    "> Press `shift + return` on the cell above. You should see that the first two rows look like those in the cell below."
   ]
  },
  {
   "cell_type": "code",
   "execution_count": null,
   "metadata": {},
   "outputs": [],
   "source": [
    "high_school_df[:2]\n",
    "# \tdbn\tname\tnum_test_takers\treading_avg\tmath_avg\twriting_score\tboro\ttotal_students\tgraduation_rate\tattendance_rate\tcollege_career_rate\n",
    "# 0\t01M292\tHENRY STREET SCHOOL FOR INTERNATIONAL STUDIES\t29.0\t355.0\t404.0\t363.0\tM\t171\t0.66\t0.87\t0.36\n",
    "# 1\t01M448\tUNIVERSITY NEIGHBORHOOD HIGH SCHOOL\t91.0\t383.0\t423.0\t366.0\tM\t465\t0.90\t0.93\t0.70"
   ]
  },
  {
   "cell_type": "markdown",
   "metadata": {},
   "source": [
    "Ok, now let's take a look at the columns that were loaded.  Use the correct method to view the list of columns of the `high_school_df` dataframe."
   ]
  },
  {
   "cell_type": "code",
   "execution_count": 1,
   "metadata": {},
   "outputs": [],
   "source": [
    "df_cols = None\n",
    "\n",
    "df_cols\n",
    "# Index(['dbn', 'name', 'num_test_takers', 'reading_avg',\n",
    "#        'math_avg', 'writing_score', 'boro', 'total_students',\n",
    "#        'graduation_rate', 'attendance_rate', 'college_career_rate'],\n",
    "#       dtype='object')"
   ]
  },
  {
   "cell_type": "markdown",
   "metadata": {},
   "source": [
    "We can see some initial rows of data by applying the `slice` method, like we would in Python."
   ]
  },
  {
   "cell_type": "code",
   "execution_count": 2,
   "metadata": {},
   "outputs": [],
   "source": [
    "# high_school_df[:3]"
   ]
  },
  {
   "cell_type": "markdown",
   "metadata": {},
   "source": [
    "Now let's practice selecting columns from our pandas dataframe.  Begin by selecting the `name` column from the `high_school_df` dataframe and assign it to the variable, `high_school_name`. "
   ]
  },
  {
   "cell_type": "code",
   "execution_count": 3,
   "metadata": {},
   "outputs": [],
   "source": [
    "high_school_name = None"
   ]
  },
  {
   "cell_type": "code",
   "execution_count": 16,
   "metadata": {},
   "outputs": [
    {
     "data": {
      "text/plain": [
       "0    HENRY STREET SCHOOL FOR INTERNATIONAL STUDIES\n",
       "1              UNIVERSITY NEIGHBORHOOD HIGH SCHOOL\n",
       "Name: name, dtype: object"
      ]
     },
     "execution_count": 16,
     "metadata": {},
     "output_type": "execute_result"
    }
   ],
   "source": [
    "high_school_name[:2]\n",
    "\n",
    "# 0    HENRY STREET SCHOOL FOR INTERNATIONAL STUDIES\n",
    "# 1              UNIVERSITY NEIGHBORHOOD HIGH SCHOOL\n",
    "# Name: name, dtype: object\n"
   ]
  },
  {
   "cell_type": "markdown",
   "metadata": {},
   "source": [
    "Ok, now let's practice selecting multiple columns from a dataframe.  Let's select the columns related mainly to the SAT score.  So let's select the `num_test_takers, reading_avg, math_avg,` `writing_score` columns.  Assign them to the variable `sat_df`."
   ]
  },
  {
   "cell_type": "code",
   "execution_count": 5,
   "metadata": {},
   "outputs": [],
   "source": [
    "sat_df = None"
   ]
  },
  {
   "cell_type": "code",
   "execution_count": 20,
   "metadata": {},
   "outputs": [
    {
     "data": {
      "text/html": [
       "<div>\n",
       "<style scoped>\n",
       "    .dataframe tbody tr th:only-of-type {\n",
       "        vertical-align: middle;\n",
       "    }\n",
       "\n",
       "    .dataframe tbody tr th {\n",
       "        vertical-align: top;\n",
       "    }\n",
       "\n",
       "    .dataframe thead th {\n",
       "        text-align: right;\n",
       "    }\n",
       "</style>\n",
       "<table border=\"1\" class=\"dataframe\">\n",
       "  <thead>\n",
       "    <tr style=\"text-align: right;\">\n",
       "      <th></th>\n",
       "      <th>reading_avg</th>\n",
       "      <th>math_avg</th>\n",
       "      <th>writing_score</th>\n",
       "    </tr>\n",
       "  </thead>\n",
       "  <tbody>\n",
       "    <tr>\n",
       "      <th>0</th>\n",
       "      <td>355.0</td>\n",
       "      <td>404.0</td>\n",
       "      <td>363.0</td>\n",
       "    </tr>\n",
       "    <tr>\n",
       "      <th>1</th>\n",
       "      <td>383.0</td>\n",
       "      <td>423.0</td>\n",
       "      <td>366.0</td>\n",
       "    </tr>\n",
       "    <tr>\n",
       "      <th>2</th>\n",
       "      <td>377.0</td>\n",
       "      <td>402.0</td>\n",
       "      <td>370.0</td>\n",
       "    </tr>\n",
       "  </tbody>\n",
       "</table>\n",
       "</div>"
      ],
      "text/plain": [
       "   reading_avg  math_avg  writing_score\n",
       "0        355.0     404.0          363.0\n",
       "1        383.0     423.0          366.0\n",
       "2        377.0     402.0          370.0"
      ]
     },
     "execution_count": 20,
     "metadata": {},
     "output_type": "execute_result"
    }
   ],
   "source": [
    "sat_df[:3]\n",
    "\n",
    "# \treading_avg\tmath_avg\twriting_score\n",
    "# 0\t355.0\t404.0\t363.0\n",
    "# 1\t383.0\t423.0\t366.0\n",
    "# 2\t377.0\t402.0\t370.0"
   ]
  },
  {
   "cell_type": "markdown",
   "metadata": {},
   "source": [
    "### Summary"
   ]
  },
  {
   "cell_type": "markdown",
   "metadata": {},
   "source": [
    "Great job.  In this lesson we've gotten some practice selecting data from a pandas dataframe.  As we've seen, this is important to specify what features to feed into our machine learning model, and also selecting our target column."
   ]
  },
  {
   "cell_type": "markdown",
   "metadata": {},
   "source": [
    "<center>\n",
    "<a href=\"https://www.jigsawlabs.io/free\" style=\"position: center\"><img src=\"jigsaw-main.png\" width=\"15%\" style=\"text-align: center\"></a>\n",
    "</center>"
   ]
  }
 ],
 "metadata": {
  "kernelspec": {
   "display_name": "Python 3",
   "language": "python",
   "name": "python3"
  },
  "language_info": {
   "codemirror_mode": {
    "name": "ipython",
    "version": 3
   },
   "file_extension": ".py",
   "mimetype": "text/x-python",
   "name": "python",
   "nbconvert_exporter": "python",
   "pygments_lexer": "ipython3",
   "version": "3.8.6"
  }
 },
 "nbformat": 4,
 "nbformat_minor": 4
}
