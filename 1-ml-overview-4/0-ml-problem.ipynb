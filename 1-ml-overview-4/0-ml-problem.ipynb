{
 "cells": [
  {
   "cell_type": "markdown",
   "metadata": {},
   "source": [
    "# The machine learning problem"
   ]
  },
  {
   "cell_type": "markdown",
   "metadata": {},
   "source": [
    "### Introduction"
   ]
  },
  {
   "cell_type": "markdown",
   "metadata": {},
   "source": [
    "What does machine learning really mean?  How does it differ from computer programming?  In this lesson we'll start answering these questions."
   ]
  },
  {
   "cell_type": "markdown",
   "metadata": {},
   "source": [
    "### Why Machine Learning"
   ]
  },
  {
   "cell_type": "markdown",
   "metadata": {},
   "source": [
    "If you already know a bit of coding, you may be wondering why it's worth moving onto machine learning.  Well, the short answer is that machine learning is different."
   ]
  },
  {
   "cell_type": "markdown",
   "metadata": {},
   "source": [
    "Let's start with a problem that we **don't** need machine learning for, but can solve with standard computer programming:"
   ]
  },
  {
   "cell_type": "markdown",
   "metadata": {},
   "source": [
    "> Determine if someone is the correct age for a driver's license.  \n",
    "\n",
    "Here is the code:"
   ]
  },
  {
   "cell_type": "code",
   "execution_count": 4,
   "metadata": {},
   "outputs": [],
   "source": [
    "def legal_driving_age(age):\n",
    "    return age >= 16"
   ]
  },
  {
   "cell_type": "markdown",
   "metadata": {},
   "source": [
    "A problem like this is solved with the following steps:\n",
    "\n",
    "1. **Understand** a real world procedure, or set of rules\n",
    "2. **Translate** those rules into code, so that code can automate that process"
   ]
  },
  {
   "cell_type": "markdown",
   "metadata": {},
   "source": [
    "### The limits of coding"
   ]
  },
  {
   "cell_type": "markdown",
   "metadata": {},
   "source": [
    "Now let's say that we work for an insurance company, and need to figure out how much damage a person will do on the road."
   ]
  },
  {
   "cell_type": "markdown",
   "metadata": {},
   "source": [
    "Do you see the difference?  \n",
    "\n",
    "With the `legal_driving_age` function, we know that the input to the function is `age`, and we can then use a person's age to determine if he can legally drive.  \n",
    "\n",
    "```python\n",
    "def legal_driving_age(age):\n",
    "    return age >= 16\n",
    "```\n",
    "\n",
    "But in trying to code a `damage_by_driver` function, we have questions. \n",
    "\n",
    "```python\n",
    "def damage_by_driver():\n",
    "    pass\n",
    "```"
   ]
  },
  {
   "cell_type": "markdown",
   "metadata": {},
   "source": [
    "1. What are **the inputs** to our function?  \n",
    "For example, should we consider the driver's age, her past driving history, the city she drives in, the car she drives?\n",
    "2. And then how do each of **these factors combine**?  "
   ]
  },
  {
   "cell_type": "markdown",
   "metadata": {},
   "source": [
    "So unlike our classic computer programming problem, \n",
    "\n",
    "> with machine learning, we **do not** start off assuming we know the underlying logic that determines the outcome.  \n",
    "> Instead, we want to use use machine learning **to discover** this underlying logic."
   ]
  },
  {
   "cell_type": "markdown",
   "metadata": {},
   "source": [
    "This is really important.  If we automate a process but the underlying logic isn't well understood, we could be automating something that is just wrong: selling insurance to the wrong drivers, sending promotions to the wrong customers, opening stores in the wrong location."
   ]
  },
  {
   "cell_type": "markdown",
   "metadata": {},
   "source": [
    "And because machine learning helps us understand *underlying logic*, it can be also be used to to answer questions that don't involve as much automation like:\n",
    "\n",
    "* Will there will be a hurricane in Miami on a given day?\n",
    "* Is a cell cancerous?\n",
    "* Should we hire this employee?"
   ]
  },
  {
   "cell_type": "markdown",
   "metadata": {},
   "source": [
    "These are all problems where we can use machine learning to discover the underlying factors, and the influence of these underlying factors to make a prediction.  "
   ]
  },
  {
   "cell_type": "markdown",
   "metadata": {},
   "source": [
    "### Summary\n",
    "\n",
    "To sum up:\n",
    "\n",
    "> With **traditional programming**, we try to *automate a known procedure* by translating it into code.\n",
    "\n",
    "> With **machine learning**, we try to *discover a procedure* that allows us to predict (and often understand) the occurrence of a real world phenomenon.  \n",
    "\n",
    "* Because machine learning helps us to *discover a procedure*, machine learning can **assist** with decisions traditionally made by humans - like assisting a doctor in making a medical diagnosis, or a company decide whether to hire an employee.\n",
    "\n",
    "In the next lesson, we'll jump into our first machine learning algorithm - the decision tree."
   ]
  },
  {
   "cell_type": "markdown",
   "metadata": {},
   "source": [
    "<center>\n",
    "<a href=\"https://www.jigsawlabs.io/free\" style=\"position: center\"><img src=\"https://storage.cloud.google.com/curriculum-assets/curriculum-assets.nosync/mom-files/jigsaw-labs.png\" width=\"15%\" style=\"text-align: center\"></a>\n",
    "</center>"
   ]
  }
 ],
 "metadata": {
  "kernelspec": {
   "display_name": "Python 3",
   "language": "python",
   "name": "python3"
  },
  "language_info": {
   "codemirror_mode": {
    "name": "ipython",
    "version": 3
   },
   "file_extension": ".py",
   "mimetype": "text/x-python",
   "name": "python",
   "nbconvert_exporter": "python",
   "pygments_lexer": "ipython3",
   "version": "3.8.3"
  }
 },
 "nbformat": 4,
 "nbformat_minor": 4
}
