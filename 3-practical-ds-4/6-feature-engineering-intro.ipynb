{
 "cells": [
  {
   "cell_type": "markdown",
   "metadata": {},
   "source": [
    "# Introduction to Feature Engineering"
   ]
  },
  {
   "cell_type": "markdown",
   "metadata": {},
   "source": [
    "## Introduction"
   ]
  },
  {
   "cell_type": "markdown",
   "metadata": {},
   "source": [
    "In the past lessons, we've seen how we can use pandas to select specific columns, and then feed them into a machine learning model.  As we know, we can only feed numerical data into a machine learning model.  \n",
    "\n",
    "There are a lot of different tools and techniques for representing our data as numbers -- called feature engineering.  In this lesson, we'll get an introduction into data engineering by taking data that starts off as text, and using the `category` datatype in pandas to convert it into numbers."
   ]
  },
  {
   "cell_type": "markdown",
   "metadata": {},
   "source": [
    "### Exploring our data"
   ]
  },
  {
   "cell_type": "markdown",
   "metadata": {},
   "source": [
    "In this lesson, let's stick with our imdb movies dataset.  "
   ]
  },
  {
   "cell_type": "code",
   "execution_count": 2,
   "metadata": {},
   "outputs": [
    {
     "data": {
      "text/html": [
       "<div>\n",
       "<style scoped>\n",
       "    .dataframe tbody tr th:only-of-type {\n",
       "        vertical-align: middle;\n",
       "    }\n",
       "\n",
       "    .dataframe tbody tr th {\n",
       "        vertical-align: top;\n",
       "    }\n",
       "\n",
       "    .dataframe thead th {\n",
       "        text-align: right;\n",
       "    }\n",
       "</style>\n",
       "<table border=\"1\" class=\"dataframe\">\n",
       "  <thead>\n",
       "    <tr style=\"text-align: right;\">\n",
       "      <th></th>\n",
       "      <th>title</th>\n",
       "      <th>genre</th>\n",
       "      <th>budget</th>\n",
       "      <th>runtime</th>\n",
       "      <th>year</th>\n",
       "      <th>month</th>\n",
       "      <th>revenue</th>\n",
       "    </tr>\n",
       "  </thead>\n",
       "  <tbody>\n",
       "    <tr>\n",
       "      <td>0</td>\n",
       "      <td>Avatar</td>\n",
       "      <td>Action</td>\n",
       "      <td>237000000</td>\n",
       "      <td>162.0</td>\n",
       "      <td>2009</td>\n",
       "      <td>12</td>\n",
       "      <td>2787965087</td>\n",
       "    </tr>\n",
       "    <tr>\n",
       "      <td>1</td>\n",
       "      <td>Pirates of the Caribbean: At World's End</td>\n",
       "      <td>Adventure</td>\n",
       "      <td>300000000</td>\n",
       "      <td>169.0</td>\n",
       "      <td>2007</td>\n",
       "      <td>5</td>\n",
       "      <td>961000000</td>\n",
       "    </tr>\n",
       "    <tr>\n",
       "      <td>2</td>\n",
       "      <td>Spectre</td>\n",
       "      <td>Action</td>\n",
       "      <td>245000000</td>\n",
       "      <td>148.0</td>\n",
       "      <td>2015</td>\n",
       "      <td>10</td>\n",
       "      <td>880674609</td>\n",
       "    </tr>\n",
       "    <tr>\n",
       "      <td>3</td>\n",
       "      <td>The Dark Knight Rises</td>\n",
       "      <td>Action</td>\n",
       "      <td>250000000</td>\n",
       "      <td>165.0</td>\n",
       "      <td>2012</td>\n",
       "      <td>7</td>\n",
       "      <td>1084939099</td>\n",
       "    </tr>\n",
       "    <tr>\n",
       "      <td>4</td>\n",
       "      <td>John Carter</td>\n",
       "      <td>Action</td>\n",
       "      <td>260000000</td>\n",
       "      <td>132.0</td>\n",
       "      <td>2012</td>\n",
       "      <td>3</td>\n",
       "      <td>284139100</td>\n",
       "    </tr>\n",
       "  </tbody>\n",
       "</table>\n",
       "</div>"
      ],
      "text/plain": [
       "                                      title      genre     budget  runtime  \\\n",
       "0                                    Avatar     Action  237000000    162.0   \n",
       "1  Pirates of the Caribbean: At World's End  Adventure  300000000    169.0   \n",
       "2                                   Spectre     Action  245000000    148.0   \n",
       "3                     The Dark Knight Rises     Action  250000000    165.0   \n",
       "4                               John Carter     Action  260000000    132.0   \n",
       "\n",
       "   year  month     revenue  \n",
       "0  2009     12  2787965087  \n",
       "1  2007      5   961000000  \n",
       "2  2015     10   880674609  \n",
       "3  2012      7  1084939099  \n",
       "4  2012      3   284139100  "
      ]
     },
     "execution_count": 2,
     "metadata": {},
     "output_type": "execute_result"
    }
   ],
   "source": [
    "import pandas as pd\n",
    "movies_df = pd.read_csv('https://raw.githubusercontent.com/jigsawlabs-student/decision-trees-intro/master/3-practical-ds-4/imdb_movies.csv')\n",
    "movies_df[:5]"
   ]
  },
  {
   "cell_type": "markdown",
   "metadata": {},
   "source": [
    "Now in the data above, we'll be using `genre`, `budget`, `runtime`, `year`, and `month` as our feature columns, and `revenue` as the target that we are trying to predict.  We won't use `title` at all in our model, but it's nice to have."
   ]
  },
  {
   "cell_type": "markdown",
   "metadata": {},
   "source": [
    "Let's select `genre`, `budget`, `runtime`, `year` and `month` and assign them to the variable `X`."
   ]
  },
  {
   "cell_type": "code",
   "execution_count": 3,
   "metadata": {},
   "outputs": [],
   "source": [
    "feature_columns = ['genre', 'budget', 'runtime', 'year', 'month']\n",
    "X = movies_df[feature_columns]"
   ]
  },
  {
   "cell_type": "markdown",
   "metadata": {},
   "source": [
    "And we'll select revenue and assign it to the variable `y`."
   ]
  },
  {
   "cell_type": "code",
   "execution_count": 4,
   "metadata": {},
   "outputs": [],
   "source": [
    "y = movies_df.revenue"
   ]
  },
  {
   "cell_type": "markdown",
   "metadata": {},
   "source": [
    "Now let's check that our `X` and `y` variables look good."
   ]
  },
  {
   "cell_type": "code",
   "execution_count": 5,
   "metadata": {},
   "outputs": [
    {
     "data": {
      "text/plain": [
       "0    2787965087\n",
       "1     961000000\n",
       "Name: revenue, dtype: int64"
      ]
     },
     "execution_count": 5,
     "metadata": {},
     "output_type": "execute_result"
    }
   ],
   "source": [
    "y[:2]"
   ]
  },
  {
   "cell_type": "code",
   "execution_count": 6,
   "metadata": {},
   "outputs": [
    {
     "data": {
      "text/html": [
       "<div>\n",
       "<style scoped>\n",
       "    .dataframe tbody tr th:only-of-type {\n",
       "        vertical-align: middle;\n",
       "    }\n",
       "\n",
       "    .dataframe tbody tr th {\n",
       "        vertical-align: top;\n",
       "    }\n",
       "\n",
       "    .dataframe thead th {\n",
       "        text-align: right;\n",
       "    }\n",
       "</style>\n",
       "<table border=\"1\" class=\"dataframe\">\n",
       "  <thead>\n",
       "    <tr style=\"text-align: right;\">\n",
       "      <th></th>\n",
       "      <th>genre</th>\n",
       "      <th>budget</th>\n",
       "      <th>runtime</th>\n",
       "      <th>year</th>\n",
       "      <th>month</th>\n",
       "    </tr>\n",
       "  </thead>\n",
       "  <tbody>\n",
       "    <tr>\n",
       "      <td>0</td>\n",
       "      <td>Action</td>\n",
       "      <td>237000000</td>\n",
       "      <td>162.0</td>\n",
       "      <td>2009</td>\n",
       "      <td>12</td>\n",
       "    </tr>\n",
       "    <tr>\n",
       "      <td>1</td>\n",
       "      <td>Adventure</td>\n",
       "      <td>300000000</td>\n",
       "      <td>169.0</td>\n",
       "      <td>2007</td>\n",
       "      <td>5</td>\n",
       "    </tr>\n",
       "  </tbody>\n",
       "</table>\n",
       "</div>"
      ],
      "text/plain": [
       "       genre     budget  runtime  year  month\n",
       "0     Action  237000000    162.0  2009     12\n",
       "1  Adventure  300000000    169.0  2007      5"
      ]
     },
     "execution_count": 6,
     "metadata": {},
     "output_type": "execute_result"
    }
   ],
   "source": [
    "X[:2]"
   ]
  },
  {
   "cell_type": "markdown",
   "metadata": {},
   "source": [
    "### Exploring Data"
   ]
  },
  {
   "cell_type": "markdown",
   "metadata": {},
   "source": [
    "Now looking at our features in `X` above, it looks like all of the columns are of a type number except for `genre`.  We can confirm this by using the `dtypes` method on our `X` dataframe."
   ]
  },
  {
   "cell_type": "code",
   "execution_count": 7,
   "metadata": {},
   "outputs": [
    {
     "data": {
      "text/plain": [
       "genre       object\n",
       "budget       int64\n",
       "runtime    float64\n",
       "year         int64\n",
       "month        int64\n",
       "dtype: object"
      ]
     },
     "execution_count": 7,
     "metadata": {},
     "output_type": "execute_result"
    }
   ],
   "source": [
    "X.dtypes"
   ]
  },
  {
   "cell_type": "markdown",
   "metadata": {},
   "source": [
    "So using `dtypes` we indeed see that all but one of the columns are numerical\n",
    "\n",
    "> The `float64` means that there are numbers with decimal points, and the `int64` means all are numbers are without decimals (that is, they are integers)."
   ]
  },
  {
   "cell_type": "markdown",
   "metadata": {},
   "source": [
    "Now remember that our goal is to assign each value in the genre column to it's own number.  Before changing the data, a nice thing to do is to get a summary of the information in the column."
   ]
  },
  {
   "cell_type": "markdown",
   "metadata": {},
   "source": [
    "One good method for this is the `value_counts` method.  Let's give it a shot."
   ]
  },
  {
   "cell_type": "code",
   "execution_count": 12,
   "metadata": {},
   "outputs": [
    {
     "data": {
      "text/plain": [
       "Action             483\n",
       "Drama              365\n",
       "Comedy             359\n",
       "Adventure          236\n",
       "Animation           93\n",
       "Fantasy             80\n",
       "Crime               76\n",
       "Thriller            73\n",
       "Horror              59\n",
       "Science Fiction     52\n",
       "Romance             40\n",
       "Name: genre, dtype: int64"
      ]
     },
     "execution_count": 12,
     "metadata": {},
     "output_type": "execute_result"
    }
   ],
   "source": [
    "X['genre'].value_counts()"
   ]
  },
  {
   "cell_type": "markdown",
   "metadata": {},
   "source": [
    "So we can see that there about a dozen different categories and that action is the most popular.  "
   ]
  },
  {
   "cell_type": "markdown",
   "metadata": {},
   "source": [
    "### Changing the data"
   ]
  },
  {
   "cell_type": "markdown",
   "metadata": {},
   "source": [
    "Now that we have used the `dtypes` method to identify the non-numerical column, and the `value_counts` method to see that our genres were labeled as 12 different categories, it's time to begin assigning each of these categories to a unique number."
   ]
  },
  {
   "cell_type": "markdown",
   "metadata": {},
   "source": [
    "Now currently the `genre` column is of type `object`.  Object is the pandas equivalent for textual data.  "
   ]
  },
  {
   "cell_type": "code",
   "execution_count": 13,
   "metadata": {},
   "outputs": [
    {
     "data": {
      "text/plain": [
       "genre       object\n",
       "budget       int64\n",
       "runtime    float64\n",
       "year         int64\n",
       "month        int64\n",
       "dtype: object"
      ]
     },
     "execution_count": 13,
     "metadata": {},
     "output_type": "execute_result"
    }
   ],
   "source": [
    "X.dtypes"
   ]
  },
  {
   "cell_type": "markdown",
   "metadata": {},
   "source": [
    "We can do more with our column if we change it to type text.  So we first select the column and then change the datatype."
   ]
  },
  {
   "cell_type": "code",
   "execution_count": 14,
   "metadata": {},
   "outputs": [],
   "source": [
    "genre = X['genre'].astype('category')"
   ]
  },
  {
   "cell_type": "code",
   "execution_count": 15,
   "metadata": {},
   "outputs": [
    {
     "data": {
      "text/plain": [
       "CategoricalDtype(categories=['Action', 'Adventure', 'Animation', 'Comedy', 'Crime',\n",
       "                  'Drama', 'Fantasy', 'Horror', 'Romance', 'Science Fiction',\n",
       "                  'Thriller'],\n",
       "                 ordered=False)"
      ]
     },
     "execution_count": 15,
     "metadata": {},
     "output_type": "execute_result"
    }
   ],
   "source": [
    "genre.dtype"
   ]
  },
  {
   "cell_type": "markdown",
   "metadata": {},
   "source": [
    "So now our the column assigned to `genre` is of type category.  If we look at the values in this column it looks the same."
   ]
  },
  {
   "cell_type": "code",
   "execution_count": 16,
   "metadata": {},
   "outputs": [
    {
     "data": {
      "text/plain": [
       "0       Action\n",
       "1    Adventure\n",
       "2       Action\n",
       "Name: genre, dtype: category\n",
       "Categories (11, object): [Action, Adventure, Animation, Comedy, ..., Horror, Romance, Science Fiction, Thriller]"
      ]
     },
     "execution_count": 16,
     "metadata": {},
     "output_type": "execute_result"
    }
   ],
   "source": [
    "genre[:3]"
   ]
  },
  {
   "cell_type": "markdown",
   "metadata": {},
   "source": [
    "But pandas has properly stored translated each value to a corresponding number.  We just have to do a little work to get those numbers.  We can access those numbers by calling `genre.cat.codes`.  Let's do it."
   ]
  },
  {
   "cell_type": "code",
   "execution_count": 17,
   "metadata": {},
   "outputs": [
    {
     "data": {
      "text/plain": [
       "0    0\n",
       "1    1\n",
       "2    0\n",
       "3    0\n",
       "dtype: int8"
      ]
     },
     "execution_count": 17,
     "metadata": {},
     "output_type": "execute_result"
    }
   ],
   "source": [
    "genre_codes = genre.cat.codes\n",
    "genre_codes[:4]"
   ]
  },
  {
   "cell_type": "markdown",
   "metadata": {},
   "source": [
    "Ok great now we have a list of numbers that corresponds to each category."
   ]
  },
  {
   "cell_type": "code",
   "execution_count": 18,
   "metadata": {},
   "outputs": [
    {
     "data": {
      "text/plain": [
       "0       Action\n",
       "1    Adventure\n",
       "2       Action\n",
       "3       Action\n",
       "Name: genre, dtype: category\n",
       "Categories (11, object): [Action, Adventure, Animation, Comedy, ..., Horror, Romance, Science Fiction, Thriller]"
      ]
     },
     "execution_count": 18,
     "metadata": {},
     "output_type": "execute_result"
    }
   ],
   "source": [
    "genre[:4]"
   ]
  },
  {
   "cell_type": "markdown",
   "metadata": {},
   "source": [
    "Our final step is to take the data in our dataframe."
   ]
  },
  {
   "cell_type": "code",
   "execution_count": 19,
   "metadata": {},
   "outputs": [
    {
     "data": {
      "text/html": [
       "<div>\n",
       "<style scoped>\n",
       "    .dataframe tbody tr th:only-of-type {\n",
       "        vertical-align: middle;\n",
       "    }\n",
       "\n",
       "    .dataframe tbody tr th {\n",
       "        vertical-align: top;\n",
       "    }\n",
       "\n",
       "    .dataframe thead th {\n",
       "        text-align: right;\n",
       "    }\n",
       "</style>\n",
       "<table border=\"1\" class=\"dataframe\">\n",
       "  <thead>\n",
       "    <tr style=\"text-align: right;\">\n",
       "      <th></th>\n",
       "      <th>genre</th>\n",
       "      <th>budget</th>\n",
       "      <th>runtime</th>\n",
       "      <th>year</th>\n",
       "      <th>month</th>\n",
       "    </tr>\n",
       "  </thead>\n",
       "  <tbody>\n",
       "    <tr>\n",
       "      <td>0</td>\n",
       "      <td>Action</td>\n",
       "      <td>237000000</td>\n",
       "      <td>162.0</td>\n",
       "      <td>2009</td>\n",
       "      <td>12</td>\n",
       "    </tr>\n",
       "    <tr>\n",
       "      <td>1</td>\n",
       "      <td>Adventure</td>\n",
       "      <td>300000000</td>\n",
       "      <td>169.0</td>\n",
       "      <td>2007</td>\n",
       "      <td>5</td>\n",
       "    </tr>\n",
       "  </tbody>\n",
       "</table>\n",
       "</div>"
      ],
      "text/plain": [
       "       genre     budget  runtime  year  month\n",
       "0     Action  237000000    162.0  2009     12\n",
       "1  Adventure  300000000    169.0  2007      5"
      ]
     },
     "execution_count": 19,
     "metadata": {},
     "output_type": "execute_result"
    }
   ],
   "source": [
    "X[:2]"
   ]
  },
  {
   "cell_type": "markdown",
   "metadata": {},
   "source": [
    "And replace the `genre` column with our `genre_codes` series."
   ]
  },
  {
   "cell_type": "code",
   "execution_count": 20,
   "metadata": {},
   "outputs": [
    {
     "data": {
      "text/html": [
       "<div>\n",
       "<style scoped>\n",
       "    .dataframe tbody tr th:only-of-type {\n",
       "        vertical-align: middle;\n",
       "    }\n",
       "\n",
       "    .dataframe tbody tr th {\n",
       "        vertical-align: top;\n",
       "    }\n",
       "\n",
       "    .dataframe thead th {\n",
       "        text-align: right;\n",
       "    }\n",
       "</style>\n",
       "<table border=\"1\" class=\"dataframe\">\n",
       "  <thead>\n",
       "    <tr style=\"text-align: right;\">\n",
       "      <th></th>\n",
       "      <th>genre</th>\n",
       "      <th>budget</th>\n",
       "      <th>runtime</th>\n",
       "      <th>year</th>\n",
       "      <th>month</th>\n",
       "    </tr>\n",
       "  </thead>\n",
       "  <tbody>\n",
       "    <tr>\n",
       "      <td>0</td>\n",
       "      <td>0</td>\n",
       "      <td>237000000</td>\n",
       "      <td>162.0</td>\n",
       "      <td>2009</td>\n",
       "      <td>12</td>\n",
       "    </tr>\n",
       "    <tr>\n",
       "      <td>1</td>\n",
       "      <td>1</td>\n",
       "      <td>300000000</td>\n",
       "      <td>169.0</td>\n",
       "      <td>2007</td>\n",
       "      <td>5</td>\n",
       "    </tr>\n",
       "    <tr>\n",
       "      <td>2</td>\n",
       "      <td>0</td>\n",
       "      <td>245000000</td>\n",
       "      <td>148.0</td>\n",
       "      <td>2015</td>\n",
       "      <td>10</td>\n",
       "    </tr>\n",
       "    <tr>\n",
       "      <td>3</td>\n",
       "      <td>0</td>\n",
       "      <td>250000000</td>\n",
       "      <td>165.0</td>\n",
       "      <td>2012</td>\n",
       "      <td>7</td>\n",
       "    </tr>\n",
       "    <tr>\n",
       "      <td>4</td>\n",
       "      <td>0</td>\n",
       "      <td>260000000</td>\n",
       "      <td>132.0</td>\n",
       "      <td>2012</td>\n",
       "      <td>3</td>\n",
       "    </tr>\n",
       "    <tr>\n",
       "      <td>...</td>\n",
       "      <td>...</td>\n",
       "      <td>...</td>\n",
       "      <td>...</td>\n",
       "      <td>...</td>\n",
       "      <td>...</td>\n",
       "    </tr>\n",
       "    <tr>\n",
       "      <td>1995</td>\n",
       "      <td>10</td>\n",
       "      <td>23000000</td>\n",
       "      <td>108.0</td>\n",
       "      <td>2000</td>\n",
       "      <td>2</td>\n",
       "    </tr>\n",
       "    <tr>\n",
       "      <td>1996</td>\n",
       "      <td>3</td>\n",
       "      <td>23000000</td>\n",
       "      <td>97.0</td>\n",
       "      <td>2001</td>\n",
       "      <td>3</td>\n",
       "    </tr>\n",
       "    <tr>\n",
       "      <td>1997</td>\n",
       "      <td>8</td>\n",
       "      <td>23000000</td>\n",
       "      <td>126.0</td>\n",
       "      <td>2013</td>\n",
       "      <td>12</td>\n",
       "    </tr>\n",
       "    <tr>\n",
       "      <td>1998</td>\n",
       "      <td>-1</td>\n",
       "      <td>23000000</td>\n",
       "      <td>97.0</td>\n",
       "      <td>2001</td>\n",
       "      <td>10</td>\n",
       "    </tr>\n",
       "    <tr>\n",
       "      <td>1999</td>\n",
       "      <td>6</td>\n",
       "      <td>25000000</td>\n",
       "      <td>99.0</td>\n",
       "      <td>2013</td>\n",
       "      <td>12</td>\n",
       "    </tr>\n",
       "  </tbody>\n",
       "</table>\n",
       "<p>2000 rows × 5 columns</p>\n",
       "</div>"
      ],
      "text/plain": [
       "      genre     budget  runtime  year  month\n",
       "0         0  237000000    162.0  2009     12\n",
       "1         1  300000000    169.0  2007      5\n",
       "2         0  245000000    148.0  2015     10\n",
       "3         0  250000000    165.0  2012      7\n",
       "4         0  260000000    132.0  2012      3\n",
       "...     ...        ...      ...   ...    ...\n",
       "1995     10   23000000    108.0  2000      2\n",
       "1996      3   23000000     97.0  2001      3\n",
       "1997      8   23000000    126.0  2013     12\n",
       "1998     -1   23000000     97.0  2001     10\n",
       "1999      6   25000000     99.0  2013     12\n",
       "\n",
       "[2000 rows x 5 columns]"
      ]
     },
     "execution_count": 20,
     "metadata": {},
     "output_type": "execute_result"
    }
   ],
   "source": [
    "X.assign(genre=genre_codes)"
   ]
  },
  {
   "cell_type": "markdown",
   "metadata": {},
   "source": [
    "> So above, we used like `X.assign(genre=genre_codes)` to replace the genre column with the `genre_codes` series.  \n",
    "\n",
    "But this returns a new dataframe, it does not update our old dataframe.  Notice that `X` is unchanged."
   ]
  },
  {
   "cell_type": "code",
   "execution_count": 21,
   "metadata": {},
   "outputs": [
    {
     "data": {
      "text/html": [
       "<div>\n",
       "<style scoped>\n",
       "    .dataframe tbody tr th:only-of-type {\n",
       "        vertical-align: middle;\n",
       "    }\n",
       "\n",
       "    .dataframe tbody tr th {\n",
       "        vertical-align: top;\n",
       "    }\n",
       "\n",
       "    .dataframe thead th {\n",
       "        text-align: right;\n",
       "    }\n",
       "</style>\n",
       "<table border=\"1\" class=\"dataframe\">\n",
       "  <thead>\n",
       "    <tr style=\"text-align: right;\">\n",
       "      <th></th>\n",
       "      <th>genre</th>\n",
       "      <th>budget</th>\n",
       "      <th>runtime</th>\n",
       "      <th>year</th>\n",
       "      <th>month</th>\n",
       "    </tr>\n",
       "  </thead>\n",
       "  <tbody>\n",
       "    <tr>\n",
       "      <td>0</td>\n",
       "      <td>Action</td>\n",
       "      <td>237000000</td>\n",
       "      <td>162.0</td>\n",
       "      <td>2009</td>\n",
       "      <td>12</td>\n",
       "    </tr>\n",
       "  </tbody>\n",
       "</table>\n",
       "</div>"
      ],
      "text/plain": [
       "    genre     budget  runtime  year  month\n",
       "0  Action  237000000    162.0  2009     12"
      ]
     },
     "execution_count": 21,
     "metadata": {},
     "output_type": "execute_result"
    }
   ],
   "source": [
    "X[:1]"
   ]
  },
  {
   "cell_type": "markdown",
   "metadata": {},
   "source": [
    "But we can reassign X with the following line of code."
   ]
  },
  {
   "cell_type": "code",
   "execution_count": 22,
   "metadata": {},
   "outputs": [],
   "source": [
    "X = X.assign(genre=genre_codes)"
   ]
  },
  {
   "cell_type": "markdown",
   "metadata": {},
   "source": [
    "And now all of our data is numerical."
   ]
  },
  {
   "cell_type": "code",
   "execution_count": 23,
   "metadata": {},
   "outputs": [
    {
     "data": {
      "text/plain": [
       "genre         int8\n",
       "budget       int64\n",
       "runtime    float64\n",
       "year         int64\n",
       "month        int64\n",
       "dtype: object"
      ]
     },
     "execution_count": 23,
     "metadata": {},
     "output_type": "execute_result"
    }
   ],
   "source": [
    "X.dtypes"
   ]
  },
  {
   "cell_type": "markdown",
   "metadata": {},
   "source": [
    "Finally, if we want to see the what each number represents we can get this from pandas."
   ]
  },
  {
   "cell_type": "code",
   "execution_count": 24,
   "metadata": {},
   "outputs": [
    {
     "data": {
      "text/plain": [
       "{0: 'Action',\n",
       " 1: 'Adventure',\n",
       " 2: 'Animation',\n",
       " 3: 'Comedy',\n",
       " 4: 'Crime',\n",
       " 5: 'Drama',\n",
       " 6: 'Fantasy',\n",
       " 7: 'Horror',\n",
       " 8: 'Romance',\n",
       " 9: 'Science Fiction',\n",
       " 10: 'Thriller'}"
      ]
     },
     "execution_count": 24,
     "metadata": {},
     "output_type": "execute_result"
    }
   ],
   "source": [
    "dict(enumerate(genre.cat.categories))"
   ]
  },
  {
   "cell_type": "markdown",
   "metadata": {},
   "source": [
    "### Training the Model"
   ]
  },
  {
   "cell_type": "markdown",
   "metadata": {},
   "source": [
    "Ok, now that all of our features are numeric, we can train the model."
   ]
  },
  {
   "cell_type": "code",
   "execution_count": 94,
   "metadata": {},
   "outputs": [
    {
     "data": {
      "text/plain": [
       "genre         int8\n",
       "budget       int64\n",
       "runtime    float64\n",
       "year         int64\n",
       "month        int64\n",
       "dtype: object"
      ]
     },
     "execution_count": 94,
     "metadata": {},
     "output_type": "execute_result"
    }
   ],
   "source": [
    "X.dtypes"
   ]
  },
  {
   "cell_type": "code",
   "execution_count": 95,
   "metadata": {},
   "outputs": [
    {
     "data": {
      "text/plain": [
       "0    2787965087\n",
       "1     961000000\n",
       "Name: revenue, dtype: int64"
      ]
     },
     "execution_count": 95,
     "metadata": {},
     "output_type": "execute_result"
    }
   ],
   "source": [
    "y[:2]"
   ]
  },
  {
   "cell_type": "code",
   "execution_count": 96,
   "metadata": {},
   "outputs": [],
   "source": [
    "from sklearn.tree import DecisionTreeRegressor"
   ]
  },
  {
   "cell_type": "markdown",
   "metadata": {},
   "source": [
    "> Ok, now we use a `DecisionTreeRegressor` (as opposed to a DecisionTreeClassifier) because the revenue data is not just a $1$ or $0$, but potentially any value greater than 0.  When our data can be any value in a specified range, it's called continuous - and with continuous data we use the regressor."
   ]
  },
  {
   "cell_type": "markdown",
   "metadata": {},
   "source": [
    "Now follow the steps training a model.  First initialize our `DecisionTreeRegressor` and assign it to model."
   ]
  },
  {
   "cell_type": "code",
   "execution_count": 97,
   "metadata": {},
   "outputs": [],
   "source": [
    "model = DecisionTreeRegressor()"
   ]
  },
  {
   "cell_type": "markdown",
   "metadata": {},
   "source": [
    "Then train the model, with the `fit` method."
   ]
  },
  {
   "cell_type": "code",
   "execution_count": 98,
   "metadata": {},
   "outputs": [
    {
     "data": {
      "text/plain": [
       "DecisionTreeRegressor(criterion='mse', max_depth=None, max_features=None,\n",
       "                      max_leaf_nodes=None, min_impurity_decrease=0.0,\n",
       "                      min_impurity_split=None, min_samples_leaf=1,\n",
       "                      min_samples_split=2, min_weight_fraction_leaf=0.0,\n",
       "                      presort=False, random_state=None, splitter='best')"
      ]
     },
     "execution_count": 98,
     "metadata": {},
     "output_type": "execute_result"
    }
   ],
   "source": [
    "model.fit(X, y)"
   ]
  },
  {
   "cell_type": "markdown",
   "metadata": {},
   "source": [
    "And finally, we can make a prediction, by passing through the features of an observation."
   ]
  },
  {
   "cell_type": "code",
   "execution_count": 99,
   "metadata": {},
   "outputs": [
    {
     "data": {
      "text/plain": [
       "array([2.78796509e+09])"
      ]
     },
     "execution_count": 99,
     "metadata": {},
     "output_type": "execute_result"
    }
   ],
   "source": [
    "observation = X[:1]\n",
    "\n",
    "model.predict(observation)"
   ]
  },
  {
   "cell_type": "markdown",
   "metadata": {},
   "source": [
    "We can also see the hypothesis function for our model."
   ]
  },
  {
   "cell_type": "code",
   "execution_count": 100,
   "metadata": {},
   "outputs": [
    {
     "data": {
      "image/svg+xml": [
       "<?xml version=\"1.0\" encoding=\"UTF-8\" standalone=\"no\"?>\n",
       "<!DOCTYPE svg PUBLIC \"-//W3C//DTD SVG 1.1//EN\"\n",
       " \"http://www.w3.org/Graphics/SVG/1.1/DTD/svg11.dtd\">\n",
       "<!-- Generated by graphviz version 2.43.0 (0)\n",
       " -->\n",
       "<!-- Title: Tree Pages: 1 -->\n",
       "<svg width=\"838pt\" height=\"344pt\"\n",
       " viewBox=\"0.00 0.00 838.00 344.00\" xmlns=\"http://www.w3.org/2000/svg\" xmlns:xlink=\"http://www.w3.org/1999/xlink\">\n",
       "<g id=\"graph0\" class=\"graph\" transform=\"scale(1 1) rotate(0) translate(4 340)\">\n",
       "<title>Tree</title>\n",
       "<polygon fill=\"white\" stroke=\"transparent\" points=\"-4,4 -4,-340 834,-340 834,4 -4,4\"/>\n",
       "<!-- 0 -->\n",
       "<g id=\"node1\" class=\"node\">\n",
       "<title>0</title>\n",
       "<polygon fill=\"none\" stroke=\"black\" points=\"499.53,-336 302.42,-336 302.42,-272 499.53,-272 499.53,-336\"/>\n",
       "<text text-anchor=\"middle\" x=\"400.97\" y=\"-320.8\" font-family=\"Times,serif\" font-size=\"14.00\">budget &lt;= 102500000.0</text>\n",
       "<text text-anchor=\"middle\" x=\"400.97\" y=\"-306.8\" font-family=\"Times,serif\" font-size=\"14.00\">mse = 4.779774067198597e+16</text>\n",
       "<text text-anchor=\"middle\" x=\"400.97\" y=\"-292.8\" font-family=\"Times,serif\" font-size=\"14.00\">samples = 2000</text>\n",
       "<text text-anchor=\"middle\" x=\"400.97\" y=\"-278.8\" font-family=\"Times,serif\" font-size=\"14.00\">value = 164350612.606</text>\n",
       "</g>\n",
       "<!-- 1 -->\n",
       "<g id=\"node2\" class=\"node\">\n",
       "<title>1</title>\n",
       "<polygon fill=\"none\" stroke=\"black\" points=\"394.03,-236 189.92,-236 189.92,-172 394.03,-172 394.03,-236\"/>\n",
       "<text text-anchor=\"middle\" x=\"291.97\" y=\"-220.8\" font-family=\"Times,serif\" font-size=\"14.00\">budget &lt;= 60500000.0</text>\n",
       "<text text-anchor=\"middle\" x=\"291.97\" y=\"-206.8\" font-family=\"Times,serif\" font-size=\"14.00\">mse = 1.7996870958248378e+16</text>\n",
       "<text text-anchor=\"middle\" x=\"291.97\" y=\"-192.8\" font-family=\"Times,serif\" font-size=\"14.00\">samples = 1724</text>\n",
       "<text text-anchor=\"middle\" x=\"291.97\" y=\"-178.8\" font-family=\"Times,serif\" font-size=\"14.00\">value = 112646268.774</text>\n",
       "</g>\n",
       "<!-- 0&#45;&gt;1 -->\n",
       "<g id=\"edge1\" class=\"edge\">\n",
       "<title>0&#45;&gt;1</title>\n",
       "<path fill=\"none\" stroke=\"black\" d=\"M366.49,-271.99C356.25,-262.79 344.91,-252.6 334.24,-243\"/>\n",
       "<polygon fill=\"black\" stroke=\"black\" points=\"336.39,-240.23 326.61,-236.14 331.71,-245.43 336.39,-240.23\"/>\n",
       "<text text-anchor=\"middle\" x=\"327.94\" y=\"-256.91\" font-family=\"Times,serif\" font-size=\"14.00\">True</text>\n",
       "</g>\n",
       "<!-- 3268 -->\n",
       "<g id=\"node9\" class=\"node\">\n",
       "<title>3268</title>\n",
       "<polygon fill=\"none\" stroke=\"black\" points=\"609.53,-236 412.42,-236 412.42,-172 609.53,-172 609.53,-236\"/>\n",
       "<text text-anchor=\"middle\" x=\"510.97\" y=\"-220.8\" font-family=\"Times,serif\" font-size=\"14.00\">budget &lt;= 182500000.0</text>\n",
       "<text text-anchor=\"middle\" x=\"510.97\" y=\"-206.8\" font-family=\"Times,serif\" font-size=\"14.00\">mse = 1.129402470843553e+17</text>\n",
       "<text text-anchor=\"middle\" x=\"510.97\" y=\"-192.8\" font-family=\"Times,serif\" font-size=\"14.00\">samples = 276</text>\n",
       "<text text-anchor=\"middle\" x=\"510.97\" y=\"-178.8\" font-family=\"Times,serif\" font-size=\"14.00\">value = 487315426.982</text>\n",
       "</g>\n",
       "<!-- 0&#45;&gt;3268 -->\n",
       "<g id=\"edge8\" class=\"edge\">\n",
       "<title>0&#45;&gt;3268</title>\n",
       "<path fill=\"none\" stroke=\"black\" d=\"M435.78,-271.99C446.11,-262.79 457.55,-252.6 468.32,-243\"/>\n",
       "<polygon fill=\"black\" stroke=\"black\" points=\"470.88,-245.41 476.02,-236.14 466.22,-240.18 470.88,-245.41\"/>\n",
       "<text text-anchor=\"middle\" x=\"474.58\" y=\"-256.9\" font-family=\"Times,serif\" font-size=\"14.00\">False</text>\n",
       "</g>\n",
       "<!-- 2 -->\n",
       "<g id=\"node3\" class=\"node\">\n",
       "<title>2</title>\n",
       "<polygon fill=\"none\" stroke=\"black\" points=\"175.92,-136 0.03,-136 0.03,-72 175.92,-72 175.92,-136\"/>\n",
       "<text text-anchor=\"middle\" x=\"87.97\" y=\"-120.8\" font-family=\"Times,serif\" font-size=\"14.00\">budget &lt;= 36750000.0</text>\n",
       "<text text-anchor=\"middle\" x=\"87.97\" y=\"-106.8\" font-family=\"Times,serif\" font-size=\"14.00\">mse = 9901454363896216.0</text>\n",
       "<text text-anchor=\"middle\" x=\"87.97\" y=\"-92.8\" font-family=\"Times,serif\" font-size=\"14.00\">samples = 1304</text>\n",
       "<text text-anchor=\"middle\" x=\"87.97\" y=\"-78.8\" font-family=\"Times,serif\" font-size=\"14.00\">value = 85531516.617</text>\n",
       "</g>\n",
       "<!-- 1&#45;&gt;2 -->\n",
       "<g id=\"edge2\" class=\"edge\">\n",
       "<title>1&#45;&gt;2</title>\n",
       "<path fill=\"none\" stroke=\"black\" d=\"M227.43,-171.99C206.59,-161.98 183.33,-150.81 161.87,-140.5\"/>\n",
       "<polygon fill=\"black\" stroke=\"black\" points=\"163.33,-137.32 152.8,-136.14 160.3,-143.63 163.33,-137.32\"/>\n",
       "</g>\n",
       "<!-- 2433 -->\n",
       "<g id=\"node6\" class=\"node\">\n",
       "<title>2433</title>\n",
       "<polygon fill=\"none\" stroke=\"black\" points=\"391.53,-136 194.42,-136 194.42,-72 391.53,-72 391.53,-136\"/>\n",
       "<text text-anchor=\"middle\" x=\"292.97\" y=\"-120.8\" font-family=\"Times,serif\" font-size=\"14.00\">runtime &lt;= 196.0</text>\n",
       "<text text-anchor=\"middle\" x=\"292.97\" y=\"-106.8\" font-family=\"Times,serif\" font-size=\"14.00\">mse = 3.376147177846703e+16</text>\n",
       "<text text-anchor=\"middle\" x=\"292.97\" y=\"-92.8\" font-family=\"Times,serif\" font-size=\"14.00\">samples = 420</text>\n",
       "<text text-anchor=\"middle\" x=\"292.97\" y=\"-78.8\" font-family=\"Times,serif\" font-size=\"14.00\">value = 196831118.326</text>\n",
       "</g>\n",
       "<!-- 1&#45;&gt;2433 -->\n",
       "<g id=\"edge5\" class=\"edge\">\n",
       "<title>1&#45;&gt;2433</title>\n",
       "<path fill=\"none\" stroke=\"black\" d=\"M292.29,-171.99C292.37,-163.86 292.46,-154.96 292.55,-146.38\"/>\n",
       "<polygon fill=\"black\" stroke=\"black\" points=\"296.05,-146.18 292.66,-136.14 289.05,-146.11 296.05,-146.18\"/>\n",
       "</g>\n",
       "<!-- 3 -->\n",
       "<g id=\"node4\" class=\"node\">\n",
       "<title>3</title>\n",
       "<polygon fill=\"none\" stroke=\"black\" points=\"78.97,-36 24.97,-36 24.97,0 78.97,0 78.97,-36\"/>\n",
       "<text text-anchor=\"middle\" x=\"51.97\" y=\"-13.8\" font-family=\"Times,serif\" font-size=\"14.00\">(...)</text>\n",
       "</g>\n",
       "<!-- 2&#45;&gt;3 -->\n",
       "<g id=\"edge3\" class=\"edge\">\n",
       "<title>2&#45;&gt;3</title>\n",
       "<path fill=\"none\" stroke=\"black\" d=\"M74.57,-71.72C70.89,-63.14 66.94,-53.92 63.38,-45.62\"/>\n",
       "<polygon fill=\"black\" stroke=\"black\" points=\"66.59,-44.22 59.43,-36.4 60.16,-46.98 66.59,-44.22\"/>\n",
       "</g>\n",
       "<!-- 1292 -->\n",
       "<g id=\"node5\" class=\"node\">\n",
       "<title>1292</title>\n",
       "<polygon fill=\"none\" stroke=\"black\" points=\"150.97,-36 96.97,-36 96.97,0 150.97,0 150.97,-36\"/>\n",
       "<text text-anchor=\"middle\" x=\"123.97\" y=\"-13.8\" font-family=\"Times,serif\" font-size=\"14.00\">(...)</text>\n",
       "</g>\n",
       "<!-- 2&#45;&gt;1292 -->\n",
       "<g id=\"edge4\" class=\"edge\">\n",
       "<title>2&#45;&gt;1292</title>\n",
       "<path fill=\"none\" stroke=\"black\" d=\"M101.38,-71.72C105.06,-63.14 109.01,-53.92 112.56,-45.62\"/>\n",
       "<polygon fill=\"black\" stroke=\"black\" points=\"115.79,-46.98 116.51,-36.4 109.36,-44.22 115.79,-46.98\"/>\n",
       "</g>\n",
       "<!-- 2434 -->\n",
       "<g id=\"node7\" class=\"node\">\n",
       "<title>2434</title>\n",
       "<polygon fill=\"none\" stroke=\"black\" points=\"302.97,-36 248.97,-36 248.97,0 302.97,0 302.97,-36\"/>\n",
       "<text text-anchor=\"middle\" x=\"275.97\" y=\"-13.8\" font-family=\"Times,serif\" font-size=\"14.00\">(...)</text>\n",
       "</g>\n",
       "<!-- 2433&#45;&gt;2434 -->\n",
       "<g id=\"edge6\" class=\"edge\">\n",
       "<title>2433&#45;&gt;2434</title>\n",
       "<path fill=\"none\" stroke=\"black\" d=\"M286.64,-71.72C284.96,-63.42 283.16,-54.52 281.53,-46.44\"/>\n",
       "<polygon fill=\"black\" stroke=\"black\" points=\"284.91,-45.51 279.5,-36.4 278.05,-46.9 284.91,-45.51\"/>\n",
       "</g>\n",
       "<!-- 3267 -->\n",
       "<g id=\"node8\" class=\"node\">\n",
       "<title>3267</title>\n",
       "<polygon fill=\"none\" stroke=\"black\" points=\"374.97,-36 320.97,-36 320.97,0 374.97,0 374.97,-36\"/>\n",
       "<text text-anchor=\"middle\" x=\"347.97\" y=\"-13.8\" font-family=\"Times,serif\" font-size=\"14.00\">(...)</text>\n",
       "</g>\n",
       "<!-- 2433&#45;&gt;3267 -->\n",
       "<g id=\"edge7\" class=\"edge\">\n",
       "<title>2433&#45;&gt;3267</title>\n",
       "<path fill=\"none\" stroke=\"black\" d=\"M313.45,-71.72C319.26,-62.86 325.51,-53.31 331.07,-44.81\"/>\n",
       "<polygon fill=\"black\" stroke=\"black\" points=\"334.03,-46.69 336.58,-36.4 328.17,-42.85 334.03,-46.69\"/>\n",
       "</g>\n",
       "<!-- 3269 -->\n",
       "<g id=\"node10\" class=\"node\">\n",
       "<title>3269</title>\n",
       "<polygon fill=\"none\" stroke=\"black\" points=\"608,-136 411.94,-136 411.94,-72 608,-72 608,-136\"/>\n",
       "<text text-anchor=\"middle\" x=\"509.97\" y=\"-120.8\" font-family=\"Times,serif\" font-size=\"14.00\">budget &lt;= 149500000.0</text>\n",
       "<text text-anchor=\"middle\" x=\"509.97\" y=\"-106.8\" font-family=\"Times,serif\" font-size=\"14.00\">mse = 5.875933677111955e+16</text>\n",
       "<text text-anchor=\"middle\" x=\"509.97\" y=\"-92.8\" font-family=\"Times,serif\" font-size=\"14.00\">samples = 220</text>\n",
       "<text text-anchor=\"middle\" x=\"509.97\" y=\"-78.8\" font-family=\"Times,serif\" font-size=\"14.00\">value = 409530744.382</text>\n",
       "</g>\n",
       "<!-- 3268&#45;&gt;3269 -->\n",
       "<g id=\"edge9\" class=\"edge\">\n",
       "<title>3268&#45;&gt;3269</title>\n",
       "<path fill=\"none\" stroke=\"black\" d=\"M510.66,-171.99C510.57,-163.86 510.48,-154.96 510.4,-146.38\"/>\n",
       "<polygon fill=\"black\" stroke=\"black\" points=\"513.89,-146.11 510.29,-136.14 506.89,-146.18 513.89,-146.11\"/>\n",
       "</g>\n",
       "<!-- 3708 -->\n",
       "<g id=\"node13\" class=\"node\">\n",
       "<title>3708</title>\n",
       "<polygon fill=\"none\" stroke=\"black\" points=\"830.03,-136 625.92,-136 625.92,-72 830.03,-72 830.03,-136\"/>\n",
       "<text text-anchor=\"middle\" x=\"727.97\" y=\"-120.8\" font-family=\"Times,serif\" font-size=\"14.00\">runtime &lt;= 134.0</text>\n",
       "<text text-anchor=\"middle\" x=\"727.97\" y=\"-106.8\" font-family=\"Times,serif\" font-size=\"14.00\">mse = 2.0864339609503603e+17</text>\n",
       "<text text-anchor=\"middle\" x=\"727.97\" y=\"-92.8\" font-family=\"Times,serif\" font-size=\"14.00\">samples = 56</text>\n",
       "<text text-anchor=\"middle\" x=\"727.97\" y=\"-78.8\" font-family=\"Times,serif\" font-size=\"14.00\">value = 792898108.625</text>\n",
       "</g>\n",
       "<!-- 3268&#45;&gt;3708 -->\n",
       "<g id=\"edge12\" class=\"edge\">\n",
       "<title>3268&#45;&gt;3708</title>\n",
       "<path fill=\"none\" stroke=\"black\" d=\"M579.63,-171.99C601.9,-161.94 626.76,-150.71 649.67,-140.36\"/>\n",
       "<polygon fill=\"black\" stroke=\"black\" points=\"651.34,-143.45 659.02,-136.14 648.46,-137.07 651.34,-143.45\"/>\n",
       "</g>\n",
       "<!-- 3270 -->\n",
       "<g id=\"node11\" class=\"node\">\n",
       "<title>3270</title>\n",
       "<polygon fill=\"none\" stroke=\"black\" points=\"481.97,-36 427.97,-36 427.97,0 481.97,0 481.97,-36\"/>\n",
       "<text text-anchor=\"middle\" x=\"454.97\" y=\"-13.8\" font-family=\"Times,serif\" font-size=\"14.00\">(...)</text>\n",
       "</g>\n",
       "<!-- 3269&#45;&gt;3270 -->\n",
       "<g id=\"edge10\" class=\"edge\">\n",
       "<title>3269&#45;&gt;3270</title>\n",
       "<path fill=\"none\" stroke=\"black\" d=\"M489.49,-71.72C483.69,-62.86 477.44,-53.31 471.87,-44.81\"/>\n",
       "<polygon fill=\"black\" stroke=\"black\" points=\"474.78,-42.85 466.37,-36.4 468.92,-46.69 474.78,-42.85\"/>\n",
       "</g>\n",
       "<!-- 3533 -->\n",
       "<g id=\"node12\" class=\"node\">\n",
       "<title>3533</title>\n",
       "<polygon fill=\"none\" stroke=\"black\" points=\"553.97,-36 499.97,-36 499.97,0 553.97,0 553.97,-36\"/>\n",
       "<text text-anchor=\"middle\" x=\"526.97\" y=\"-13.8\" font-family=\"Times,serif\" font-size=\"14.00\">(...)</text>\n",
       "</g>\n",
       "<!-- 3269&#45;&gt;3533 -->\n",
       "<g id=\"edge11\" class=\"edge\">\n",
       "<title>3269&#45;&gt;3533</title>\n",
       "<path fill=\"none\" stroke=\"black\" d=\"M516.3,-71.72C517.98,-63.42 519.79,-54.52 521.42,-46.44\"/>\n",
       "<polygon fill=\"black\" stroke=\"black\" points=\"524.9,-46.9 523.45,-36.4 518.04,-45.51 524.9,-46.9\"/>\n",
       "</g>\n",
       "<!-- 3709 -->\n",
       "<g id=\"node14\" class=\"node\">\n",
       "<title>3709</title>\n",
       "<polygon fill=\"none\" stroke=\"black\" points=\"718.97,-36 664.97,-36 664.97,0 718.97,0 718.97,-36\"/>\n",
       "<text text-anchor=\"middle\" x=\"691.97\" y=\"-13.8\" font-family=\"Times,serif\" font-size=\"14.00\">(...)</text>\n",
       "</g>\n",
       "<!-- 3708&#45;&gt;3709 -->\n",
       "<g id=\"edge13\" class=\"edge\">\n",
       "<title>3708&#45;&gt;3709</title>\n",
       "<path fill=\"none\" stroke=\"black\" d=\"M714.57,-71.72C710.89,-63.14 706.94,-53.92 703.38,-45.62\"/>\n",
       "<polygon fill=\"black\" stroke=\"black\" points=\"706.59,-44.22 699.43,-36.4 700.16,-46.98 706.59,-44.22\"/>\n",
       "</g>\n",
       "<!-- 3760 -->\n",
       "<g id=\"node15\" class=\"node\">\n",
       "<title>3760</title>\n",
       "<polygon fill=\"none\" stroke=\"black\" points=\"790.97,-36 736.97,-36 736.97,0 790.97,0 790.97,-36\"/>\n",
       "<text text-anchor=\"middle\" x=\"763.97\" y=\"-13.8\" font-family=\"Times,serif\" font-size=\"14.00\">(...)</text>\n",
       "</g>\n",
       "<!-- 3708&#45;&gt;3760 -->\n",
       "<g id=\"edge14\" class=\"edge\">\n",
       "<title>3708&#45;&gt;3760</title>\n",
       "<path fill=\"none\" stroke=\"black\" d=\"M741.38,-71.72C745.06,-63.14 749.01,-53.92 752.56,-45.62\"/>\n",
       "<polygon fill=\"black\" stroke=\"black\" points=\"755.79,-46.98 756.51,-36.4 749.36,-44.22 755.79,-46.98\"/>\n",
       "</g>\n",
       "</g>\n",
       "</svg>\n"
      ],
      "text/plain": [
       "<graphviz.files.Source at 0x1a1f8af0d0>"
      ]
     },
     "execution_count": 100,
     "metadata": {},
     "output_type": "execute_result"
    }
   ],
   "source": [
    "from sklearn import tree\n",
    "from IPython.display import SVG, display\n",
    "from graphviz import Source \n",
    "\n",
    "Source(tree.export_graphviz(model, out_file = None, feature_names=X.columns, max_depth = 2))"
   ]
  },
  {
   "cell_type": "markdown",
   "metadata": {},
   "source": [
    "Let's interpret diagram above.  The `value` on the first node at the top, is the average revenue for all movies - `164350612`.  The best split point for all of the data is whether the movie is less than or greater that 140 minutes.  Splitting the data there provides a the less than 140 minutes group having an average revenue of `145596396`, and over 140 minutes having an average of `357508445`."
   ]
  },
  {
   "cell_type": "markdown",
   "metadata": {},
   "source": [
    "Then the data is split based on whether the genre value is less than 2 or less than 2.5 -- the mapping below shows the split asks if the genre is Action, Adventure or Animation.  \n",
    "\n",
    "The decision tree continues beyond the image, but we only printed out three levels.  A complete mapping of the numbers to genres is provided below.  "
   ]
  },
  {
   "cell_type": "markdown",
   "metadata": {},
   "source": [
    "### Summary"
   ]
  },
  {
   "cell_type": "markdown",
   "metadata": {},
   "source": [
    "In this lesson, we had some practice changing some of our text data into numbers.  We did by first exploring our data, and then changing our data.  We explored our data with the following:"
   ]
  },
  {
   "cell_type": "code",
   "execution_count": 26,
   "metadata": {},
   "outputs": [
    {
     "data": {
      "text/plain": [
       "title       object\n",
       "genre       object\n",
       "budget       int64\n",
       "runtime    float64\n",
       "year         int64\n",
       "month        int64\n",
       "revenue      int64\n",
       "dtype: object"
      ]
     },
     "execution_count": 26,
     "metadata": {},
     "output_type": "execute_result"
    }
   ],
   "source": [
    "movies_df.dtypes"
   ]
  },
  {
   "cell_type": "markdown",
   "metadata": {},
   "source": [
    "We identified the `genre` column as a series that we potentially wanted to use in our model.  We explored it more with the `value_counts` method. "
   ]
  },
  {
   "cell_type": "code",
   "execution_count": 33,
   "metadata": {},
   "outputs": [
    {
     "data": {
      "text/plain": [
       "Action    483\n",
       "Drama     365\n",
       "Comedy    359\n",
       "Name: genre, dtype: int64"
      ]
     },
     "execution_count": 33,
     "metadata": {},
     "output_type": "execute_result"
    }
   ],
   "source": [
    "movies_df.genre.value_counts()[:3]"
   ]
  },
  {
   "cell_type": "markdown",
   "metadata": {},
   "source": [
    "It looks like the categorical, so we changed it as such."
   ]
  },
  {
   "cell_type": "markdown",
   "metadata": {},
   "source": [
    "First, we changed the datatype of the column."
   ]
  },
  {
   "cell_type": "code",
   "execution_count": 28,
   "metadata": {},
   "outputs": [],
   "source": [
    "genre = movies_df['genre'].astype('category')"
   ]
  },
  {
   "cell_type": "markdown",
   "metadata": {},
   "source": [
    "Now that it's a category, every unique value was assigned a different number."
   ]
  },
  {
   "cell_type": "code",
   "execution_count": 34,
   "metadata": {},
   "outputs": [
    {
     "data": {
      "text/plain": [
       "0    0\n",
       "1    1\n",
       "2    0\n",
       "dtype: int8"
      ]
     },
     "execution_count": 34,
     "metadata": {},
     "output_type": "execute_result"
    }
   ],
   "source": [
    "genre_nums = genre.cat.codes\n",
    "genre_nums[:3]"
   ]
  },
  {
   "cell_type": "markdown",
   "metadata": {},
   "source": [
    "So we can replace the column with the data."
   ]
  },
  {
   "cell_type": "code",
   "execution_count": 37,
   "metadata": {},
   "outputs": [],
   "source": [
    "updated_df = movies_df.assign(genre = genre_nums)"
   ]
  },
  {
   "cell_type": "markdown",
   "metadata": {},
   "source": [
    "And now see that genre is of type integer."
   ]
  },
  {
   "cell_type": "code",
   "execution_count": 38,
   "metadata": {},
   "outputs": [
    {
     "data": {
      "text/plain": [
       "title       object\n",
       "genre         int8\n",
       "budget       int64\n",
       "runtime    float64\n",
       "year         int64\n",
       "month        int64\n",
       "revenue      int64\n",
       "dtype: object"
      ]
     },
     "execution_count": 38,
     "metadata": {},
     "output_type": "execute_result"
    }
   ],
   "source": [
    "updated_df.dtypes"
   ]
  },
  {
   "cell_type": "markdown",
   "metadata": {},
   "source": [
    "<center>\n",
    "<a href=\"https://www.jigsawlabs.io/free\" style=\"position: center\"><img src=\"jigsaw-main.png\" width=\"15%\" style=\"text-align: center\"></a>\n",
    "</center>"
   ]
  }
 ],
 "metadata": {
  "kernelspec": {
   "display_name": "Python 3",
   "language": "python",
   "name": "python3"
  },
  "language_info": {
   "codemirror_mode": {
    "name": "ipython",
    "version": 3
   },
   "file_extension": ".py",
   "mimetype": "text/x-python",
   "name": "python",
   "nbconvert_exporter": "python",
   "pygments_lexer": "ipython3",
   "version": "3.8.6"
  }
 },
 "nbformat": 4,
 "nbformat_minor": 4
}
