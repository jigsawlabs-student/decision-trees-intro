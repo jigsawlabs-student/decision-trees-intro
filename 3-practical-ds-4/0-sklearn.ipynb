{
 "cells": [
  {
   "cell_type": "markdown",
   "metadata": {},
   "source": [
    "## Machine Learning In Sklearn"
   ]
  },
  {
   "cell_type": "markdown",
   "metadata": {},
   "source": [
    "### Introduction"
   ]
  },
  {
   "cell_type": "markdown",
   "metadata": {},
   "source": [
    "In the previous lessons, saw the general process in machine learning: \n",
    "\n",
    "> We start with training data, and use train a machine learning algorithm to find a hypothesis function that minimizes a cost function.  Once trained, we can then use the hypothesis function to make predictions on observations where the outcome is unknown.\n",
    "\n",
    "At this point, we're ready to get started with the popular `sklearn` machine learning library.  We'll use our knowledge of the machine learning process to guide us.  "
   ]
  },
  {
   "cell_type": "markdown",
   "metadata": {},
   "source": [
    "### 1. Gather the data"
   ]
  },
  {
   "cell_type": "markdown",
   "metadata": {},
   "source": [
    "As we know, the first step in machine learning is to gather our training data.  Here, our data is available in a [csv file](https://raw.githubusercontent.com/jigsawlabs-student/decision-trees-intro/master/3-practical-ds-4/customer_data.csv).  A csv file is just a file where our data is separated by commas.\n",
    "\n",
    "Let's go get it."
   ]
  },
  {
   "cell_type": "markdown",
   "metadata": {},
   "source": [
    "> We import the pandas library, which is a great library for collecting and exploring data.  We use the `read_csv` method to read in the data, and provide the location of the file as an argument."
   ]
  },
  {
   "cell_type": "markdown",
   "metadata": {},
   "source": [
    "> Press `shift + return` on the cell below."
   ]
  },
  {
   "cell_type": "code",
   "execution_count": null,
   "metadata": {},
   "outputs": [],
   "source": [
    "import pandas as pd\n",
    "url = \"https://raw.githubusercontent.com/jigsawlabs-student/decision-trees-intro/master/3-practical-ds-4/customer_data.csv\"\n",
    "df = pd.read_csv(url)\n",
    "df"
   ]
  },
  {
   "cell_type": "markdown",
   "metadata": {},
   "source": [
    "So above we have three observations in our training data.  Our features are in the first four columns, and the target column of `customer` is in the last column.   "
   ]
  },
  {
   "cell_type": "markdown",
   "metadata": {},
   "source": [
    "Unfortunately, our data **will not work in it's current format** with the machine learning library we're about to use.  It needs to be formatted differently."
   ]
  },
  {
   "cell_type": "markdown",
   "metadata": {},
   "source": [
    "Let's load up some properly formatted data to see the changes we would need to make."
   ]
  },
  {
   "cell_type": "code",
   "execution_count": 1,
   "metadata": {},
   "outputs": [],
   "source": [
    "import pandas as pd\n",
    "feature_url = \"https://raw.githubusercontent.com/jigsawlabs-student/decision-trees-intro/master/3-practical-ds-4/customer_features.csv\"\n",
    "customer_target_url = \"https://raw.githubusercontent.com/jigsawlabs-student/decision-trees-intro/master/3-practical-ds-4/customer_targets.csv\"\n",
    "X = pd.read_csv(feature_url)\n",
    "y = pd.read_csv(customer_target_url, names = ['y'])"
   ]
  },
  {
   "cell_type": "markdown",
   "metadata": {},
   "source": [
    "> Press shift + return on the cell above."
   ]
  },
  {
   "cell_type": "markdown",
   "metadata": {},
   "source": [
    "Let's look at our new variable `X`."
   ]
  },
  {
   "cell_type": "code",
   "execution_count": 2,
   "metadata": {},
   "outputs": [
    {
     "data": {
      "text/html": [
       "<div>\n",
       "<style scoped>\n",
       "    .dataframe tbody tr th:only-of-type {\n",
       "        vertical-align: middle;\n",
       "    }\n",
       "\n",
       "    .dataframe tbody tr th {\n",
       "        vertical-align: top;\n",
       "    }\n",
       "\n",
       "    .dataframe thead th {\n",
       "        text-align: right;\n",
       "    }\n",
       "</style>\n",
       "<table border=\"1\" class=\"dataframe\">\n",
       "  <thead>\n",
       "    <tr style=\"text-align: right;\">\n",
       "      <th></th>\n",
       "      <th>attended_college</th>\n",
       "      <th>under_thirty</th>\n",
       "      <th>borough</th>\n",
       "      <th>income</th>\n",
       "    </tr>\n",
       "  </thead>\n",
       "  <tbody>\n",
       "    <tr>\n",
       "      <td>0</td>\n",
       "      <td>0</td>\n",
       "      <td>1</td>\n",
       "      <td>1</td>\n",
       "      <td>1</td>\n",
       "    </tr>\n",
       "    <tr>\n",
       "      <td>1</td>\n",
       "      <td>2</td>\n",
       "      <td>1</td>\n",
       "      <td>0</td>\n",
       "      <td>1</td>\n",
       "    </tr>\n",
       "    <tr>\n",
       "      <td>2</td>\n",
       "      <td>0</td>\n",
       "      <td>0</td>\n",
       "      <td>0</td>\n",
       "      <td>1</td>\n",
       "    </tr>\n",
       "  </tbody>\n",
       "</table>\n",
       "</div>"
      ],
      "text/plain": [
       "   attended_college  under_thirty  borough  income\n",
       "0                 0             1        1       1\n",
       "1                 2             1        0       1\n",
       "2                 0             0        0       1"
      ]
     },
     "execution_count": 2,
     "metadata": {},
     "output_type": "execute_result"
    }
   ],
   "source": [
    "X"
   ]
  },
  {
   "cell_type": "markdown",
   "metadata": {},
   "source": [
    "We see that `X` points to only *the features* in our training data.  It does not contain the target values.  We also see that every one of our feature values is now represented as a number.\n",
    "\n",
    "The data in `X` *may not look like* our original training data, but it is equivalent.  We got to the data in `X` by starting with our original data that had values as text, and then assigning a different number to each unique value in a column. "
   ]
  },
  {
   "cell_type": "markdown",
   "metadata": {},
   "source": [
    "> **For example,** for the `attended_college` column, `?` is represented by a `0`, and `Yes` is represented by a `2`."
   ]
  },
  {
   "cell_type": "markdown",
   "metadata": {},
   "source": [
    "| Attended College | Under Thirty | Borough   | Income | Customer |\n",
    "| ---------------- | ------------ | --------- | ------ | :------: |\n",
    "| ?                | Yes          | Manhattan | < 55   |    0     |\n",
    "| Yes              | Yes          | Brooklyn  | < 55   |    0     |\n",
    "| ?                | No           | Brooklyn  | < 55   |    1     |"
   ]
  },
  {
   "cell_type": "markdown",
   "metadata": {},
   "source": [
    "So we got to the data in X ready by translating all of our feature values into a corresponding number."
   ]
  },
  {
   "cell_type": "markdown",
   "metadata": {},
   "source": [
    "Now let's take a look at `y`, which we assigned above."
   ]
  },
  {
   "cell_type": "code",
   "execution_count": 8,
   "metadata": {},
   "outputs": [
    {
     "data": {
      "text/html": [
       "<div>\n",
       "<style scoped>\n",
       "    .dataframe tbody tr th:only-of-type {\n",
       "        vertical-align: middle;\n",
       "    }\n",
       "\n",
       "    .dataframe tbody tr th {\n",
       "        vertical-align: top;\n",
       "    }\n",
       "\n",
       "    .dataframe thead th {\n",
       "        text-align: right;\n",
       "    }\n",
       "</style>\n",
       "<table border=\"1\" class=\"dataframe\">\n",
       "  <thead>\n",
       "    <tr style=\"text-align: right;\">\n",
       "      <th></th>\n",
       "      <th>y</th>\n",
       "    </tr>\n",
       "  </thead>\n",
       "  <tbody>\n",
       "    <tr>\n",
       "      <td>0</td>\n",
       "      <td>0</td>\n",
       "    </tr>\n",
       "    <tr>\n",
       "      <td>1</td>\n",
       "      <td>0</td>\n",
       "    </tr>\n",
       "    <tr>\n",
       "      <td>2</td>\n",
       "      <td>1</td>\n",
       "    </tr>\n",
       "  </tbody>\n",
       "</table>\n",
       "</div>"
      ],
      "text/plain": [
       "   y\n",
       "0  0\n",
       "1  0\n",
       "2  1"
      ]
     },
     "execution_count": 8,
     "metadata": {},
     "output_type": "execute_result"
    }
   ],
   "source": [
    "y"
   ]
  },
  {
   "cell_type": "markdown",
   "metadata": {},
   "source": [
    "`y` contains all of our target values -- did the observation become a customer or not.  This target values were already numeric so we did not need to change them."
   ]
  },
  {
   "cell_type": "markdown",
   "metadata": {},
   "source": [
    "In summary, we started with our original data, and separated out our feature data from our target values, assigning the features to `X`, and the target data to `y`.\n",
    "\n",
    "We also then (somehow) changed our data so that each value is now represented as a number."
   ]
  },
  {
   "cell_type": "markdown",
   "metadata": {},
   "source": [
    "### 2. Train a Model"
   ]
  },
  {
   "cell_type": "markdown",
   "metadata": {},
   "source": [
    "Ok, now that we have our feature data and target data separated, and all of our values represented as a number, we can move into training.  "
   ]
  },
  {
   "cell_type": "markdown",
   "metadata": {},
   "source": [
    "To do so, we'll use the `sklearn` library.  We start by telling Jupyter to use the `sklearn.tree` module's `DecisionTreeClasifier`.  "
   ]
  },
  {
   "cell_type": "code",
   "execution_count": 2,
   "metadata": {},
   "outputs": [],
   "source": [
    "from sklearn.tree import DecisionTreeClassifier"
   ]
  },
  {
   "cell_type": "markdown",
   "metadata": {},
   "source": [
    "> The decision tree classifier is the name of the algorithm we choose to use - a decision tree that will predicts if future observations fall into one category or another."
   ]
  },
  {
   "cell_type": "markdown",
   "metadata": {},
   "source": [
    "That line, `from sklearn.tree import DecisionTreeClassifier` gives us the ability to create a tool, which we'll call a model, that makes predictions of our data."
   ]
  },
  {
   "cell_type": "code",
   "execution_count": 9,
   "metadata": {},
   "outputs": [],
   "source": [
    "from sklearn.tree import DecisionTreeClassifier\n",
    "model = DecisionTreeClassifier()"
   ]
  },
  {
   "cell_type": "markdown",
   "metadata": {},
   "source": [
    "> **What's a Model?** A model is just a tool that takes in our training data and then makes predictions.  \n",
    "\n",
    "> When we called, `model = DecisionTreeClassifier`, think of us as creating a little robot, fresh from the factory.  We're going to feed it with information, and then it can make predictions about the world.  Because our robot is of the type `DecisionTreeClassifier`, it will make it's predictions by following the training procedure of a decision tree that we described earlier.  "
   ]
  },
  {
   "cell_type": "markdown",
   "metadata": {},
   "source": [
    "Ok, now that we have a new model, it's time to feed it some data so that it can train it's hypothesis function.  To do so, we call `model.fit` passing through our feature data, X, as one argument and our targets as the other."
   ]
  },
  {
   "cell_type": "code",
   "execution_count": 10,
   "metadata": {},
   "outputs": [
    {
     "data": {
      "text/plain": [
       "DecisionTreeClassifier(class_weight=None, criterion='gini', max_depth=None,\n",
       "                       max_features=None, max_leaf_nodes=None,\n",
       "                       min_impurity_decrease=0.0, min_impurity_split=None,\n",
       "                       min_samples_leaf=1, min_samples_split=2,\n",
       "                       min_weight_fraction_leaf=0.0, presort=False,\n",
       "                       random_state=None, splitter='best')"
      ]
     },
     "execution_count": 10,
     "metadata": {},
     "output_type": "execute_result"
    }
   ],
   "source": [
    "model.fit(X, y)"
   ]
  },
  {
   "cell_type": "markdown",
   "metadata": {},
   "source": [
    "That it!  We just trained a machine learning model in `sklearn`.  \n",
    "\n",
    "The process was to create our new model, and pass through the feature data and the related targets.  \n",
    "\n",
    "```python\n",
    "from sklearn.tree import DecisionTreeClassifier\n",
    "model = DecisionTreeClassifier()\n",
    "model.fit(X, y)\n",
    "```\n",
    "\n",
    "Our hypothesis function is now in there, but it will take a couple of lines of code to see it."
   ]
  },
  {
   "cell_type": "markdown",
   "metadata": {},
   "source": [
    "### 3. Use the Hypothesis Function"
   ]
  },
  {
   "cell_type": "markdown",
   "metadata": {},
   "source": [
    "Now that we have created and trained our model, we can view the hypothesis function of our decision tree above.  But unfortunately, we need another library to do so.  \n",
    "\n",
    "> Run the cell below to install the `dtreeviz` library into your notebook environment.  There may be a lot of output after running the cell below.  Just scroll down."
   ]
  },
  {
   "cell_type": "code",
   "execution_count": 9,
   "metadata": {},
   "outputs": [],
   "source": [
    "!pip install dtreeviz"
   ]
  },
  {
   "cell_type": "markdown",
   "metadata": {},
   "source": [
    "Afterwards, we can visualize our decision tree by pressing `shift + return` on the cell below.  \n",
    "\n",
    "> For now, let's not worry too much about how the code below works, but if you take a look at it, it's not so bad."
   ]
  },
  {
   "cell_type": "code",
   "execution_count": 55,
   "metadata": {},
   "outputs": [
    {
     "data": {
      "image/svg+xml": [
       "<svg xmlns=\"http://www.w3.org/2000/svg\" xmlns:xlink=\"http://www.w3.org/1999/xlink\" height=\"119pt\" viewBox=\"0.00 0.00 262.50 118.50\" width=\"263pt\">\n",
       "<g class=\"graph\" id=\"graph0\" transform=\"scale(1 1) rotate(0) translate(4 114.5)\">\n",
       "<title>G</title>\n",
       "<polygon fill=\"white\" points=\"-4,4 -4,-114.5 258.5,-114.5 258.5,4 -4,4\" stroke=\"transparent\" />\n",
       "<g class=\"cluster\" id=\"clust2\">\n",
       "<title>cluster_legend</title>\n",
       "</g>\n",
       "\n",
       "<g class=\"node\" id=\"node1\">\n",
       "<title>node0</title>\n",
       "<svg height=\"45px\" preserveAspectRatio=\"xMinYMin meet\" version=\"1.1\" viewBox=\"0 0 196.23 60.076875\" width=\"147px\" x=\"4.5\" y=\"-101.5\">\n",
       " <defs>\n",
       "  <style type=\"text/css\">\n",
       "*{stroke-linecap:butt;stroke-linejoin:round;}\n",
       "  </style>\n",
       " </defs>\n",
       " <g id=\"figure_1\">\n",
       "  <g id=\"patch_1\">\n",
       "   <path d=\"M 0 60.076875  L 196.23 60.076875  L 196.23 0  L 0 0  z \" style=\"fill:#ffffff;\" />\n",
       "  </g>\n",
       "  <g id=\"axes_1\">\n",
       "   <g id=\"patch_2\">\n",
       "    <path d=\"M 12.09 30.219375  L 196.23 30.219375  L 196.23 3.039375  L 12.09 3.039375  z \" style=\"fill:#ffffff;\" />\n",
       "   </g>\n",
       "   <g id=\"patch_3\">\n",
       "    <path clip-path=\"url(#p7f277021ad)\" d=\"M 12.09 30.219375  L 21.320075 30.219375  L 21.320075 30.219375  L 12.09 30.219375  z \" style=\"fill:#fefebb;stroke:#444443;stroke-linejoin:miter;stroke-width:0.5;\" />\n",
       "   </g>\n",
       "   <g id=\"patch_4\">\n",
       "    <path clip-path=\"url(#p7f277021ad)\" d=\"M 21.320075 30.219375  L 30.55015 30.219375  L 30.55015 30.219375  L 21.320075 30.219375  z \" style=\"fill:#fefebb;stroke:#444443;stroke-linejoin:miter;stroke-width:0.5;\" />\n",
       "   </g>\n",
       "   <g id=\"patch_5\">\n",
       "    <path clip-path=\"url(#p7f277021ad)\" d=\"M 30.55015 30.219375  L 39.780226 30.219375  L 39.780226 30.219375  L 30.55015 30.219375  z \" style=\"fill:#fefebb;stroke:#444443;stroke-linejoin:miter;stroke-width:0.5;\" />\n",
       "   </g>\n",
       "   <g id=\"patch_6\">\n",
       "    <path clip-path=\"url(#p7f277021ad)\" d=\"M 39.780226 30.219375  L 49.010301 30.219375  L 49.010301 30.219375  L 39.780226 30.219375  z \" style=\"fill:#fefebb;stroke:#444443;stroke-linejoin:miter;stroke-width:0.5;\" />\n",
       "   </g>\n",
       "   <g id=\"patch_7\">\n",
       "    <path clip-path=\"url(#p7f277021ad)\" d=\"M 49.010301 30.219375  L 58.240376 30.219375  L 58.240376 30.219375  L 49.010301 30.219375  z \" style=\"fill:#fefebb;stroke:#444443;stroke-linejoin:miter;stroke-width:0.5;\" />\n",
       "   </g>\n",
       "   <g id=\"patch_8\">\n",
       "    <path clip-path=\"url(#p7f277021ad)\" d=\"M 58.240376 30.219375  L 67.470451 30.219375  L 67.470451 30.219375  L 58.240376 30.219375  z \" style=\"fill:#fefebb;stroke:#444443;stroke-linejoin:miter;stroke-width:0.5;\" />\n",
       "   </g>\n",
       "   <g id=\"patch_9\">\n",
       "    <path clip-path=\"url(#p7f277021ad)\" d=\"M 67.470451 30.219375  L 76.700526 30.219375  L 76.700526 30.219375  L 67.470451 30.219375  z \" style=\"fill:#fefebb;stroke:#444443;stroke-linejoin:miter;stroke-width:0.5;\" />\n",
       "   </g>\n",
       "   <g id=\"patch_10\">\n",
       "    <path clip-path=\"url(#p7f277021ad)\" d=\"M 76.700526 30.219375  L 85.930602 30.219375  L 85.930602 30.219375  L 76.700526 30.219375  z \" style=\"fill:#fefebb;stroke:#444443;stroke-linejoin:miter;stroke-width:0.5;\" />\n",
       "   </g>\n",
       "   <g id=\"patch_11\">\n",
       "    <path clip-path=\"url(#p7f277021ad)\" d=\"M 85.930602 30.219375  L 95.160677 30.219375  L 95.160677 30.219375  L 85.930602 30.219375  z \" style=\"fill:#fefebb;stroke:#444443;stroke-linejoin:miter;stroke-width:0.5;\" />\n",
       "   </g>\n",
       "   <g id=\"patch_12\">\n",
       "    <path clip-path=\"url(#p7f277021ad)\" d=\"M 95.160677 30.219375  L 104.390752 30.219375  L 104.390752 30.219375  L 95.160677 30.219375  z \" style=\"fill:#fefebb;stroke:#444443;stroke-linejoin:miter;stroke-width:0.5;\" />\n",
       "   </g>\n",
       "   <g id=\"patch_13\">\n",
       "    <path clip-path=\"url(#p7f277021ad)\" d=\"M 104.390752 30.219375  L 113.620827 30.219375  L 113.620827 30.219375  L 104.390752 30.219375  z \" style=\"fill:#fefebb;stroke:#444443;stroke-linejoin:miter;stroke-width:0.5;\" />\n",
       "   </g>\n",
       "   <g id=\"patch_14\">\n",
       "    <path clip-path=\"url(#p7f277021ad)\" d=\"M 113.620827 30.219375  L 122.850902 30.219375  L 122.850902 30.219375  L 113.620827 30.219375  z \" style=\"fill:#fefebb;stroke:#444443;stroke-linejoin:miter;stroke-width:0.5;\" />\n",
       "   </g>\n",
       "   <g id=\"patch_15\">\n",
       "    <path clip-path=\"url(#p7f277021ad)\" d=\"M 122.850902 30.219375  L 132.080977 30.219375  L 132.080977 30.219375  L 122.850902 30.219375  z \" style=\"fill:#fefebb;stroke:#444443;stroke-linejoin:miter;stroke-width:0.5;\" />\n",
       "   </g>\n",
       "   <g id=\"patch_16\">\n",
       "    <path clip-path=\"url(#p7f277021ad)\" d=\"M 132.080977 30.219375  L 141.311053 30.219375  L 141.311053 30.219375  L 132.080977 30.219375  z \" style=\"fill:#fefebb;stroke:#444443;stroke-linejoin:miter;stroke-width:0.5;\" />\n",
       "   </g>\n",
       "   <g id=\"patch_17\">\n",
       "    <path clip-path=\"url(#p7f277021ad)\" d=\"M 141.311053 30.219375  L 150.541128 30.219375  L 150.541128 30.219375  L 141.311053 30.219375  z \" style=\"fill:#fefebb;stroke:#444443;stroke-linejoin:miter;stroke-width:0.5;\" />\n",
       "   </g>\n",
       "   <g id=\"patch_18\">\n",
       "    <path clip-path=\"url(#p7f277021ad)\" d=\"M 150.541128 30.219375  L 159.771203 30.219375  L 159.771203 30.219375  L 150.541128 30.219375  z \" style=\"fill:#fefebb;stroke:#444443;stroke-linejoin:miter;stroke-width:0.5;\" />\n",
       "   </g>\n",
       "   <g id=\"patch_19\">\n",
       "    <path clip-path=\"url(#p7f277021ad)\" d=\"M 159.771203 30.219375  L 169.001278 30.219375  L 169.001278 30.219375  L 159.771203 30.219375  z \" style=\"fill:#fefebb;stroke:#444443;stroke-linejoin:miter;stroke-width:0.5;\" />\n",
       "   </g>\n",
       "   <g id=\"patch_20\">\n",
       "    <path clip-path=\"url(#p7f277021ad)\" d=\"M 169.001278 30.219375  L 178.231353 30.219375  L 178.231353 30.219375  L 169.001278 30.219375  z \" style=\"fill:#fefebb;stroke:#444443;stroke-linejoin:miter;stroke-width:0.5;\" />\n",
       "   </g>\n",
       "   <g id=\"patch_21\">\n",
       "    <path clip-path=\"url(#p7f277021ad)\" d=\"M 178.231353 30.219375  L 187.461429 30.219375  L 187.461429 3.039375  L 178.231353 3.039375  z \" style=\"fill:#fefebb;stroke:#444443;stroke-linejoin:miter;stroke-width:0.5;\" />\n",
       "   </g>\n",
       "   <g id=\"patch_22\">\n",
       "    <path clip-path=\"url(#p7f277021ad)\" d=\"M 12.09 30.219375  L 21.320075 30.219375  L 21.320075 16.629375  L 12.09 16.629375  z \" style=\"fill:#a1dab4;stroke:#444443;stroke-linejoin:miter;stroke-width:0.5;\" />\n",
       "   </g>\n",
       "   <g id=\"patch_23\">\n",
       "    <path clip-path=\"url(#p7f277021ad)\" d=\"M 21.320075 30.219375  L 30.55015 30.219375  L 30.55015 30.219375  L 21.320075 30.219375  z \" style=\"fill:#a1dab4;stroke:#444443;stroke-linejoin:miter;stroke-width:0.5;\" />\n",
       "   </g>\n",
       "   <g id=\"patch_24\">\n",
       "    <path clip-path=\"url(#p7f277021ad)\" d=\"M 30.55015 30.219375  L 39.780226 30.219375  L 39.780226 30.219375  L 30.55015 30.219375  z \" style=\"fill:#a1dab4;stroke:#444443;stroke-linejoin:miter;stroke-width:0.5;\" />\n",
       "   </g>\n",
       "   <g id=\"patch_25\">\n",
       "    <path clip-path=\"url(#p7f277021ad)\" d=\"M 39.780226 30.219375  L 49.010301 30.219375  L 49.010301 30.219375  L 39.780226 30.219375  z \" style=\"fill:#a1dab4;stroke:#444443;stroke-linejoin:miter;stroke-width:0.5;\" />\n",
       "   </g>\n",
       "   <g id=\"patch_26\">\n",
       "    <path clip-path=\"url(#p7f277021ad)\" d=\"M 49.010301 30.219375  L 58.240376 30.219375  L 58.240376 30.219375  L 49.010301 30.219375  z \" style=\"fill:#a1dab4;stroke:#444443;stroke-linejoin:miter;stroke-width:0.5;\" />\n",
       "   </g>\n",
       "   <g id=\"patch_27\">\n",
       "    <path clip-path=\"url(#p7f277021ad)\" d=\"M 58.240376 30.219375  L 67.470451 30.219375  L 67.470451 30.219375  L 58.240376 30.219375  z \" style=\"fill:#a1dab4;stroke:#444443;stroke-linejoin:miter;stroke-width:0.5;\" />\n",
       "   </g>\n",
       "   <g id=\"patch_28\">\n",
       "    <path clip-path=\"url(#p7f277021ad)\" d=\"M 67.470451 30.219375  L 76.700526 30.219375  L 76.700526 30.219375  L 67.470451 30.219375  z \" style=\"fill:#a1dab4;stroke:#444443;stroke-linejoin:miter;stroke-width:0.5;\" />\n",
       "   </g>\n",
       "   <g id=\"patch_29\">\n",
       "    <path clip-path=\"url(#p7f277021ad)\" d=\"M 76.700526 30.219375  L 85.930602 30.219375  L 85.930602 30.219375  L 76.700526 30.219375  z \" style=\"fill:#a1dab4;stroke:#444443;stroke-linejoin:miter;stroke-width:0.5;\" />\n",
       "   </g>\n",
       "   <g id=\"patch_30\">\n",
       "    <path clip-path=\"url(#p7f277021ad)\" d=\"M 85.930602 30.219375  L 95.160677 30.219375  L 95.160677 30.219375  L 85.930602 30.219375  z \" style=\"fill:#a1dab4;stroke:#444443;stroke-linejoin:miter;stroke-width:0.5;\" />\n",
       "   </g>\n",
       "   <g id=\"patch_31\">\n",
       "    <path clip-path=\"url(#p7f277021ad)\" d=\"M 95.160677 30.219375  L 104.390752 30.219375  L 104.390752 30.219375  L 95.160677 30.219375  z \" style=\"fill:#a1dab4;stroke:#444443;stroke-linejoin:miter;stroke-width:0.5;\" />\n",
       "   </g>\n",
       "   <g id=\"patch_32\">\n",
       "    <path clip-path=\"url(#p7f277021ad)\" d=\"M 104.390752 30.219375  L 113.620827 30.219375  L 113.620827 30.219375  L 104.390752 30.219375  z \" style=\"fill:#a1dab4;stroke:#444443;stroke-linejoin:miter;stroke-width:0.5;\" />\n",
       "   </g>\n",
       "   <g id=\"patch_33\">\n",
       "    <path clip-path=\"url(#p7f277021ad)\" d=\"M 113.620827 30.219375  L 122.850902 30.219375  L 122.850902 30.219375  L 113.620827 30.219375  z \" style=\"fill:#a1dab4;stroke:#444443;stroke-linejoin:miter;stroke-width:0.5;\" />\n",
       "   </g>\n",
       "   <g id=\"patch_34\">\n",
       "    <path clip-path=\"url(#p7f277021ad)\" d=\"M 122.850902 30.219375  L 132.080977 30.219375  L 132.080977 30.219375  L 122.850902 30.219375  z \" style=\"fill:#a1dab4;stroke:#444443;stroke-linejoin:miter;stroke-width:0.5;\" />\n",
       "   </g>\n",
       "   <g id=\"patch_35\">\n",
       "    <path clip-path=\"url(#p7f277021ad)\" d=\"M 132.080977 30.219375  L 141.311053 30.219375  L 141.311053 30.219375  L 132.080977 30.219375  z \" style=\"fill:#a1dab4;stroke:#444443;stroke-linejoin:miter;stroke-width:0.5;\" />\n",
       "   </g>\n",
       "   <g id=\"patch_36\">\n",
       "    <path clip-path=\"url(#p7f277021ad)\" d=\"M 141.311053 30.219375  L 150.541128 30.219375  L 150.541128 30.219375  L 141.311053 30.219375  z \" style=\"fill:#a1dab4;stroke:#444443;stroke-linejoin:miter;stroke-width:0.5;\" />\n",
       "   </g>\n",
       "   <g id=\"patch_37\">\n",
       "    <path clip-path=\"url(#p7f277021ad)\" d=\"M 150.541128 30.219375  L 159.771203 30.219375  L 159.771203 30.219375  L 150.541128 30.219375  z \" style=\"fill:#a1dab4;stroke:#444443;stroke-linejoin:miter;stroke-width:0.5;\" />\n",
       "   </g>\n",
       "   <g id=\"patch_38\">\n",
       "    <path clip-path=\"url(#p7f277021ad)\" d=\"M 159.771203 30.219375  L 169.001278 30.219375  L 169.001278 30.219375  L 159.771203 30.219375  z \" style=\"fill:#a1dab4;stroke:#444443;stroke-linejoin:miter;stroke-width:0.5;\" />\n",
       "   </g>\n",
       "   <g id=\"patch_39\">\n",
       "    <path clip-path=\"url(#p7f277021ad)\" d=\"M 169.001278 30.219375  L 178.231353 30.219375  L 178.231353 30.219375  L 169.001278 30.219375  z \" style=\"fill:#a1dab4;stroke:#444443;stroke-linejoin:miter;stroke-width:0.5;\" />\n",
       "   </g>\n",
       "   <g id=\"patch_40\">\n",
       "    <path clip-path=\"url(#p7f277021ad)\" d=\"M 178.231353 3.039375  L 187.461429 3.039375  L 187.461429 3.039375  L 178.231353 3.039375  z \" style=\"fill:#a1dab4;stroke:#444443;stroke-linejoin:miter;stroke-width:0.5;\" />\n",
       "   </g>\n",
       "   <g id=\"patch_41\">\n",
       "    <path d=\"M 99.775714 31.034775  L 96.461194 38.373375  L 103.090234 38.373375  z \" style=\"fill:#444443;\" />\n",
       "   </g>\n",
       "   <g id=\"matplotlib.axis_1\">\n",
       "    <g id=\"xtick_1\">\n",
       "     <g id=\"line2d_1\">\n",
       "      <defs>\n",
       "       <path d=\"M 0 0  L 0 3.5  \" id=\"m457d8bca33\" style=\"stroke:#000000;stroke-width:0.3;\" />\n",
       "      </defs>\n",
       "      <g>\n",
       "       <use style=\"stroke:#000000;stroke-width:0.3;\" x=\"12.09\" y=\"30.219375\" xlink:href=\"#m457d8bca33\" />\n",
       "      </g>\n",
       "     </g>\n",
       "     <g id=\"text_1\">\n",
       "      \n",
       "      <defs>\n",
       "       <path d=\"M 31.78125 66.40625  Q 24.171875 66.40625 20.328125 58.90625  Q 16.5 51.421875 16.5 36.375  Q 16.5 21.390625 20.328125 13.890625  Q 24.171875 6.390625 31.78125 6.390625  Q 39.453125 6.390625 43.28125 13.890625  Q 47.125 21.390625 47.125 36.375  Q 47.125 51.421875 43.28125 58.90625  Q 39.453125 66.40625 31.78125 66.40625  z M 31.78125 74.21875  Q 44.046875 74.21875 50.515625 64.515625  Q 56.984375 54.828125 56.984375 36.375  Q 56.984375 17.96875 50.515625 8.265625  Q 44.046875 -1.421875 31.78125 -1.421875  Q 19.53125 -1.421875 13.0625 8.265625  Q 6.59375 17.96875 6.59375 36.375  Q 6.59375 54.828125 13.0625 64.515625  Q 19.53125 74.21875 31.78125 74.21875  z \" id=\"DejaVuSans-48\" />\n",
       "      </defs>\n",
       "      <g style=\"fill:#444443;\" transform=\"translate(9.545 43.298125)scale(0.08 -0.08)\">\n",
       "       <use xlink:href=\"#DejaVuSans-48\" />\n",
       "      </g>\n",
       "     </g>\n",
       "    </g>\n",
       "    <g id=\"xtick_2\">\n",
       "     <g id=\"line2d_2\">\n",
       "      <g>\n",
       "       <use style=\"stroke:#000000;stroke-width:0.3;\" x=\"187.461429\" y=\"30.219375\" xlink:href=\"#m457d8bca33\" />\n",
       "      </g>\n",
       "     </g>\n",
       "     <g id=\"text_2\">\n",
       "      \n",
       "      <defs>\n",
       "       <path d=\"M 12.40625 8.296875  L 28.515625 8.296875  L 28.515625 63.921875  L 10.984375 60.40625  L 10.984375 69.390625  L 28.421875 72.90625  L 38.28125 72.90625  L 38.28125 8.296875  L 54.390625 8.296875  L 54.390625 0  L 12.40625 0  z \" id=\"DejaVuSans-49\" />\n",
       "      </defs>\n",
       "      <g style=\"fill:#444443;\" transform=\"translate(184.916429 43.298125)scale(0.08 -0.08)\">\n",
       "       <use xlink:href=\"#DejaVuSans-49\" />\n",
       "      </g>\n",
       "     </g>\n",
       "    </g>\n",
       "    <g id=\"text_3\">\n",
       "     \n",
       "     <defs>\n",
       "      <path d=\"M 40.578125 0  L 40.578125 7.625  Q 34.515625 -1.171875 24.125 -1.171875  Q 19.53125 -1.171875 15.546875 0.578125  Q 11.578125 2.34375 9.640625 5  Q 7.71875 7.671875 6.9375 11.53125  Q 6.390625 14.109375 6.390625 19.734375  L 6.390625 51.859375  L 15.1875 51.859375  L 15.1875 23.09375  Q 15.1875 16.21875 15.71875 13.8125  Q 16.546875 10.359375 19.234375 8.375  Q 21.921875 6.390625 25.875 6.390625  Q 29.828125 6.390625 33.296875 8.421875  Q 36.765625 10.453125 38.203125 13.9375  Q 39.65625 17.4375 39.65625 24.078125  L 39.65625 51.859375  L 48.4375 51.859375  L 48.4375 0  z \" id=\"ArialMT-117\" />\n",
       "      <path d=\"M 6.59375 0  L 6.59375 51.859375  L 14.5 51.859375  L 14.5 44.484375  Q 20.21875 53.03125 31 53.03125  Q 35.6875 53.03125 39.625 51.34375  Q 43.5625 49.65625 45.515625 46.921875  Q 47.46875 44.1875 48.25 40.4375  Q 48.734375 37.984375 48.734375 31.890625  L 48.734375 0  L 39.9375 0  L 39.9375 31.546875  Q 39.9375 36.921875 38.90625 39.578125  Q 37.890625 42.234375 35.28125 43.8125  Q 32.671875 45.40625 29.15625 45.40625  Q 23.53125 45.40625 19.453125 41.84375  Q 15.375 38.28125 15.375 28.328125  L 15.375 0  z \" id=\"ArialMT-110\" />\n",
       "      <path d=\"M 40.234375 0  L 40.234375 6.546875  Q 35.296875 -1.171875 25.734375 -1.171875  Q 19.53125 -1.171875 14.328125 2.25  Q 9.125 5.671875 6.265625 11.796875  Q 3.421875 17.921875 3.421875 25.875  Q 3.421875 33.640625 6 39.96875  Q 8.59375 46.296875 13.765625 49.65625  Q 18.953125 53.03125 25.34375 53.03125  Q 30.03125 53.03125 33.6875 51.046875  Q 37.359375 49.078125 39.65625 45.90625  L 39.65625 71.578125  L 48.390625 71.578125  L 48.390625 0  z M 12.453125 25.875  Q 12.453125 15.921875 16.640625 10.984375  Q 20.84375 6.0625 26.5625 6.0625  Q 32.328125 6.0625 36.34375 10.765625  Q 40.375 15.484375 40.375 25.140625  Q 40.375 35.796875 36.265625 40.765625  Q 32.171875 45.75 26.171875 45.75  Q 20.3125 45.75 16.375 40.96875  Q 12.453125 36.1875 12.453125 25.875  z \" id=\"ArialMT-100\" />\n",
       "      <path d=\"M 42.09375 16.703125  L 51.171875 15.578125  Q 49.03125 7.625 43.21875 3.21875  Q 37.40625 -1.171875 28.375 -1.171875  Q 17 -1.171875 10.328125 5.828125  Q 3.65625 12.84375 3.65625 25.484375  Q 3.65625 38.578125 10.390625 45.796875  Q 17.140625 53.03125 27.875 53.03125  Q 38.28125 53.03125 44.875 45.953125  Q 51.46875 38.875 51.46875 26.03125  Q 51.46875 25.25 51.421875 23.6875  L 12.75 23.6875  Q 13.234375 15.140625 17.578125 10.59375  Q 21.921875 6.0625 28.421875 6.0625  Q 33.25 6.0625 36.671875 8.59375  Q 40.09375 11.140625 42.09375 16.703125  z M 13.234375 30.90625  L 42.1875 30.90625  Q 41.609375 37.453125 38.875 40.71875  Q 34.671875 45.796875 27.984375 45.796875  Q 21.921875 45.796875 17.796875 41.75  Q 13.671875 37.703125 13.234375 30.90625  z \" id=\"ArialMT-101\" />\n",
       "      <path d=\"M 6.5 0  L 6.5 51.859375  L 14.40625 51.859375  L 14.40625 44  Q 17.4375 49.515625 20 51.265625  Q 22.5625 53.03125 25.640625 53.03125  Q 30.078125 53.03125 34.671875 50.203125  L 31.640625 42.046875  Q 28.421875 43.953125 25.203125 43.953125  Q 22.3125 43.953125 20.015625 42.21875  Q 17.71875 40.484375 16.75 37.40625  Q 15.28125 32.71875 15.28125 27.15625  L 15.28125 0  z \" id=\"ArialMT-114\" />\n",
       "      <path d=\"M -1.515625 -19.875  L -1.515625 -13.53125  L 56.734375 -13.53125  L 56.734375 -19.875  z \" id=\"ArialMT-95\" />\n",
       "      <path d=\"M 25.78125 7.859375  L 27.046875 0.09375  Q 23.34375 -0.6875 20.40625 -0.6875  Q 15.625 -0.6875 12.984375 0.828125  Q 10.359375 2.34375 9.28125 4.8125  Q 8.203125 7.28125 8.203125 15.1875  L 8.203125 45.015625  L 1.765625 45.015625  L 1.765625 51.859375  L 8.203125 51.859375  L 8.203125 64.703125  L 16.9375 69.96875  L 16.9375 51.859375  L 25.78125 51.859375  L 25.78125 45.015625  L 16.9375 45.015625  L 16.9375 14.703125  Q 16.9375 10.9375 17.40625 9.859375  Q 17.875 8.796875 18.921875 8.15625  Q 19.96875 7.515625 21.921875 7.515625  Q 23.390625 7.515625 25.78125 7.859375  z \" id=\"ArialMT-116\" />\n",
       "      <path d=\"M 6.59375 0  L 6.59375 71.578125  L 15.375 71.578125  L 15.375 45.90625  Q 21.53125 53.03125 30.90625 53.03125  Q 36.671875 53.03125 40.921875 50.75  Q 45.171875 48.484375 47 44.484375  Q 48.828125 40.484375 48.828125 32.859375  L 48.828125 0  L 40.046875 0  L 40.046875 32.859375  Q 40.046875 39.453125 37.1875 42.453125  Q 34.328125 45.453125 29.109375 45.453125  Q 25.203125 45.453125 21.75 43.421875  Q 18.3125 41.40625 16.84375 37.9375  Q 15.375 34.46875 15.375 28.375  L 15.375 0  z \" id=\"ArialMT-104\" />\n",
       "      <path d=\"M 6.640625 61.46875  L 6.640625 71.578125  L 15.4375 71.578125  L 15.4375 61.46875  z M 6.640625 0  L 6.640625 51.859375  L 15.4375 51.859375  L 15.4375 0  z \" id=\"ArialMT-105\" />\n",
       "      <path d=\"M 6.203125 -19.96875  L 5.21875 -11.71875  Q 8.109375 -12.5 10.25 -12.5  Q 13.1875 -12.5 14.9375 -11.515625  Q 16.703125 -10.546875 17.828125 -8.796875  Q 18.65625 -7.46875 20.515625 -2.25  Q 20.75 -1.515625 21.296875 -0.09375  L 1.609375 51.859375  L 11.078125 51.859375  L 21.875 21.828125  Q 23.96875 16.109375 25.640625 9.8125  Q 27.15625 15.875 29.25 21.625  L 40.328125 51.859375  L 49.125 51.859375  L 29.390625 -0.875  Q 26.21875 -9.421875 24.46875 -12.640625  Q 22.125 -17 19.09375 -19.015625  Q 16.0625 -21.046875 11.859375 -21.046875  Q 9.328125 -21.046875 6.203125 -19.96875  z \" id=\"ArialMT-121\" />\n",
       "     </defs>\n",
       "     <g style=\"fill:#444443;\" transform=\"translate(72.478125 57.55125)scale(0.12 -0.12)\">\n",
       "      <use xlink:href=\"#ArialMT-117\" />\n",
       "      <use x=\"55.615234\" xlink:href=\"#ArialMT-110\" />\n",
       "      <use x=\"111.230469\" xlink:href=\"#ArialMT-100\" />\n",
       "      <use x=\"166.845703\" xlink:href=\"#ArialMT-101\" />\n",
       "      <use x=\"222.460938\" xlink:href=\"#ArialMT-114\" />\n",
       "      <use x=\"255.761719\" xlink:href=\"#ArialMT-95\" />\n",
       "      <use x=\"311.376953\" xlink:href=\"#ArialMT-116\" />\n",
       "      <use x=\"339.160156\" xlink:href=\"#ArialMT-104\" />\n",
       "      <use x=\"394.775391\" xlink:href=\"#ArialMT-105\" />\n",
       "      <use x=\"416.992188\" xlink:href=\"#ArialMT-114\" />\n",
       "      <use x=\"450.292969\" xlink:href=\"#ArialMT-116\" />\n",
       "      <use x=\"478.076172\" xlink:href=\"#ArialMT-121\" />\n",
       "     </g>\n",
       "    </g>\n",
       "   </g>\n",
       "   <g id=\"matplotlib.axis_2\">\n",
       "    <g id=\"ytick_1\">\n",
       "     <g id=\"line2d_3\">\n",
       "      <defs>\n",
       "       <path d=\"M 0 0  L -3.5 0  \" id=\"me5693234ef\" style=\"stroke:#000000;stroke-width:0.3;\" />\n",
       "      </defs>\n",
       "      <g>\n",
       "       <use style=\"stroke:#000000;stroke-width:0.3;\" x=\"12.09\" y=\"30.219375\" xlink:href=\"#me5693234ef\" />\n",
       "      </g>\n",
       "     </g>\n",
       "     <g id=\"text_4\">\n",
       "      \n",
       "      <g style=\"fill:#444443;\" transform=\"translate(0 33.25875)scale(0.08 -0.08)\">\n",
       "       <use xlink:href=\"#DejaVuSans-48\" />\n",
       "      </g>\n",
       "     </g>\n",
       "    </g>\n",
       "    <g id=\"ytick_2\">\n",
       "     <g id=\"line2d_4\">\n",
       "      <g>\n",
       "       <use style=\"stroke:#000000;stroke-width:0.3;\" x=\"12.09\" y=\"3.039375\" xlink:href=\"#me5693234ef\" />\n",
       "      </g>\n",
       "     </g>\n",
       "     <g id=\"text_5\">\n",
       "      \n",
       "      <defs>\n",
       "       <path d=\"M 19.1875 8.296875  L 53.609375 8.296875  L 53.609375 0  L 7.328125 0  L 7.328125 8.296875  Q 12.9375 14.109375 22.625 23.890625  Q 32.328125 33.6875 34.8125 36.53125  Q 39.546875 41.84375 41.421875 45.53125  Q 43.3125 49.21875 43.3125 52.78125  Q 43.3125 58.59375 39.234375 62.25  Q 35.15625 65.921875 28.609375 65.921875  Q 23.96875 65.921875 18.8125 64.3125  Q 13.671875 62.703125 7.8125 59.421875  L 7.8125 69.390625  Q 13.765625 71.78125 18.9375 73  Q 24.125 74.21875 28.421875 74.21875  Q 39.75 74.21875 46.484375 68.546875  Q 53.21875 62.890625 53.21875 53.421875  Q 53.21875 48.921875 51.53125 44.890625  Q 49.859375 40.875 45.40625 35.40625  Q 44.1875 33.984375 37.640625 27.21875  Q 31.109375 20.453125 19.1875 8.296875  z \" id=\"DejaVuSans-50\" />\n",
       "      </defs>\n",
       "      <g style=\"fill:#444443;\" transform=\"translate(0 6.07875)scale(0.08 -0.08)\">\n",
       "       <use xlink:href=\"#DejaVuSans-50\" />\n",
       "      </g>\n",
       "     </g>\n",
       "    </g>\n",
       "   </g>\n",
       "   <g id=\"patch_42\">\n",
       "    <path d=\"M 12.09 30.219375  L 12.09 3.039375  \" style=\"fill:none;stroke:#000000;stroke-linecap:square;stroke-linejoin:miter;stroke-width:0.3;\" />\n",
       "   </g>\n",
       "   <g id=\"patch_43\">\n",
       "    <path d=\"M 12.09 30.219375  L 196.23 30.219375  \" style=\"fill:none;stroke:#000000;stroke-linecap:square;stroke-linejoin:miter;stroke-width:0.3;\" />\n",
       "   </g>\n",
       "   <g id=\"text_6\">\n",
       "    \n",
       "    <defs>\n",
       "     <path d=\"M 4.15625 35.296875  Q 4.15625 48 6.765625 55.734375  Q 9.375 63.484375 14.515625 67.671875  Q 19.671875 71.875 27.484375 71.875  Q 33.25 71.875 37.59375 69.546875  Q 41.9375 67.234375 44.765625 62.859375  Q 47.609375 58.5 49.21875 52.21875  Q 50.828125 45.953125 50.828125 35.296875  Q 50.828125 22.703125 48.234375 14.96875  Q 45.65625 7.234375 40.5 3  Q 35.359375 -1.21875 27.484375 -1.21875  Q 17.140625 -1.21875 11.234375 6.203125  Q 4.15625 15.140625 4.15625 35.296875  z M 13.1875 35.296875  Q 13.1875 17.671875 17.3125 11.828125  Q 21.4375 6 27.484375 6  Q 33.546875 6 37.671875 11.859375  Q 41.796875 17.71875 41.796875 35.296875  Q 41.796875 52.984375 37.671875 58.78125  Q 33.546875 64.59375 27.390625 64.59375  Q 21.34375 64.59375 17.71875 59.46875  Q 13.1875 52.9375 13.1875 35.296875  z \" id=\"ArialMT-48\" />\n",
       "     <path d=\"M 9.078125 0  L 9.078125 10.015625  L 19.09375 10.015625  L 19.09375 0  z \" id=\"ArialMT-46\" />\n",
       "     <path d=\"M 4.15625 18.75  L 13.375 19.53125  Q 14.40625 12.796875 18.140625 9.390625  Q 21.875 6 27.15625 6  Q 33.5 6 37.890625 10.78125  Q 42.28125 15.578125 42.28125 23.484375  Q 42.28125 31 38.0625 35.34375  Q 33.84375 39.703125 27 39.703125  Q 22.75 39.703125 19.328125 37.765625  Q 15.921875 35.84375 13.96875 32.765625  L 5.71875 33.84375  L 12.640625 70.609375  L 48.25 70.609375  L 48.25 62.203125  L 19.671875 62.203125  L 15.828125 42.96875  Q 22.265625 47.46875 29.34375 47.46875  Q 38.71875 47.46875 45.15625 40.96875  Q 51.609375 34.46875 51.609375 24.265625  Q 51.609375 14.546875 45.953125 7.46875  Q 39.0625 -1.21875 27.15625 -1.21875  Q 17.390625 -1.21875 11.203125 4.25  Q 5.03125 9.71875 4.15625 18.75  z \" id=\"ArialMT-53\" />\n",
       "    </defs>\n",
       "    <g style=\"fill:#444443;\" transform=\"translate(91.991339 46.527375)scale(0.08 -0.08)\">\n",
       "     <use xlink:href=\"#ArialMT-48\" />\n",
       "     <use x=\"55.615234\" xlink:href=\"#ArialMT-46\" />\n",
       "     <use x=\"83.398438\" xlink:href=\"#ArialMT-53\" />\n",
       "     <use x=\"139.013672\" xlink:href=\"#ArialMT-48\" />\n",
       "    </g>\n",
       "   </g>\n",
       "  </g>\n",
       " </g>\n",
       " <defs>\n",
       "  <clipPath id=\"p7f277021ad\">\n",
       "   <rect height=\"27.18\" width=\"184.14\" x=\"12.09\" y=\"3.039375\" />\n",
       "  </clipPath>\n",
       " </defs>\n",
       "</svg></g>\n",
       "\n",
       "<g class=\"node\" id=\"node2\">\n",
       "<title>leaf1</title>\n",
       "<polygon fill=\"none\" points=\"70.5,-22.5 50.5,-22.5 50.5,-0.5 70.5,-0.5 70.5,-22.5\" stroke=\"#444443\" stroke-width=\"0\" />\n",
       "<svg height=\"14px\" preserveAspectRatio=\"xMinYMin meet\" version=\"1.1\" viewBox=\"0 0 15.26625 18.909501\" width=\"12px\" x=\"54.5\" y=\"-18.5\">\n",
       " <defs>\n",
       "  <style type=\"text/css\">\n",
       "*{stroke-linecap:butt;stroke-linejoin:round;}\n",
       "  </style>\n",
       " </defs>\n",
       " <g id=\"figure_1\">\n",
       "  <g id=\"patch_1\">\n",
       "   <path d=\"M 0 18.909501  L 15.26625 18.909501  L 15.26625 0  L 0 0  z \" style=\"fill:#ffffff;\" />\n",
       "  </g>\n",
       "  <g id=\"axes_1\">\n",
       "   <g id=\"patch_2\">\n",
       "    <path d=\"M 12.767125 5.134  C 12.767125 4.459809 12.634324 3.792174 12.376323 3.169303  C 12.118321 2.546432 11.740136 1.980439 11.263411 1.503714  C 10.786686 1.026989 10.220693 0.648804 9.597822 0.390802  C 8.974951 0.132801 8.307316 -0 7.633125 -0  C 6.958934 -0 6.291299 0.132801 5.668428 0.390802  C 5.045557 0.648804 4.479564 1.026989 4.002839 1.503714  C 3.526114 1.980439 3.147929 2.546432 2.889927 3.169303  C 2.631926 3.792174 2.499125 4.459809 2.499125 5.134  C 2.499125 5.808191 2.631926 6.475826 2.889927 7.098697  C 3.147929 7.721568 3.526114 8.287561 4.002839 8.764286  C 4.479564 9.241011 5.045557 9.619196 5.668428 9.877198  C 6.291299 10.135199 6.958934 10.268 7.633125 10.268  C 8.307316 10.268 8.974951 10.135199 9.597822 9.877198  C 10.220693 9.619196 10.786686 9.241011 11.263411 8.764286  C 11.740136 8.287561 12.118321 7.721568 12.376323 7.098697  C 12.634324 6.475826 12.767125 5.808191 12.767125 5.134  M 7.633125 5.134  M 12.767125 5.134  z \" style=\"fill:#a1dab4;stroke:#444443;stroke-linejoin:miter;stroke-width:0.5;\" />\n",
       "   </g>\n",
       "   <g id=\"text_1\">\n",
       "    \n",
       "    <defs>\n",
       "     <path d=\"M 6.59375 0  L 6.59375 51.859375  L 14.5 51.859375  L 14.5 44.484375  Q 20.21875 53.03125 31 53.03125  Q 35.6875 53.03125 39.625 51.34375  Q 43.5625 49.65625 45.515625 46.921875  Q 47.46875 44.1875 48.25 40.4375  Q 48.734375 37.984375 48.734375 31.890625  L 48.734375 0  L 39.9375 0  L 39.9375 31.546875  Q 39.9375 36.921875 38.90625 39.578125  Q 37.890625 42.234375 35.28125 43.8125  Q 32.671875 45.40625 29.15625 45.40625  Q 23.53125 45.40625 19.453125 41.84375  Q 15.375 38.28125 15.375 28.328125  L 15.375 0  z \" id=\"ArialMT-110\" />\n",
       "     <path d=\"M 52.828125 42.09375  L 5.5625 42.09375  L 5.5625 50.296875  L 52.828125 50.296875  z M 52.828125 20.359375  L 5.5625 20.359375  L 5.5625 28.5625  L 52.828125 28.5625  z \" id=\"ArialMT-61\" />\n",
       "     <path d=\"M 37.25 0  L 28.46875 0  L 28.46875 56  Q 25.296875 52.984375 20.140625 49.953125  Q 14.984375 46.921875 10.890625 45.40625  L 10.890625 53.90625  Q 18.265625 57.375 23.78125 62.296875  Q 29.296875 67.234375 31.59375 71.875  L 37.25 71.875  z \" id=\"ArialMT-49\" />\n",
       "    </defs>\n",
       "    <g style=\"fill:#444443;\" transform=\"translate(0 17.120751)scale(0.09 -0.09)\">\n",
       "     <use xlink:href=\"#ArialMT-110\" />\n",
       "     <use x=\"55.615234\" xlink:href=\"#ArialMT-61\" />\n",
       "     <use x=\"114.013672\" xlink:href=\"#ArialMT-49\" />\n",
       "    </g>\n",
       "   </g>\n",
       "  </g>\n",
       " </g>\n",
       "</svg></g>\n",
       "\n",
       "<g class=\"edge\" id=\"edge1\">\n",
       "<title>node0-&gt;leaf1</title>\n",
       "<path d=\"M70.88,-52.79C68.58,-43.88 66.09,-34.21 64.13,-26.58\" fill=\"none\" stroke=\"#444443\" stroke-width=\"0.3\" />\n",
       "<polygon fill=\"#444443\" points=\"65.45,-26.1 63.09,-22.57 62.74,-26.79 65.45,-26.1\" stroke=\"#444443\" stroke-width=\"0.3\" />\n",
       "<text font-family=\"Times,serif\" font-size=\"14.00\" text-anchor=\"start\" x=\"68.5\" y=\"-33.8\">&lt;</text>\n",
       "</g>\n",
       "\n",
       "<g class=\"node\" id=\"node3\">\n",
       "<title>leaf2</title>\n",
       "<polygon fill=\"none\" points=\"104.5,-23 84.5,-23 84.5,0 104.5,0 104.5,-23\" stroke=\"#444443\" stroke-width=\"0\" />\n",
       "<svg height=\"15px\" preserveAspectRatio=\"xMinYMin meet\" version=\"1.1\" viewBox=\"0 0 15.26625 20.165821\" width=\"12px\" x=\"88.5\" y=\"-18.5\">\n",
       " <defs>\n",
       "  <style type=\"text/css\">\n",
       "*{stroke-linecap:butt;stroke-linejoin:round;}\n",
       "  </style>\n",
       " </defs>\n",
       " <g id=\"figure_1\">\n",
       "  <g id=\"patch_1\">\n",
       "   <path d=\"M 0 20.165821  L 15.26625 20.165821  L 15.26625 0  L 0 0  z \" style=\"fill:#ffffff;\" />\n",
       "  </g>\n",
       "  <g id=\"axes_1\">\n",
       "   <g id=\"patch_2\">\n",
       "    <path d=\"M 13.371125 5.738  C 13.371125 4.984493 13.222701 4.238312 12.934346 3.542162  C 12.645991 2.846013 12.223314 2.213431 11.690504 1.680621  C 11.157694 1.147811 10.525112 0.725134 9.828963 0.436779  C 9.132813 0.148424 8.386632 0 7.633125 0  C 6.879618 0 6.133437 0.148424 5.437287 0.436779  C 4.741138 0.725134 4.108556 1.147811 3.575746 1.680621  C 3.042936 2.213431 2.620259 2.846013 2.331904 3.542162  C 2.043549 4.238312 1.895125 4.984493 1.895125 5.738  C 1.895125 6.491507 2.043549 7.237688 2.331904 7.933838  C 2.620259 8.629987 3.042936 9.262569 3.575746 9.795379  C 4.108556 10.328189 4.741138 10.750866 5.437287 11.039221  C 6.133437 11.327576 6.879618 11.476 7.633125 11.476  C 8.386632 11.476 9.132813 11.327576 9.828963 11.039221  C 10.525112 10.750866 11.157694 10.328189 11.690504 9.795379  C 12.223314 9.262569 12.645991 8.629987 12.934346 7.933838  C 13.222701 7.237688 13.371125 6.491507 13.371125 5.738  M 7.633125 5.738  M 13.371125 5.738  z \" style=\"fill:#fefebb;stroke:#444443;stroke-linejoin:miter;stroke-width:0.5;\" />\n",
       "   </g>\n",
       "   <g id=\"text_1\">\n",
       "    \n",
       "    <defs>\n",
       "     <path d=\"M 6.59375 0  L 6.59375 51.859375  L 14.5 51.859375  L 14.5 44.484375  Q 20.21875 53.03125 31 53.03125  Q 35.6875 53.03125 39.625 51.34375  Q 43.5625 49.65625 45.515625 46.921875  Q 47.46875 44.1875 48.25 40.4375  Q 48.734375 37.984375 48.734375 31.890625  L 48.734375 0  L 39.9375 0  L 39.9375 31.546875  Q 39.9375 36.921875 38.90625 39.578125  Q 37.890625 42.234375 35.28125 43.8125  Q 32.671875 45.40625 29.15625 45.40625  Q 23.53125 45.40625 19.453125 41.84375  Q 15.375 38.28125 15.375 28.328125  L 15.375 0  z \" id=\"ArialMT-110\" />\n",
       "     <path d=\"M 52.828125 42.09375  L 5.5625 42.09375  L 5.5625 50.296875  L 52.828125 50.296875  z M 52.828125 20.359375  L 5.5625 20.359375  L 5.5625 28.5625  L 52.828125 28.5625  z \" id=\"ArialMT-61\" />\n",
       "     <path d=\"M 50.34375 8.453125  L 50.34375 0  L 3.03125 0  Q 2.9375 3.171875 4.046875 6.109375  Q 5.859375 10.9375 9.828125 15.625  Q 13.8125 20.3125 21.34375 26.46875  Q 33.015625 36.03125 37.109375 41.625  Q 41.21875 47.21875 41.21875 52.203125  Q 41.21875 57.421875 37.46875 61  Q 33.734375 64.59375 27.734375 64.59375  Q 21.390625 64.59375 17.578125 60.78125  Q 13.765625 56.984375 13.71875 50.25  L 4.6875 51.171875  Q 5.609375 61.28125 11.65625 66.578125  Q 17.71875 71.875 27.9375 71.875  Q 38.234375 71.875 44.234375 66.15625  Q 50.25 60.453125 50.25 52  Q 50.25 47.703125 48.484375 43.546875  Q 46.734375 39.40625 42.65625 34.8125  Q 38.578125 30.21875 29.109375 22.21875  Q 21.1875 15.578125 18.9375 13.203125  Q 16.703125 10.84375 15.234375 8.453125  z \" id=\"ArialMT-50\" />\n",
       "    </defs>\n",
       "    <g style=\"fill:#444443;\" transform=\"translate(0 18.377071)scale(0.09 -0.09)\">\n",
       "     <use xlink:href=\"#ArialMT-110\" />\n",
       "     <use x=\"55.615234\" xlink:href=\"#ArialMT-61\" />\n",
       "     <use x=\"114.013672\" xlink:href=\"#ArialMT-50\" />\n",
       "    </g>\n",
       "   </g>\n",
       "  </g>\n",
       " </g>\n",
       "</svg></g>\n",
       "\n",
       "<g class=\"edge\" id=\"edge2\">\n",
       "<title>node0-&gt;leaf2</title>\n",
       "<path d=\"M84.12,-52.79C86.36,-44.12 88.77,-34.74 90.71,-27.21\" fill=\"none\" stroke=\"#444443\" stroke-width=\"0.3\" />\n",
       "<polygon fill=\"#444443\" points=\"92.09,-27.46 91.73,-23.24 89.38,-26.76 92.09,-27.46\" stroke=\"#444443\" stroke-width=\"0.3\" />\n",
       "<text font-family=\"Times,serif\" font-size=\"14.00\" text-anchor=\"start\" x=\"89.5\" y=\"-33.8\">&#8805;</text>\n",
       "</g>\n",
       "\n",
       "\n",
       "<g class=\"node\" id=\"node4\">\n",
       "<title>legend</title>\n",
       "<polygon fill=\"none\" points=\"246.5,-102.5 162.5,-102.5 162.5,-56.5 246.5,-56.5 246.5,-102.5\" stroke=\"black\" stroke-width=\"0\" />\n",
       "<svg height=\"42px\" preserveAspectRatio=\"xMinYMin meet\" version=\"1.1\" viewBox=\"0 0 106.573437 55.3125\" width=\"80px\" x=\"164.5\" y=\"-100.5\">\n",
       " <defs>\n",
       "  <style type=\"text/css\">\n",
       "*{stroke-linecap:butt;stroke-linejoin:round;}\n",
       "  </style>\n",
       " </defs>\n",
       " <g id=\"figure_1\">\n",
       "  <g id=\"patch_1\">\n",
       "   <path d=\"M 0 55.3125  L 106.573437 55.3125  L 106.573437 0  L 0 0  z \" style=\"fill:#ffffff;\" />\n",
       "  </g>\n",
       "  <g id=\"axes_1\">\n",
       "   <g id=\"legend_1\">\n",
       "    <g id=\"patch_2\">\n",
       "     <path d=\"M 2 55.3125  L 104.573437 55.3125  Q 106.573437 55.3125 106.573437 53.3125  L 106.573437 2  Q 106.573437 0 104.573437 0  L 2 0  Q 0 0 0 2  L 0 53.3125  Q 0 55.3125 2 55.3125  z \" style=\"fill:#ffffff;opacity:0.8;stroke:#444443;stroke-linejoin:miter;stroke-width:0.5;\" />\n",
       "    </g>\n",
       "    <g id=\"text_1\">\n",
       "     \n",
       "     <defs>\n",
       "      <path d=\"M 8.40625 54.6875  L 25.875 54.6875  L 25.875 0  L 8.40625 0  z M 8.40625 75.984375  L 25.875 75.984375  L 25.875 61.71875  L 8.40625 61.71875  z \" id=\"DejaVuSans-Bold-105\" />\n",
       "      <path d=\"M 51.125 52.984375  L 51.125 39.703125  Q 45.515625 42.046875 40.28125 43.21875  Q 35.0625 44.390625 30.421875 44.390625  Q 25.4375 44.390625 23.015625 43.140625  Q 20.609375 41.890625 20.609375 39.3125  Q 20.609375 37.203125 22.4375 36.078125  Q 24.265625 34.96875 29 34.421875  L 32.078125 33.984375  Q 45.515625 32.28125 50.140625 28.375  Q 54.78125 24.46875 54.78125 16.109375  Q 54.78125 7.375 48.328125 2.96875  Q 41.890625 -1.421875 29.109375 -1.421875  Q 23.6875 -1.421875 17.890625 -0.5625  Q 12.109375 0.296875 6 2  L 6 15.28125  Q 11.234375 12.75 16.71875 11.46875  Q 22.21875 10.203125 27.875 10.203125  Q 33.015625 10.203125 35.59375 11.609375  Q 38.1875 13.03125 38.1875 15.828125  Q 38.1875 18.171875 36.40625 19.3125  Q 34.625 20.453125 29.296875 21.09375  L 26.21875 21.484375  Q 14.546875 22.953125 9.859375 26.90625  Q 5.171875 30.859375 5.171875 38.921875  Q 5.171875 47.609375 11.125 51.796875  Q 17.09375 56 29.390625 56  Q 34.234375 56 39.546875 55.265625  Q 44.875 54.546875 51.125 52.984375  z \" id=\"DejaVuSans-Bold-115\" />\n",
       "      <path d=\"M 50 -14.3125  L 50 -23.578125  L 0 -23.578125  L 0 -14.3125  z \" id=\"DejaVuSans-Bold-95\" />\n",
       "      <path d=\"M 52.59375 52.984375  L 52.59375 38.71875  Q 49.03125 41.15625 45.4375 42.328125  Q 41.84375 43.5 37.984375 43.5  Q 30.671875 43.5 26.59375 39.234375  Q 22.515625 34.96875 22.515625 27.296875  Q 22.515625 19.625 26.59375 15.34375  Q 30.671875 11.078125 37.984375 11.078125  Q 42.09375 11.078125 45.78125 12.296875  Q 49.46875 13.53125 52.59375 15.921875  L 52.59375 1.609375  Q 48.484375 0.09375 44.265625 -0.65625  Q 40.046875 -1.421875 35.796875 -1.421875  Q 21 -1.421875 12.640625 6.171875  Q 4.296875 13.765625 4.296875 27.296875  Q 4.296875 40.828125 12.640625 48.40625  Q 21 56 35.796875 56  Q 40.09375 56 44.265625 55.25  Q 48.4375 54.5 52.59375 52.984375  z \" id=\"DejaVuSans-Bold-99\" />\n",
       "      <path d=\"M 7.8125 21.296875  L 7.8125 54.6875  L 25.390625 54.6875  L 25.390625 49.21875  Q 25.390625 44.78125 25.34375 38.0625  Q 25.296875 31.34375 25.296875 29.109375  Q 25.296875 22.515625 25.640625 19.609375  Q 25.984375 16.703125 26.8125 15.375  Q 27.875 13.671875 29.609375 12.734375  Q 31.34375 11.8125 33.59375 11.8125  Q 39.0625 11.8125 42.1875 16.015625  Q 45.3125 20.21875 45.3125 27.6875  L 45.3125 54.6875  L 62.796875 54.6875  L 62.796875 0  L 45.3125 0  L 45.3125 7.90625  Q 41.359375 3.125 36.9375 0.84375  Q 32.515625 -1.421875 27.203125 -1.421875  Q 17.71875 -1.421875 12.765625 4.390625  Q 7.8125 10.203125 7.8125 21.296875  z \" id=\"DejaVuSans-Bold-117\" />\n",
       "      <path d=\"M 27.484375 70.21875  L 27.484375 54.6875  L 45.515625 54.6875  L 45.515625 42.1875  L 27.484375 42.1875  L 27.484375 19  Q 27.484375 15.1875 29 13.84375  Q 30.515625 12.5 35.015625 12.5  L 44 12.5  L 44 0  L 29 0  Q 18.65625 0 14.328125 4.3125  Q 10.015625 8.640625 10.015625 19  L 10.015625 42.1875  L 1.3125 42.1875  L 1.3125 54.6875  L 10.015625 54.6875  L 10.015625 70.21875  z \" id=\"DejaVuSans-Bold-116\" />\n",
       "      <path d=\"M 34.421875 43.5  Q 28.609375 43.5 25.5625 39.328125  Q 22.515625 35.15625 22.515625 27.296875  Q 22.515625 19.4375 25.5625 15.25  Q 28.609375 11.078125 34.421875 11.078125  Q 40.140625 11.078125 43.15625 15.25  Q 46.1875 19.4375 46.1875 27.296875  Q 46.1875 35.15625 43.15625 39.328125  Q 40.140625 43.5 34.421875 43.5  z M 34.421875 56  Q 48.53125 56 56.46875 48.375  Q 64.40625 40.765625 64.40625 27.296875  Q 64.40625 13.8125 56.46875 6.1875  Q 48.53125 -1.421875 34.421875 -1.421875  Q 20.265625 -1.421875 12.28125 6.1875  Q 4.296875 13.8125 4.296875 27.296875  Q 4.296875 40.765625 12.28125 48.375  Q 20.265625 56 34.421875 56  z \" id=\"DejaVuSans-Bold-111\" />\n",
       "      <path d=\"M 59.078125 45.609375  Q 62.40625 50.6875 66.96875 53.34375  Q 71.53125 56 77 56  Q 86.421875 56 91.359375 50.1875  Q 96.296875 44.390625 96.296875 33.296875  L 96.296875 0  L 78.71875 0  L 78.71875 28.515625  Q 78.765625 29.15625 78.78125 29.828125  Q 78.8125 30.515625 78.8125 31.78125  Q 78.8125 37.59375 77.09375 40.203125  Q 75.390625 42.828125 71.578125 42.828125  Q 66.609375 42.828125 63.890625 38.71875  Q 61.1875 34.625 61.078125 26.859375  L 61.078125 0  L 43.5 0  L 43.5 28.515625  Q 43.5 37.59375 41.9375 40.203125  Q 40.375 42.828125 36.375 42.828125  Q 31.34375 42.828125 28.609375 38.703125  Q 25.875 34.578125 25.875 26.90625  L 25.875 0  L 8.296875 0  L 8.296875 54.6875  L 25.875 54.6875  L 25.875 46.6875  Q 29.109375 51.3125 33.28125 53.65625  Q 37.453125 56 42.484375 56  Q 48.140625 56 52.484375 53.265625  Q 56.84375 50.53125 59.078125 45.609375  z \" id=\"DejaVuSans-Bold-109\" />\n",
       "      <path d=\"M 62.984375 27.484375  L 62.984375 22.515625  L 22.125 22.515625  Q 22.75 16.359375 26.5625 13.28125  Q 30.375 10.203125 37.203125 10.203125  Q 42.71875 10.203125 48.5 11.84375  Q 54.296875 13.484375 60.40625 16.796875  L 60.40625 3.328125  Q 54.203125 0.984375 48 -0.21875  Q 41.796875 -1.421875 35.59375 -1.421875  Q 20.75 -1.421875 12.515625 6.125  Q 4.296875 13.671875 4.296875 27.296875  Q 4.296875 40.671875 12.375 48.328125  Q 20.453125 56 34.625 56  Q 47.515625 56 55.25 48.234375  Q 62.984375 40.484375 62.984375 27.484375  z M 45.015625 33.296875  Q 45.015625 38.28125 42.109375 41.328125  Q 39.203125 44.390625 34.515625 44.390625  Q 29.4375 44.390625 26.265625 41.53125  Q 23.09375 38.671875 22.3125 33.296875  z \" id=\"DejaVuSans-Bold-101\" />\n",
       "      <path d=\"M 49.03125 39.796875  Q 46.734375 40.875 44.453125 41.375  Q 42.1875 41.890625 39.890625 41.890625  Q 33.15625 41.890625 29.515625 37.5625  Q 25.875 33.25 25.875 25.203125  L 25.875 0  L 8.40625 0  L 8.40625 54.6875  L 25.875 54.6875  L 25.875 45.703125  Q 29.25 51.078125 33.609375 53.53125  Q 37.984375 56 44.09375 56  Q 44.96875 56 45.984375 55.921875  Q 47.015625 55.859375 48.96875 55.609375  z \" id=\"DejaVuSans-Bold-114\" />\n",
       "     </defs>\n",
       "     <g style=\"fill:#444443;\" transform=\"translate(19.705469 15.598438)scale(0.1 -0.1)\">\n",
       "      <use xlink:href=\"#DejaVuSans-Bold-105\" />\n",
       "      <use x=\"34.277344\" xlink:href=\"#DejaVuSans-Bold-115\" />\n",
       "      <use x=\"93.798828\" xlink:href=\"#DejaVuSans-Bold-95\" />\n",
       "      <use x=\"143.798828\" xlink:href=\"#DejaVuSans-Bold-99\" />\n",
       "      <use x=\"203.076172\" xlink:href=\"#DejaVuSans-Bold-117\" />\n",
       "      <use x=\"274.267578\" xlink:href=\"#DejaVuSans-Bold-115\" />\n",
       "      <use x=\"333.789062\" xlink:href=\"#DejaVuSans-Bold-116\" />\n",
       "      <use x=\"381.591797\" xlink:href=\"#DejaVuSans-Bold-111\" />\n",
       "      <use x=\"450.292969\" xlink:href=\"#DejaVuSans-Bold-109\" />\n",
       "      <use x=\"554.492188\" xlink:href=\"#DejaVuSans-Bold-101\" />\n",
       "      <use x=\"622.314453\" xlink:href=\"#DejaVuSans-Bold-114\" />\n",
       "     </g>\n",
       "    </g>\n",
       "    <g id=\"patch_3\">\n",
       "     <path d=\"M 8 30.554688  L 28 30.554688  L 28 23.554688  L 8 23.554688  z \" style=\"fill:#fefebb;stroke:#444443;stroke-linejoin:miter;stroke-width:0.4;\" />\n",
       "    </g>\n",
       "    <g id=\"text_2\">\n",
       "     \n",
       "     <defs>\n",
       "      <path d=\"M 54.890625 33.015625  L 54.890625 0  L 45.90625 0  L 45.90625 32.71875  Q 45.90625 40.484375 42.875 44.328125  Q 39.84375 48.1875 33.796875 48.1875  Q 26.515625 48.1875 22.3125 43.546875  Q 18.109375 38.921875 18.109375 30.90625  L 18.109375 0  L 9.078125 0  L 9.078125 54.6875  L 18.109375 54.6875  L 18.109375 46.1875  Q 21.34375 51.125 25.703125 53.5625  Q 30.078125 56 35.796875 56  Q 45.21875 56 50.046875 50.171875  Q 54.890625 44.34375 54.890625 33.015625  z \" id=\"DejaVuSans-110\" />\n",
       "      <path d=\"M 30.609375 48.390625  Q 23.390625 48.390625 19.1875 42.75  Q 14.984375 37.109375 14.984375 27.296875  Q 14.984375 17.484375 19.15625 11.84375  Q 23.34375 6.203125 30.609375 6.203125  Q 37.796875 6.203125 41.984375 11.859375  Q 46.1875 17.53125 46.1875 27.296875  Q 46.1875 37.015625 41.984375 42.703125  Q 37.796875 48.390625 30.609375 48.390625  z M 30.609375 56  Q 42.328125 56 49.015625 48.375  Q 55.71875 40.765625 55.71875 27.296875  Q 55.71875 13.875 49.015625 6.21875  Q 42.328125 -1.421875 30.609375 -1.421875  Q 18.84375 -1.421875 12.171875 6.21875  Q 5.515625 13.875 5.515625 27.296875  Q 5.515625 40.765625 12.171875 48.375  Q 18.84375 56 30.609375 56  z \" id=\"DejaVuSans-111\" />\n",
       "      <path d=\"M 18.3125 70.21875  L 18.3125 54.6875  L 36.8125 54.6875  L 36.8125 47.703125  L 18.3125 47.703125  L 18.3125 18.015625  Q 18.3125 11.328125 20.140625 9.421875  Q 21.96875 7.515625 27.59375 7.515625  L 36.8125 7.515625  L 36.8125 0  L 27.59375 0  Q 17.1875 0 13.234375 3.875  Q 9.28125 7.765625 9.28125 18.015625  L 9.28125 47.703125  L 2.6875 47.703125  L 2.6875 54.6875  L 9.28125 54.6875  L 9.28125 70.21875  z \" id=\"DejaVuSans-116\" />\n",
       "      <path d=\"M 4.890625 31.390625  L 31.203125 31.390625  L 31.203125 23.390625  L 4.890625 23.390625  z \" id=\"DejaVuSans-45\" />\n",
       "      <path d=\"M 48.78125 52.59375  L 48.78125 44.1875  Q 44.96875 46.296875 41.140625 47.34375  Q 37.3125 48.390625 33.40625 48.390625  Q 24.65625 48.390625 19.8125 42.84375  Q 14.984375 37.3125 14.984375 27.296875  Q 14.984375 17.28125 19.8125 11.734375  Q 24.65625 6.203125 33.40625 6.203125  Q 37.3125 6.203125 41.140625 7.25  Q 44.96875 8.296875 48.78125 10.40625  L 48.78125 2.09375  Q 45.015625 0.34375 40.984375 -0.53125  Q 36.96875 -1.421875 32.421875 -1.421875  Q 20.0625 -1.421875 12.78125 6.34375  Q 5.515625 14.109375 5.515625 27.296875  Q 5.515625 40.671875 12.859375 48.328125  Q 20.21875 56 33.015625 56  Q 37.15625 56 41.109375 55.140625  Q 45.0625 54.296875 48.78125 52.59375  z \" id=\"DejaVuSans-99\" />\n",
       "      <path d=\"M 8.5 21.578125  L 8.5 54.6875  L 17.484375 54.6875  L 17.484375 21.921875  Q 17.484375 14.15625 20.5 10.265625  Q 23.53125 6.390625 29.59375 6.390625  Q 36.859375 6.390625 41.078125 11.03125  Q 45.3125 15.671875 45.3125 23.6875  L 45.3125 54.6875  L 54.296875 54.6875  L 54.296875 0  L 45.3125 0  L 45.3125 8.40625  Q 42.046875 3.421875 37.71875 1  Q 33.40625 -1.421875 27.6875 -1.421875  Q 18.265625 -1.421875 13.375 4.4375  Q 8.5 10.296875 8.5 21.578125  z M 31.109375 56  z \" id=\"DejaVuSans-117\" />\n",
       "      <path d=\"M 44.28125 53.078125  L 44.28125 44.578125  Q 40.484375 46.53125 36.375 47.5  Q 32.28125 48.484375 27.875 48.484375  Q 21.1875 48.484375 17.84375 46.4375  Q 14.5 44.390625 14.5 40.28125  Q 14.5 37.15625 16.890625 35.375  Q 19.28125 33.59375 26.515625 31.984375  L 29.59375 31.296875  Q 39.15625 29.25 43.1875 25.515625  Q 47.21875 21.78125 47.21875 15.09375  Q 47.21875 7.46875 41.1875 3.015625  Q 35.15625 -1.421875 24.609375 -1.421875  Q 20.21875 -1.421875 15.453125 -0.5625  Q 10.6875 0.296875 5.421875 2  L 5.421875 11.28125  Q 10.40625 8.6875 15.234375 7.390625  Q 20.0625 6.109375 24.8125 6.109375  Q 31.15625 6.109375 34.5625 8.28125  Q 37.984375 10.453125 37.984375 14.40625  Q 37.984375 18.0625 35.515625 20.015625  Q 33.0625 21.96875 24.703125 23.78125  L 21.578125 24.515625  Q 13.234375 26.265625 9.515625 29.90625  Q 5.8125 33.546875 5.8125 39.890625  Q 5.8125 47.609375 11.28125 51.796875  Q 16.75 56 26.8125 56  Q 31.78125 56 36.171875 55.265625  Q 40.578125 54.546875 44.28125 53.078125  z \" id=\"DejaVuSans-115\" />\n",
       "      <path d=\"M 52 44.1875  Q 55.375 50.25 60.0625 53.125  Q 64.75 56 71.09375 56  Q 79.640625 56 84.28125 50.015625  Q 88.921875 44.046875 88.921875 33.015625  L 88.921875 0  L 79.890625 0  L 79.890625 32.71875  Q 79.890625 40.578125 77.09375 44.375  Q 74.3125 48.1875 68.609375 48.1875  Q 61.625 48.1875 57.5625 43.546875  Q 53.515625 38.921875 53.515625 30.90625  L 53.515625 0  L 44.484375 0  L 44.484375 32.71875  Q 44.484375 40.625 41.703125 44.40625  Q 38.921875 48.1875 33.109375 48.1875  Q 26.21875 48.1875 22.15625 43.53125  Q 18.109375 38.875 18.109375 30.90625  L 18.109375 0  L 9.078125 0  L 9.078125 54.6875  L 18.109375 54.6875  L 18.109375 46.1875  Q 21.1875 51.21875 25.484375 53.609375  Q 29.78125 56 35.6875 56  Q 41.65625 56 45.828125 52.96875  Q 50 49.953125 52 44.1875  z \" id=\"DejaVuSans-109\" />\n",
       "      <path d=\"M 56.203125 29.59375  L 56.203125 25.203125  L 14.890625 25.203125  Q 15.484375 15.921875 20.484375 11.0625  Q 25.484375 6.203125 34.421875 6.203125  Q 39.59375 6.203125 44.453125 7.46875  Q 49.3125 8.734375 54.109375 11.28125  L 54.109375 2.78125  Q 49.265625 0.734375 44.1875 -0.34375  Q 39.109375 -1.421875 33.890625 -1.421875  Q 20.796875 -1.421875 13.15625 6.1875  Q 5.515625 13.8125 5.515625 26.8125  Q 5.515625 40.234375 12.765625 48.109375  Q 20.015625 56 32.328125 56  Q 43.359375 56 49.78125 48.890625  Q 56.203125 41.796875 56.203125 29.59375  z M 47.21875 32.234375  Q 47.125 39.59375 43.09375 43.984375  Q 39.0625 48.390625 32.421875 48.390625  Q 24.90625 48.390625 20.390625 44.140625  Q 15.875 39.890625 15.1875 32.171875  z \" id=\"DejaVuSans-101\" />\n",
       "      <path d=\"M 41.109375 46.296875  Q 39.59375 47.171875 37.8125 47.578125  Q 36.03125 48 33.890625 48  Q 26.265625 48 22.1875 43.046875  Q 18.109375 38.09375 18.109375 28.8125  L 18.109375 0  L 9.078125 0  L 9.078125 54.6875  L 18.109375 54.6875  L 18.109375 46.1875  Q 20.953125 51.171875 25.484375 53.578125  Q 30.03125 56 36.53125 56  Q 37.453125 56 38.578125 55.875  Q 39.703125 55.765625 41.0625 55.515625  z \" id=\"DejaVuSans-114\" />\n",
       "     </defs>\n",
       "     <g style=\"fill:#444443;\" transform=\"translate(31.5 30.554688)scale(0.1 -0.1)\">\n",
       "      <use xlink:href=\"#DejaVuSans-110\" />\n",
       "      <use x=\"63.378906\" xlink:href=\"#DejaVuSans-111\" />\n",
       "      <use x=\"124.560547\" xlink:href=\"#DejaVuSans-116\" />\n",
       "      <use x=\"163.769531\" xlink:href=\"#DejaVuSans-45\" />\n",
       "      <use x=\"199.853516\" xlink:href=\"#DejaVuSans-99\" />\n",
       "      <use x=\"254.833984\" xlink:href=\"#DejaVuSans-117\" />\n",
       "      <use x=\"318.212891\" xlink:href=\"#DejaVuSans-115\" />\n",
       "      <use x=\"370.3125\" xlink:href=\"#DejaVuSans-116\" />\n",
       "      <use x=\"409.521484\" xlink:href=\"#DejaVuSans-111\" />\n",
       "      <use x=\"470.703125\" xlink:href=\"#DejaVuSans-109\" />\n",
       "      <use x=\"568.115234\" xlink:href=\"#DejaVuSans-101\" />\n",
       "      <use x=\"629.638672\" xlink:href=\"#DejaVuSans-114\" />\n",
       "     </g>\n",
       "    </g>\n",
       "    <g id=\"patch_4\">\n",
       "     <path d=\"M 8 45.232813  L 28 45.232813  L 28 38.232813  L 8 38.232813  z \" style=\"fill:#a1dab4;stroke:#444443;stroke-linejoin:miter;stroke-width:0.4;\" />\n",
       "    </g>\n",
       "    <g id=\"text_3\">\n",
       "     \n",
       "     <g style=\"fill:#444443;\" transform=\"translate(31.5 45.232813)scale(0.1 -0.1)\">\n",
       "      <use xlink:href=\"#DejaVuSans-99\" />\n",
       "      <use x=\"54.980469\" xlink:href=\"#DejaVuSans-117\" />\n",
       "      <use x=\"118.359375\" xlink:href=\"#DejaVuSans-115\" />\n",
       "      <use x=\"170.458984\" xlink:href=\"#DejaVuSans-116\" />\n",
       "      <use x=\"209.667969\" xlink:href=\"#DejaVuSans-111\" />\n",
       "      <use x=\"270.849609\" xlink:href=\"#DejaVuSans-109\" />\n",
       "      <use x=\"368.261719\" xlink:href=\"#DejaVuSans-101\" />\n",
       "      <use x=\"429.785156\" xlink:href=\"#DejaVuSans-114\" />\n",
       "     </g>\n",
       "    </g>\n",
       "   </g>\n",
       "  </g>\n",
       " </g>\n",
       "</svg></g>\n",
       "</g>\n",
       "</svg>"
      ],
      "text/plain": [
       "<dtreeviz.trees.DTreeViz at 0x1a25c0d690>"
      ]
     },
     "execution_count": 55,
     "metadata": {},
     "output_type": "execute_result"
    }
   ],
   "source": [
    "from dtreeviz.trees import dtreeviz\n",
    "viz_1 = dtreeviz(model,\n",
    "               X.to_numpy(),\n",
    "               y.y,\n",
    "               target_name='is_customer',\n",
    "               feature_names=X.columns,\n",
    "               class_names=['not-customer', 'customer']\n",
    "              )\n",
    "              \n",
    "viz_1   "
   ]
  },
  {
   "cell_type": "markdown",
   "metadata": {},
   "source": [
    "So we can see that our model's hypothesis function makes predictions based on an observation's feature of `under_30`.  \n",
    "\n",
    "If the lead is under 30, represented by the number 1, the model predicts she is not a customer (in yellow).  If the lead is over thirty, represented by 0, then the model predicts she is a customer (in green). "
   ]
  },
  {
   "cell_type": "markdown",
   "metadata": {},
   "source": [
    "Looking at our training data again, this makes sense."
   ]
  },
  {
   "cell_type": "markdown",
   "metadata": {},
   "source": [
    "| Attended College | Under Thirty | Borough   | Income | Customer |\n",
    "| ---------------- | ------------ | --------- | ------ | :------: |\n",
    "| ?                | Yes          | Manhattan | < 55   |    0     |\n",
    "| Yes              | Yes          | Brooklyn  | < 55   |    0     |\n",
    "| ?                | No           | Brooklyn  | < 55   |    1     |"
   ]
  },
  {
   "cell_type": "markdown",
   "metadata": {},
   "source": [
    "### Predicting with the model"
   ]
  },
  {
   "cell_type": "markdown",
   "metadata": {},
   "source": [
    "Now the power of our trained model is that we can now, take in the features of a lead where we do not know the outcome, and predict if she will become a customer or not.  \n",
    "\n",
    "Before we do that, let's check that our model properly predicts the outcomes of the training data.  We do so by passing through the training data's features, and seeing what the model predicts as the target."
   ]
  },
  {
   "cell_type": "markdown",
   "metadata": {},
   "source": [
    "> Remember that X contains three observations. "
   ]
  },
  {
   "cell_type": "code",
   "execution_count": 3,
   "metadata": {},
   "outputs": [
    {
     "data": {
      "text/html": [
       "<div>\n",
       "<style scoped>\n",
       "    .dataframe tbody tr th:only-of-type {\n",
       "        vertical-align: middle;\n",
       "    }\n",
       "\n",
       "    .dataframe tbody tr th {\n",
       "        vertical-align: top;\n",
       "    }\n",
       "\n",
       "    .dataframe thead th {\n",
       "        text-align: right;\n",
       "    }\n",
       "</style>\n",
       "<table border=\"1\" class=\"dataframe\">\n",
       "  <thead>\n",
       "    <tr style=\"text-align: right;\">\n",
       "      <th></th>\n",
       "      <th>attended_college</th>\n",
       "      <th>under_thirty</th>\n",
       "      <th>borough</th>\n",
       "      <th>income</th>\n",
       "    </tr>\n",
       "  </thead>\n",
       "  <tbody>\n",
       "    <tr>\n",
       "      <td>0</td>\n",
       "      <td>0</td>\n",
       "      <td>1</td>\n",
       "      <td>1</td>\n",
       "      <td>1</td>\n",
       "    </tr>\n",
       "    <tr>\n",
       "      <td>1</td>\n",
       "      <td>2</td>\n",
       "      <td>1</td>\n",
       "      <td>0</td>\n",
       "      <td>1</td>\n",
       "    </tr>\n",
       "    <tr>\n",
       "      <td>2</td>\n",
       "      <td>0</td>\n",
       "      <td>0</td>\n",
       "      <td>0</td>\n",
       "      <td>1</td>\n",
       "    </tr>\n",
       "  </tbody>\n",
       "</table>\n",
       "</div>"
      ],
      "text/plain": [
       "   attended_college  under_thirty  borough  income\n",
       "0                 0             1        1       1\n",
       "1                 2             1        0       1\n",
       "2                 0             0        0       1"
      ]
     },
     "execution_count": 3,
     "metadata": {},
     "output_type": "execute_result"
    }
   ],
   "source": [
    "X"
   ]
  },
  {
   "cell_type": "code",
   "execution_count": 11,
   "metadata": {},
   "outputs": [
    {
     "data": {
      "text/plain": [
       "array([0, 0, 1])"
      ]
     },
     "execution_count": 11,
     "metadata": {},
     "output_type": "execute_result"
    }
   ],
   "source": [
    "model.predict(X)"
   ]
  },
  {
   "cell_type": "markdown",
   "metadata": {},
   "source": [
    "> The predicted targets match the targets in the training data."
   ]
  },
  {
   "cell_type": "markdown",
   "metadata": {},
   "source": [
    "Ok, now let's use the model to predict the outcome of a lead where we do not know the outcome."
   ]
  },
  {
   "cell_type": "markdown",
   "metadata": {},
   "source": [
    "| Attended College | Under Thirty | Borough   | Income | \n",
    "| ---------------- | ------------ | --------- | ------ | \n",
    "| ?                | No          | Brooklyn | < 55   | "
   ]
  },
  {
   "cell_type": "markdown",
   "metadata": {},
   "source": [
    "Once again, we need to represent the features above as numbers."
   ]
  },
  {
   "cell_type": "markdown",
   "metadata": {},
   "source": [
    "> Press shift + return below."
   ]
  },
  {
   "cell_type": "code",
   "execution_count": 13,
   "metadata": {},
   "outputs": [],
   "source": [
    "observation = [0, 0, 0, 2]"
   ]
  },
  {
   "cell_type": "markdown",
   "metadata": {},
   "source": [
    "And then we can pass this into the model's predict method."
   ]
  },
  {
   "cell_type": "markdown",
   "metadata": {},
   "source": [
    "> Press shift + return on the cell below."
   ]
  },
  {
   "cell_type": "code",
   "execution_count": 14,
   "metadata": {},
   "outputs": [
    {
     "data": {
      "text/plain": [
       "array([1])"
      ]
     },
     "execution_count": 14,
     "metadata": {},
     "output_type": "execute_result"
    }
   ],
   "source": [
    "model.predict([observation])"
   ]
  },
  {
   "cell_type": "markdown",
   "metadata": {},
   "source": [
    "> `model.predict` takes a *list* of observations as an argument."
   ]
  },
  {
   "cell_type": "markdown",
   "metadata": {},
   "source": [
    "Above, because the lead is not under 30, our model predicts the lead will become a customer."
   ]
  },
  {
   "cell_type": "markdown",
   "metadata": {},
   "source": [
    "### Wrapping Up"
   ]
  },
  {
   "cell_type": "markdown",
   "metadata": {},
   "source": [
    "Ok, let's summarize everything we did.  To train a machine learning model in `sklearn`, we need to:\n",
    "\n",
    "1. Collect and format our training data"
   ]
  },
  {
   "cell_type": "markdown",
   "metadata": {},
   "source": [
    "We *collected* our data using the pandas library, and the `read_csv` method as our data was in a CSV file."
   ]
  },
  {
   "cell_type": "code",
   "execution_count": 59,
   "metadata": {},
   "outputs": [],
   "source": [
    "import pandas as pd\n",
    "feature_url = \"https://raw.githubusercontent.com/jigsawlabs-student/decision-trees-intro/master/3-practical-ds-4/customer_features.csv\"\n",
    "customer_target_url = \"https://raw.githubusercontent.com/jigsawlabs-student/decision-trees-intro/master/3-practical-ds-4/customer_targets.csv\"\n",
    "X = pd.read_csv(feature_url)\n",
    "y = pd.read_csv(customer_target_url, names = ['y'])"
   ]
  },
  {
   "cell_type": "markdown",
   "metadata": {},
   "source": [
    "Formatting our data means: \n",
    "1. Our feature values `X` are separated from our target values `y`, and\n",
    "2. Every value in our training set is a number"
   ]
  },
  {
   "cell_type": "markdown",
   "metadata": {},
   "source": [
    "> Let's confirm that we changed our feature values to numbers."
   ]
  },
  {
   "cell_type": "code",
   "execution_count": 82,
   "metadata": {},
   "outputs": [
    {
     "data": {
      "text/html": [
       "<div>\n",
       "<style scoped>\n",
       "    .dataframe tbody tr th:only-of-type {\n",
       "        vertical-align: middle;\n",
       "    }\n",
       "\n",
       "    .dataframe tbody tr th {\n",
       "        vertical-align: top;\n",
       "    }\n",
       "\n",
       "    .dataframe thead th {\n",
       "        text-align: right;\n",
       "    }\n",
       "</style>\n",
       "<table border=\"1\" class=\"dataframe\">\n",
       "  <thead>\n",
       "    <tr style=\"text-align: right;\">\n",
       "      <th></th>\n",
       "      <th>attended_college</th>\n",
       "      <th>under_thirty</th>\n",
       "      <th>borough</th>\n",
       "      <th>income</th>\n",
       "    </tr>\n",
       "  </thead>\n",
       "  <tbody>\n",
       "    <tr>\n",
       "      <td>0</td>\n",
       "      <td>0</td>\n",
       "      <td>1</td>\n",
       "      <td>1</td>\n",
       "      <td>1</td>\n",
       "    </tr>\n",
       "    <tr>\n",
       "      <td>1</td>\n",
       "      <td>2</td>\n",
       "      <td>1</td>\n",
       "      <td>0</td>\n",
       "      <td>1</td>\n",
       "    </tr>\n",
       "    <tr>\n",
       "      <td>2</td>\n",
       "      <td>0</td>\n",
       "      <td>0</td>\n",
       "      <td>0</td>\n",
       "      <td>1</td>\n",
       "    </tr>\n",
       "  </tbody>\n",
       "</table>\n",
       "</div>"
      ],
      "text/plain": [
       "   attended_college  under_thirty  borough  income\n",
       "0                 0             1        1       1\n",
       "1                 2             1        0       1\n",
       "2                 0             0        0       1"
      ]
     },
     "execution_count": 82,
     "metadata": {},
     "output_type": "execute_result"
    }
   ],
   "source": [
    "X"
   ]
  },
  {
   "cell_type": "markdown",
   "metadata": {},
   "source": [
    "2. Train the model"
   ]
  },
  {
   "cell_type": "markdown",
   "metadata": {},
   "source": [
    "We train a model by loading in the `sklearn` `DecisionTreeClassifier` and initializing and training our model."
   ]
  },
  {
   "cell_type": "code",
   "execution_count": 83,
   "metadata": {},
   "outputs": [
    {
     "data": {
      "text/plain": [
       "DecisionTreeClassifier(class_weight=None, criterion='gini', max_depth=None,\n",
       "                       max_features=None, max_leaf_nodes=None,\n",
       "                       min_impurity_decrease=0.0, min_impurity_split=None,\n",
       "                       min_samples_leaf=1, min_samples_split=2,\n",
       "                       min_weight_fraction_leaf=0.0, presort=False,\n",
       "                       random_state=None, splitter='best')"
      ]
     },
     "execution_count": 83,
     "metadata": {},
     "output_type": "execute_result"
    }
   ],
   "source": [
    "from sklearn.tree import DecisionTreeClassifier\n",
    "model = DecisionTreeClassifier()\n",
    "model.fit(X, y)"
   ]
  },
  {
   "cell_type": "markdown",
   "metadata": {},
   "source": [
    "3. Predict with our hypothesis function"
   ]
  },
  {
   "cell_type": "markdown",
   "metadata": {},
   "source": [
    "Our model now has a hypothesis function.  We now use the `predict` method to predict the target of any observation.  To do so, we pass through a `list` of observations, where each row of features is also represented by a list."
   ]
  },
  {
   "cell_type": "markdown",
   "metadata": {},
   "source": [
    "So below we have two observations."
   ]
  },
  {
   "cell_type": "code",
   "execution_count": 10,
   "metadata": {},
   "outputs": [],
   "source": [
    "new_observations = [\n",
    "    [0, 0, 0, 2],\n",
    "    [0, 1, 0, 2]\n",
    "]"
   ]
  },
  {
   "cell_type": "markdown",
   "metadata": {},
   "source": [
    "Which we can pass to our predict method."
   ]
  },
  {
   "cell_type": "code",
   "execution_count": 14,
   "metadata": {},
   "outputs": [
    {
     "data": {
      "text/plain": [
       "array([1, 0])"
      ]
     },
     "execution_count": 14,
     "metadata": {},
     "output_type": "execute_result"
    }
   ],
   "source": [
    "model.predict(new_observations)"
   ]
  },
  {
   "cell_type": "markdown",
   "metadata": {},
   "source": [
    "And our model predicts the first observation will become a customer, and that the second will not."
   ]
  },
  {
   "cell_type": "markdown",
   "metadata": {},
   "source": [
    "### Summary"
   ]
  },
  {
   "cell_type": "markdown",
   "metadata": {},
   "source": [
    "In this lesson, we saw machine learning with the `sklearn` library.  Notice that our procedure stayed the same: (1) gather the training data, (2) train the model (3) use the hypothesis function to make predictions.\n",
    "\n",
    "We gathered the training data with the `pd.read_csv` method from pandas, and then trained the model by first creating a new model `model = DecisionTreeClassifier()`, and then calling `model.fit`.  From there, we could make predictions by inputting the features of new observations with `model.predict(future_observations)`, where each observation is a list of features."
   ]
  },
  {
   "cell_type": "markdown",
   "metadata": {},
   "source": [
    "<center>\n",
    "<a href=\"https://www.jigsawlabs.io/free\" style=\"position: center\"><img src=\"jigsaw-main.png\" width=\"15%\" style=\"text-align: center\"></a>\n",
    "</center>"
   ]
  }
 ],
 "metadata": {
  "kernelspec": {
   "display_name": "Python 3",
   "language": "python",
   "name": "python3"
  },
  "language_info": {
   "codemirror_mode": {
    "name": "ipython",
    "version": 3
   },
   "file_extension": ".py",
   "mimetype": "text/x-python",
   "name": "python",
   "nbconvert_exporter": "python",
   "pygments_lexer": "ipython3",
   "version": "3.8.6"
  }
 },
 "nbformat": 4,
 "nbformat_minor": 4
}
