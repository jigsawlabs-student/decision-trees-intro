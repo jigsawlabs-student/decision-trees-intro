{
 "cells": [
  {
   "cell_type": "markdown",
   "metadata": {},
   "source": [
    "# The Machine Learning Process"
   ]
  },
  {
   "cell_type": "markdown",
   "metadata": {},
   "source": [
    "### Introduction"
   ]
  },
  {
   "cell_type": "markdown",
   "metadata": {},
   "source": [
    "Ok, let's dive into machine learning feet first.  In this lesson we'll get an overview of the machine learning process.  \n",
    "\n",
    "> To be specific, we'll be covering the machine learning process for something called **supervised learning**, but let's not worry about that for now.  Supervised learning is the dominant form of machine learning, so let's get started with that.\n",
    "\n",
    "To start off, let's imagine we are in the business of selling real estate.  We have a list of prospective clients and we want to identify the ones who are most likely to purchase. "
   ]
  },
  {
   "cell_type": "markdown",
   "metadata": {},
   "source": [
    "<img src=\"https://storage.googleapis.com/curriculum-assets/intro-to-ml/leads.jpg\" width=\"40%\">"
   ]
  },
  {
   "cell_type": "markdown",
   "metadata": {},
   "source": [
    "## Our Process"
   ]
  },
  {
   "cell_type": "markdown",
   "metadata": {},
   "source": [
    "### 1. Get the Training Data"
   ]
  },
  {
   "cell_type": "markdown",
   "metadata": {},
   "source": [
    "The first step is to look to our past data to try to discover what makes a prospective client likely to purchase. Here are prospective clients, or *leads*, that we tried to sell to in the past.\n",
    "\n",
    "| Attended College | Under Thirty | Borough   | Income | Customer |\n",
    "| ---------------- | ------------ | --------- | ------ | :------: |\n",
    "| ?                | Yes          | Manhattan | < 55   |    0     |\n",
    "| Yes              | Yes          | Brooklyn  | < 55   |    0     |\n",
    "| ?                | No           | Brooklyn  | < 55   |    1     |\n",
    "\n",
    "As we can see, each row of our data represents the characteristics of a different lead.  \n",
    "\n",
    "Let's zoom in on the first row in the table above.  We see that:\n",
    "\n",
    "1. Whether the lead attended college is unknown\n",
    "2. The lead is under 30\n",
    "3. From Manhattan and\n",
    "4. Makes under 55k\n",
    "5. And did not become a customer"
   ]
  },
  {
   "cell_type": "markdown",
   "metadata": {},
   "source": [
    "> The number `0` means that the lead did not become a customer.  The `1` means that she did."
   ]
  },
  {
   "cell_type": "markdown",
   "metadata": {},
   "source": [
    "We call each row of data an **observation** and the entire set of data above our **training data**."
   ]
  },
  {
   "cell_type": "markdown",
   "metadata": {},
   "source": [
    "The idea is to use these past observations to find a formula that will come close to predicting which future leads will become customers, and which will not.  \n",
    "\n",
    "We'll eventually use more than three observations, but this is a fine place to start. "
   ]
  },
  {
   "cell_type": "markdown",
   "metadata": {},
   "source": [
    "> The first step in machine learning is to collect our **training data**.  Notice that for each **observation** in our training data, we have both the past inputs, as well as the past outcome that occurred."
   ]
  },
  {
   "cell_type": "markdown",
   "metadata": {},
   "source": [
    "### 2. Train an algorithm"
   ]
  },
  {
   "cell_type": "markdown",
   "metadata": {},
   "source": [
    "Let's take another look at our data. \n",
    "\n",
    "| Attended College | Under Thirty | Borough   | Income | Customer |\n",
    "| ---------------- | ------------ | --------- | ------ | :------: |\n",
    "| ?                | Yes          | Manhattan | < 55   |    0     |\n",
    "| Yes              | Yes          | Brooklyn  | < 55   |    0     |\n",
    "| ?                | No           | Brooklyn  | < 55   |    1     |"
   ]
  },
  {
   "cell_type": "markdown",
   "metadata": {},
   "source": [
    "Ok, so now really let's really imagine we are a sales person and we want to use past data to identify our ideal customers.  How would we do it?  One approach might be to look at the past data, and then go through each column to see if there's a characteristic that distinguishes customers from non-customers.\n",
    "\n",
    "> Do you see any?  "
   ]
  },
  {
   "cell_type": "markdown",
   "metadata": {},
   "source": [
    "Well `Under 30` appears to do the best.  Our first two leads who were under 30 *did not* become a customers, and our one lead over 30 *did* become a customer."
   ]
  },
  {
   "cell_type": "markdown",
   "metadata": {},
   "source": [
    "Believe it or not, this is how a decision tree is trained.  It starts by looking for the columns that best split the data.  But we'll come back to that later."
   ]
  },
  {
   "cell_type": "markdown",
   "metadata": {},
   "source": [
    "The broader point for now is that we saw how we can *train* a machine learning algorithm.\n",
    "\n",
    "> In **training** our machine learning algorithm looks at past observations to discover a pattern that can be used to predict the outcomes of these observations.  It can then apply that same logic to predict the outcomes of future data."
   ]
  },
  {
   "cell_type": "markdown",
   "metadata": {},
   "source": [
    "### 3. Find a hypothesis function"
   ]
  },
  {
   "cell_type": "markdown",
   "metadata": {},
   "source": [
    "Now that we have looked to our past data to find a pattern, we can use what we learned to make predictions on data where we do not know the outcome.  This is our formula:\n",
    "\n",
    "Take a lead, and predict that: \n",
    "* If he is under 30, he *will not* become a customer\n",
    "* If he is over 30, he *will* become a customer "
   ]
  },
  {
   "cell_type": "markdown",
   "metadata": {},
   "source": [
    "Or if you prefer a diagram:"
   ]
  },
  {
   "cell_type": "markdown",
   "metadata": {},
   "source": [
    "<img src=\"https://storage.googleapis.com/curriculum-assets/intro-to-ml/customer-dtree.png\" width=\"30%\">"
   ]
  },
  {
   "cell_type": "markdown",
   "metadata": {},
   "source": [
    "That works."
   ]
  },
  {
   "cell_type": "markdown",
   "metadata": {},
   "source": [
    "This is called the hypothesis function of machine learning algorithm.\n",
    "\n",
    "> Our **hypothesis function** takes in our observations and comes close to predicting their output.\n",
    "\n",
    "It's fine to try out our hypothesis function on our training data, to make sure that the predictions are matching up to what we observed.  But the real power of a hypothesis function is in making predictions on new data where we don't know the outcome, but can now predict it:"
   ]
  },
  {
   "cell_type": "markdown",
   "metadata": {},
   "source": [
    "For example, let's say two new leads just came in:"
   ]
  },
  {
   "cell_type": "markdown",
   "metadata": {},
   "source": [
    "| Attended College | Under Thirty | Borough   | Income |\n",
    "| ---------------- | ------------ | --------- | ------ |\n",
    "| No                | No          | Brooklyn | > 55   |\n",
    "| Yes              | Yes          | Brooklyn  | > 55   |"
   ]
  },
  {
   "cell_type": "markdown",
   "metadata": {},
   "source": [
    "We would feed this through our hypothesis function, and predict that the first lead will become a customer (as she is over 30), and that the second lead would not, as he is under 30."
   ]
  },
  {
   "cell_type": "markdown",
   "metadata": {},
   "source": [
    "<img src=\"https://storage.cloud.google.com/curriculum-assets/intro-to-ml/customer-dtree.png\" width=\"40%\">"
   ]
  },
  {
   "cell_type": "markdown",
   "metadata": {},
   "source": [
    "So can we really begin to make prediction based on just three past observations?  Well, no.  \n",
    "\n",
    "But as we move to larger datasets, and as you learn more machine learning algorithms, the general process will stay the same:\n",
    "\n",
    "> Start with training data, and use past observations to find a pattern that will allow us to predict future outcomes."
   ]
  },
  {
   "cell_type": "markdown",
   "metadata": {},
   "source": [
    "### One more thing"
   ]
  },
  {
   "cell_type": "markdown",
   "metadata": {},
   "source": [
    "Let's take another look at our training data\n",
    "\n",
    "| Attended College | Under Thirty | Borough   | Income | Customer |\n",
    "| ---------------- | ------------ | --------- | ------ | :------: |\n",
    "| ?                | Yes          | Manhattan | < 55   |    0     |\n",
    "| Yes              | Yes          | Brooklyn  | < 55   |    0     |\n",
    "\n",
    "\n",
    "Notice that we seem to be distinguishing our inputs (the first four columns) from the output of whether someone became a customer.  This is typical in machine learning.  We call the input columns our **features** and the output we are trying to predict our **target**. "
   ]
  },
  {
   "cell_type": "markdown",
   "metadata": {},
   "source": [
    "### Summary"
   ]
  },
  {
   "cell_type": "markdown",
   "metadata": {},
   "source": [
    "In this lesson, we were introduced to general process in machine learning.  \n",
    "\n",
    "We start with training data, and use past observations to find a pattern that will allow us to predict the outcomes of future data.  Let's review:"
   ]
  },
  {
   "cell_type": "markdown",
   "metadata": {},
   "source": [
    "1. Start with training data  \n",
    "    * Our training data consists of a set of observations.\n",
    "    * In each **observation** of our training data, we have both the past inputs, as well as the past outcome that occurred.  We call the inputs the **features** and the output the **target**.  Above, the `Customer` column is the target.\n",
    "    \n",
    "2. Training\n",
    "    * Here, we look at past observations to discover a hypothesis function that we can use to predict the targets.\n",
    "    \n",
    "3. Our hypothesis function\n",
    "    * Takes in the features of observations and comes close to predicting their target."
   ]
  },
  {
   "cell_type": "markdown",
   "metadata": {},
   "source": [
    "Above, we saw how we could train a decision tree by looking the training data of customer leads, and discovering that the feature of under 30 was most associated with a lead becoming a customer or not. We then used that discovery to form a hypothesis function that predicted that each new lead that is under 30 would not become a customer and those over 30 would become a customer. "
   ]
  },
  {
   "cell_type": "markdown",
   "metadata": {},
   "source": [
    "<center>\n",
    "<a href=\"https://www.jigsawlabs.io/free\" style=\"position: center\"><img src=\"https://storage.cloud.google.com/curriculum-assets/curriculum-assets.nosync/mom-files/jigsaw-labs.png\" width=\"15%\" style=\"text-align: center\"></a>\n",
    "</center>"
   ]
  }
 ],
 "metadata": {
  "kernelspec": {
   "display_name": "Python 3",
   "language": "python",
   "name": "python3"
  },
  "language_info": {
   "codemirror_mode": {
    "name": "ipython",
    "version": 3
   },
   "file_extension": ".py",
   "mimetype": "text/x-python",
   "name": "python",
   "nbconvert_exporter": "python",
   "pygments_lexer": "ipython3",
   "version": "3.8.3"
  }
 },
 "nbformat": 4,
 "nbformat_minor": 4
}
