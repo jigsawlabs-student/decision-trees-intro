{
 "cells": [
  {
   "cell_type": "markdown",
   "metadata": {},
   "source": [
    "# The Hypothesis Function"
   ]
  },
  {
   "cell_type": "markdown",
   "metadata": {},
   "source": [
    "### Introduction\n",
    "\n",
    "In the last few lessons, we saw the machine learning process by being introduced to decision trees.  We saw that our machine learning process was to gather our training data, train a model to find a hypothesis function, and then use that hypothesis function to make predictions.\n",
    "\n",
    "Over the next lessons, we'll go deeper into learning about the hypothesis function and training procedure of decision trees.\n",
    "\n",
    "> Why the focus on decision trees?  Well, decision trees make up some of the most popular and effective machine learning algorithms used today, like XGBoost and Random Forests, whatever that means."
   ]
  },
  {
   "cell_type": "markdown",
   "metadata": {},
   "source": [
    "## The Decision Tree's Hypothesis Function\n",
    "\n",
    "Let's start by viewing an example of a hypothesis function for a decision tree."
   ]
  },
  {
   "cell_type": "markdown",
   "metadata": {},
   "source": [
    "<img src=\"decision-tree-real-estate.png\" width=\"70%\">"
   ]
  },
  {
   "cell_type": "markdown",
   "metadata": {},
   "source": [
    "Notice that the hypothesis function of this decision tree is a little more complex than what we saw in our introduction to machine learning.  But the goal is the same.\n",
    "\n",
    "> It takes in features of new leads and then predicts the whether or not our lead will become a customer.  "
   ]
  },
  {
   "cell_type": "markdown",
   "metadata": {},
   "source": [
    "Let's make sure we understand how the hypothesis function above can make predictions.  \n",
    "\n",
    "At each diamond, we ask a question, for example, did the lead attend college?  Then, based on the lead's answer to that question, we move down a branch of the tree.  "
   ]
  },
  {
   "cell_type": "markdown",
   "metadata": {},
   "source": [
    "Let's try it out on a new lead to see how we can use it to make a prediction.  \n",
    "\n",
    "| Attended College | Under Thirty | Borough   | Income |\n",
    "| ---------------- | ------------ | --------- | ------ |\n",
    "| ?                | No           | Manhattan | < 55   |"
   ]
  },
  {
   "cell_type": "markdown",
   "metadata": {},
   "source": [
    "<img src=\"decision-tree-real-estate.png\" width=\"50%\">"
   ]
  },
  {
   "cell_type": "markdown",
   "metadata": {},
   "source": [
    "Looking at our decision tree, starting from left to right, our decision tree first asks us to look at the lead's value of `college`.  Because in our lead above, college has a value of `?`, we follow the branch to the `under thirty` diamond.  This tells us to ask another question: Is the lead under 30?  And because our lead is not under thirty, we take the `No` branch, and predict that the lead will become a `customer`."
   ]
  },
  {
   "cell_type": "markdown",
   "metadata": {},
   "source": [
    "So the hypothesis function above predicts whether each prospective lead will become a customer or not.  At each diamond we ask a question, and then the observation moves down one branch of the tree or the other based on the relevant value, until a prediction is made."
   ]
  },
  {
   "cell_type": "markdown",
   "metadata": {},
   "source": [
    "### Translating the Data to Code\n",
    "\n",
    "Of course, we'll eventually want to automate these predictions with code.  So how do we do this? \n",
    "\n",
    "The first thing, is to represent each observation as a dictionary."
   ]
  },
  {
   "cell_type": "markdown",
   "metadata": {},
   "source": [
    "| Attended College | Under Thirty | Borough   | Income |\n",
    "| ---------------- | ------------ | --------- | ------ |\n",
    "| Yes              | Yes          | Manhattan  | < 55   |\n",
    "| ?                | Yes          | Brooklyn | < 55   | "
   ]
  },
  {
   "cell_type": "code",
   "execution_count": null,
   "metadata": {},
   "outputs": [],
   "source": [
    "customer_1 = {'college': True, 'under_thirty': False, 'borough': 'Manhattan', 'income_under_55': True}\n",
    "customer_2 = {'college': '?', 'under_thirty': True, 'borough': 'Brooklyn', 'income_under_55': True}"
   ]
  },
  {
   "cell_type": "markdown",
   "metadata": {},
   "source": [
    "### The hypothesis function in code"
   ]
  },
  {
   "cell_type": "markdown",
   "metadata": {},
   "source": [
    "We can represent the hypothesis function of a decision tree as a series of `if else` statements."
   ]
  },
  {
   "cell_type": "markdown",
   "metadata": {},
   "source": [
    "For example, let's think about how we can represent a smaller decision tree than the one we have above."
   ]
  },
  {
   "cell_type": "markdown",
   "metadata": {},
   "source": [
    "> A smaller decision tree"
   ]
  },
  {
   "cell_type": "markdown",
   "metadata": {},
   "source": [
    "<img src=\"./customer-dtree.png\" width=\"40%\">"
   ]
  },
  {
   "cell_type": "markdown",
   "metadata": {},
   "source": [
    "Here is the decision tree in Python."
   ]
  },
  {
   "cell_type": "code",
   "execution_count": 5,
   "metadata": {},
   "outputs": [],
   "source": [
    "def decision_tree_1(customer):\n",
    "    if customer['under_thirty'] == True:\n",
    "        return 0\n",
    "    else:\n",
    "        return 1"
   ]
  },
  {
   "cell_type": "markdown",
   "metadata": {},
   "source": [
    "> Press shift + enter on the cell above, and the cells below."
   ]
  },
  {
   "cell_type": "code",
   "execution_count": 6,
   "metadata": {},
   "outputs": [],
   "source": [
    "customer_1 = {'college': True, 'under_thirty': False, 'borough': 'Manhattan', 'income_under_55': True}\n",
    "customer_2 = {'college': '?', 'under_thirty': True, 'borough': 'Brooklyn', 'income_under_55': True}"
   ]
  },
  {
   "cell_type": "code",
   "execution_count": 9,
   "metadata": {},
   "outputs": [
    {
     "data": {
      "text/plain": [
       "0"
      ]
     },
     "execution_count": 9,
     "metadata": {},
     "output_type": "execute_result"
    }
   ],
   "source": [
    "decision_tree_1(customer_1)\n",
    "# 1 \n",
    "decision_tree_1(customer_2)\n",
    "# 0"
   ]
  },
  {
   "cell_type": "markdown",
   "metadata": {},
   "source": [
    "Now it's your turn.  Represent the hypothesis function below in Python."
   ]
  },
  {
   "cell_type": "markdown",
   "metadata": {},
   "source": [
    "<img src=\"tree-small-2.png\" width=\"40%\">"
   ]
  },
  {
   "cell_type": "markdown",
   "metadata": {},
   "source": [
    "> Replace the word `pass` with your `if else` statement."
   ]
  },
  {
   "cell_type": "code",
   "execution_count": 1,
   "metadata": {},
   "outputs": [],
   "source": [
    "def decision_tree_2(customer):\n",
    "    pass"
   ]
  },
  {
   "cell_type": "markdown",
   "metadata": {},
   "source": [
    "Press `shift + return` on the cell above.  Then check your work below."
   ]
  },
  {
   "cell_type": "code",
   "execution_count": 2,
   "metadata": {},
   "outputs": [
    {
     "data": {
      "text/plain": [
       "1"
      ]
     },
     "execution_count": 2,
     "metadata": {},
     "output_type": "execute_result"
    }
   ],
   "source": [
    "customer_1 = {'college': True, 'under_thirty': False, 'borough': 'Manhattan', 'income_under_55': True}\n",
    "customer_2 = {'college': False, 'under_thirty': True, 'borough': 'Brooklyn', 'income_under_55': True}\n",
    "\n",
    "decision_tree_2(customer_1)\n",
    "# 1"
   ]
  },
  {
   "cell_type": "code",
   "execution_count": 3,
   "metadata": {},
   "outputs": [
    {
     "data": {
      "text/plain": [
       "0"
      ]
     },
     "execution_count": 3,
     "metadata": {},
     "output_type": "execute_result"
    }
   ],
   "source": [
    "decision_tree_2(customer_2)\n",
    "# 0"
   ]
  },
  {
   "cell_type": "markdown",
   "metadata": {},
   "source": [
    "Ok, now it's time to try coding the larger hypothesis function from above.  To do so we'll need some nested `if else` statements."
   ]
  },
  {
   "cell_type": "markdown",
   "metadata": {},
   "source": [
    "<img src=\"decision-tree-real-estate.png\" width=\"70%\">"
   ]
  },
  {
   "cell_type": "markdown",
   "metadata": {},
   "source": [
    "If you'd like to translate the entire hypothesis function above into code, give it a shot here."
   ]
  },
  {
   "cell_type": "code",
   "execution_count": 14,
   "metadata": {},
   "outputs": [],
   "source": [
    "def decision_tree(customer):\n",
    "    pass"
   ]
  },
  {
   "cell_type": "markdown",
   "metadata": {},
   "source": [
    "> If you find the above a little difficult, we filled in some of the code for you below."
   ]
  },
  {
   "cell_type": "markdown",
   "metadata": {},
   "source": [
    "> Replace the word **pass** with the correct return values.  You can check your work below by pressing `shift + return` over the next few cells.  The answer is at the end of this lesson."
   ]
  },
  {
   "cell_type": "code",
   "execution_count": 22,
   "metadata": {},
   "outputs": [],
   "source": [
    "def decision_tree(customer):\n",
    "    if customer['college'] == True:\n",
    "        return 1\n",
    "    elif customer['college'] == '?':\n",
    "        if customer['under_thirty'] == True:\n",
    "            pass\n",
    "        else:\n",
    "            pass\n",
    "    else:\n",
    "        return 0"
   ]
  },
  {
   "cell_type": "code",
   "execution_count": 16,
   "metadata": {},
   "outputs": [],
   "source": [
    "customer_1 = {'college': True, 'under_thirty': False, 'borough': 'Manhattan', 'income_under_55': True}\n",
    "customer_2 = {'college': '?', 'under_thirty': True, 'borough': 'Brooklyn', 'income_under_55': True}\n",
    "customer_3 = {'college': '?', 'under_thirty': False, 'borough': 'Brooklyn', 'income_under_55': True}"
   ]
  },
  {
   "cell_type": "code",
   "execution_count": 17,
   "metadata": {},
   "outputs": [
    {
     "data": {
      "text/plain": [
       "1"
      ]
     },
     "execution_count": 17,
     "metadata": {},
     "output_type": "execute_result"
    }
   ],
   "source": [
    "decision_tree(customer_1)\n",
    "# 1"
   ]
  },
  {
   "cell_type": "code",
   "execution_count": 20,
   "metadata": {},
   "outputs": [
    {
     "data": {
      "text/plain": [
       "0"
      ]
     },
     "execution_count": 20,
     "metadata": {},
     "output_type": "execute_result"
    }
   ],
   "source": [
    "decision_tree(customer_2)\n",
    "# 0"
   ]
  },
  {
   "cell_type": "code",
   "execution_count": 21,
   "metadata": {},
   "outputs": [
    {
     "data": {
      "text/plain": [
       "1"
      ]
     },
     "execution_count": 21,
     "metadata": {},
     "output_type": "execute_result"
    }
   ],
   "source": [
    "decision_tree(customer_3)\n",
    "# 1"
   ]
  },
  {
   "cell_type": "markdown",
   "metadata": {},
   "source": [
    "### Summary \n",
    "\n",
    "In this lesson, we learned about the hypothesis function for decision trees. We saw that decision tree hypothesis function provides each observation with a series of tests from which it predicts whether a datapoint will fall into one category or another.  We can represent our decision tree as code with a series of if else statements."
   ]
  },
  {
   "cell_type": "markdown",
   "metadata": {},
   "source": [
    "<center>\n",
    "<a href=\"https://www.jigsawlabs.io/free\" style=\"position: center\"><img src=\"jigsaw-main.png\" width=\"15%\" style=\"text-align: center\"></a>\n",
    "</center>"
   ]
  },
  {
   "cell_type": "markdown",
   "metadata": {},
   "source": [
    "### Answers"
   ]
  },
  {
   "cell_type": "code",
   "execution_count": 72,
   "metadata": {},
   "outputs": [],
   "source": [
    "def decision_tree_2(customer):\n",
    "    if customer['college'] == True:\n",
    "        return 1\n",
    "    else:\n",
    "        return 0"
   ]
  },
  {
   "cell_type": "code",
   "execution_count": 23,
   "metadata": {},
   "outputs": [],
   "source": [
    "def decision_tree(customer):\n",
    "    if customer['college'] == True:\n",
    "        return 1\n",
    "    elif customer['college'] == '?':\n",
    "        if customer['under_thirty'] == True:\n",
    "            return 0\n",
    "        else:\n",
    "            return 1\n",
    "    else:\n",
    "        return 0"
   ]
  },
  {
   "cell_type": "code",
   "execution_count": 24,
   "metadata": {},
   "outputs": [
    {
     "data": {
      "text/plain": [
       "0"
      ]
     },
     "execution_count": 24,
     "metadata": {},
     "output_type": "execute_result"
    }
   ],
   "source": [
    "decision_tree(customer_2)"
   ]
  }
 ],
 "metadata": {
  "kernelspec": {
   "display_name": "Python 3",
   "language": "python",
   "name": "python3"
  },
  "language_info": {
   "codemirror_mode": {
    "name": "ipython",
    "version": 3
   },
   "file_extension": ".py",
   "mimetype": "text/x-python",
   "name": "python",
   "nbconvert_exporter": "python",
   "pygments_lexer": "ipython3",
   "version": "3.8.6"
  }
 },
 "nbformat": 4,
 "nbformat_minor": 4
}
