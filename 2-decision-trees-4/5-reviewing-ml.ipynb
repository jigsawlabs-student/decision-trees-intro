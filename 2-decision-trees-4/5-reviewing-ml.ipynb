{
 "cells": [
  {
   "cell_type": "markdown",
   "metadata": {},
   "source": [
    "# The Components of Machine Learning"
   ]
  },
  {
   "cell_type": "markdown",
   "metadata": {},
   "source": [
    "### Introduction"
   ]
  },
  {
   "cell_type": "markdown",
   "metadata": {},
   "source": [
    "At this point, we learned seen some  major components of a machine learning.  Let's take this moment to review."
   ]
  },
  {
   "cell_type": "markdown",
   "metadata": {},
   "source": [
    "We saw that unlike traditional programming, in machine learning we are not given the underlying logic of a function, but use the machine learning process to discover it.\n",
    "\n",
    "We do this by:\n",
    "* using our **training data** to \n",
    "* discover a **hypothesis function** that comes close to predicting the targets of our training data.  \n",
    "* And we discover our hypothesis function by following a **training procedure**, \n",
    "* where we choose a hypothesis function that minimizes the output from a **cost function**."
   ]
  },
  {
   "cell_type": "markdown",
   "metadata": {},
   "source": [
    "Let's review some of the details."
   ]
  },
  {
   "cell_type": "markdown",
   "metadata": {},
   "source": [
    "### Our Data"
   ]
  },
  {
   "cell_type": "markdown",
   "metadata": {},
   "source": [
    "We can think of our training data like a set of past experiments.  And we use these experiments to discover what makes each experiment have one outcome or the other.  Here is a look at our training data."
   ]
  },
  {
   "cell_type": "markdown",
   "metadata": {},
   "source": [
    "| Attended College | Under Thirty | Borough   | Income | Customer |\n",
    "| ---------------- | ------------ | --------- | ------ | :------: |\n",
    "| ?                | Yes          | Manhattan | < 55   |    0     |\n",
    "| Yes              | Yes          | Brooklyn  | < 55   |    0     |\n",
    "| ?                | No           | Brooklyn  | < 55   |    1     |"
   ]
  },
  {
   "cell_type": "markdown",
   "metadata": {},
   "source": [
    "We call each row of data an **observation** and we can think of each observation as having two components: the features and the target.  If we think of each observation like a separate experiment, then the **target** describes the *result* of that experiment.  Above our target is whether or not the lead became a customer.  And the **features** describe the potential inputs that led to each outcome.  "
   ]
  },
  {
   "cell_type": "markdown",
   "metadata": {},
   "source": [
    "## Training"
   ]
  },
  {
   "cell_type": "markdown",
   "metadata": {},
   "source": [
    "The goal of machine learning is to somehow use our observations to find a hypothesis function that predicts the outcomes of future data.  We do that by following a training procedure.  \n",
    "\n",
    "The training procedure is just a series of steps to arrive at a hypothesis function.  The training procedure has a cost function, and throughout training, the goal is to minimize the output of the cost function.\n",
    "\n",
    "#### Training in a decision tree\n",
    "\n",
    "In the context of decision trees, training means starting with all of our training data and doing the following:"
   ]
  },
  {
   "cell_type": "markdown",
   "metadata": {},
   "source": [
    "**For a mixed group of training data:**\n",
    "1. Find the feature that most separates the data by the target values by\n",
    "    * Splitting the data according to the feature\n",
    "    * Then selecting the split resuling in the lowest **cost** where:\n",
    "        * The **cost** of a split is the number of observations placed into a mixed group (ie. a group with both `1s` and `0s`) \n",
    "2. Add the lowest cost feature to the hypothesis function to separate the mixed group\n",
    "3. Then for each remaining mixed group of training data, perform steps one through three \n",
    "\n",
    "**Stop** when there are no remaining mixed groups."
   ]
  },
  {
   "cell_type": "markdown",
   "metadata": {},
   "source": [
    "> We can update this cost function over time.  After all, with larger datasets, we may find that all of the subgroups have some mixing, but we still want assign different costs to these subgroups.  But let's worry about that later."
   ]
  },
  {
   "cell_type": "markdown",
   "metadata": {},
   "source": [
    "### The Hypothesis Function"
   ]
  },
  {
   "cell_type": "markdown",
   "metadata": {},
   "source": [
    "> Our **hypothesis function** takes in the features of our training data, and comes close to predicting the targets of the observations in our training data.\n",
    "\n",
    "We saw that our decision tree's hypothesis function for our provided training data was the following:"
   ]
  },
  {
   "cell_type": "markdown",
   "metadata": {},
   "source": [
    "<img src=\"d-tree-diagram.png\" width=\"40%\">"
   ]
  },
  {
   "cell_type": "markdown",
   "metadata": {},
   "source": [
    "The hypothesis function can take the features of each observation and predict whether or not the observation became a customer.\n",
    "\n",
    "The idea is that if the hypothesis function did a good job of predicting past data, then we can also use it predict future data.\n",
    "\n",
    "> There are various techniques in machine learning for checking that idea.\n",
    "\n",
    "Also, notice that our hypothesis function did not use **all** of the features in our training set.  This is useful, because it tells us **which of the inputs are important** to predicting the outcome."
   ]
  },
  {
   "cell_type": "markdown",
   "metadata": {},
   "source": [
    "### Different Algorithms"
   ]
  },
  {
   "cell_type": "markdown",
   "metadata": {},
   "source": [
    "So far we have only looked at decision trees.  And we will stick with decision trees, in one form or another over the next series of lessons.  But let's keep in mind that decision trees are not the entirety of machine learning.  Decision trees are just one machine learning **algorithm**.  "
   ]
  },
  {
   "cell_type": "markdown",
   "metadata": {},
   "source": [
    "Here is another machine learning algorithm called [logistic regression](https://en.wikipedia.org/wiki/Logistic_regression) that is being used to predict if cells of various medical patients contain cancer."
   ]
  },
  {
   "cell_type": "markdown",
   "metadata": {},
   "source": [
    "<img src=\"logistic-regression.png\" width=\"60%\">"
   ]
  },
  {
   "cell_type": "markdown",
   "metadata": {},
   "source": [
    "> **The training data**: Each dot above represents a different patient's cells.  The horizontal position indicates the size of cells, and the vertical position represents the average indentations of a patient's cells. The blue points show where cancer was observed."
   ]
  },
  {
   "cell_type": "markdown",
   "metadata": {},
   "source": [
    "Now the point isn't to now go into a detailed discussion of logistic regression.  But it is to realize that *if* we wanted to understand logistic regression, we should learn about the same components: \n",
    "1. What is the hypothesis function?  \n",
    "    * That is, how does that diagram translate into predictions?\n",
    "    > **Answer**: Observations on the left side of the green line are predicted as having one target value (cancerous), and on the other side are predicted as non-cancerous.\n",
    "2. What is the training procedure?\n",
    "    * What is the procedure for finding the hypothesis function?\n",
    "        * **Answer**: Try moving the line left or right, or changing the angle to see how it splits the data.\n",
    "3. What is the cost function?\n",
    "    * What is the metric that it is trying to minimize?\n",
    "        * **Answer**: Every observation that it misclassifies increases the cost."
   ]
  },
  {
   "cell_type": "markdown",
   "metadata": {},
   "source": [
    "So while we are focusing on decision trees, other machine learning algorithms you will encounter can also be described by their own hypothesis functions, training procedures, and cost functions."
   ]
  },
  {
   "cell_type": "markdown",
   "metadata": {},
   "source": [
    "### Summary"
   ]
  },
  {
   "cell_type": "markdown",
   "metadata": {},
   "source": [
    "In this lesson, we reviewed the major components of a machine learning algorithm.\n",
    "\n",
    "We saw that a machine learning algorithm: \n",
    "* uses **training data** to \n",
    "* discover a **hypothesis function** that comes close to predicting the targets of our training data.  \n",
    "* And we discover our hypothesis function by following a **training procedure**, \n",
    "* where we work to minimize a **cost function**.\n",
    "\n",
    "We specifically saw this applied to decision trees."
   ]
  },
  {
   "cell_type": "markdown",
   "metadata": {},
   "source": [
    "<center>\n",
    "<a href=\"https://www.jigsawlabs.io/free\" style=\"position: center\"><img src=\"jigsaw-main.png\" width=\"15%\" style=\"text-align: center\"></a>\n",
    "</center>"
   ]
  }
 ],
 "metadata": {
  "kernelspec": {
   "display_name": "Python 3",
   "language": "python",
   "name": "python3"
  },
  "language_info": {
   "codemirror_mode": {
    "name": "ipython",
    "version": 3
   },
   "file_extension": ".py",
   "mimetype": "text/x-python",
   "name": "python",
   "nbconvert_exporter": "python",
   "pygments_lexer": "ipython3",
   "version": "3.8.6"
  }
 },
 "nbformat": 4,
 "nbformat_minor": 4
}
