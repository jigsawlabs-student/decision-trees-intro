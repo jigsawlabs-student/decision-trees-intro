{
 "cells": [
  {
   "cell_type": "markdown",
   "metadata": {},
   "source": [
    "# Adding a cost function"
   ]
  },
  {
   "cell_type": "markdown",
   "metadata": {},
   "source": [
    "## Introduction\n",
    "\n",
    "In the last lesson, we learned the procedure for training decision trees.  Our training procedure was the following:  \n",
    "\n",
    "**For a mixed group of data:**\n",
    "1. Find the feature that most separates the data by the target values\n",
    "2. Add that feature as a test in the hypothesis function to separate the mixed group\n",
    "3. Then for each set of data split into a mixed group, perform steps one through three \n",
    "\n",
    "**Stop** when there are no remaining mixed groups.\n",
    "\n",
    "But, what we have not yet described is *how* a decision tree *finds the feature that most separates the data*.  We'll describe that in this section."
   ]
  },
  {
   "cell_type": "markdown",
   "metadata": {},
   "source": [
    "## Our Procedure"
   ]
  },
  {
   "cell_type": "markdown",
   "metadata": {},
   "source": [
    "Let's take another look at our training data."
   ]
  },
  {
   "cell_type": "markdown",
   "metadata": {},
   "source": [
    "| Attended College | Under Thirty | Borough   | Income | Customer |\n",
    "| ---------------- | ------------ | --------- | ------ | :------: |\n",
    "| ?                | Yes          | Manhattan | < 55   |    0     |\n",
    "| Yes              | Yes          | Brooklyn  | < 55   |    0     |\n",
    "| ?                | No           | Brooklyn  | < 55   |    1     |\n",
    "| No               | No           | Queens    | > 55   |    1     |\n",
    "| ?                | No           | Queens    | < 55   |    1     |\n",
    "| Yes              | No           | Queens    | >55    |    0     |\n",
    "| Yes              | No           | Queens    | >55    |    0     |\n",
    "| Yes              | Yes          | Manhattan | >55    |    0     |"
   ]
  },
  {
   "cell_type": "markdown",
   "metadata": {},
   "source": [
    "#### 1. Split the data according to each feature"
   ]
  },
  {
   "cell_type": "markdown",
   "metadata": {},
   "source": [
    "So how do we find the feature that most separates the data?  Well this is the first step:\n",
    "\n",
    "> Try splitting the data by **every** feature.    "
   ]
  },
  {
   "cell_type": "markdown",
   "metadata": {},
   "source": [
    "<img src=\"customer-leads-1.png\" width=\"40%\"> <img src=\"customer-leads-2.png\" width=\"40%\">"
   ]
  },
  {
   "cell_type": "markdown",
   "metadata": {},
   "source": [
    "So instead of just trying a couple of splits like we did in the last lesson, here we'll make sure we split by *every* feature.  Next we need to calculate which split is the best.  This brings us to step 2.\n",
    "\n",
    "#### 2. Calculate the cost of each split\n",
    "\n",
    "Once we split our data by each feature, we want to evaluate each split.  We do so by counting the number of observations placed into a mixed group of ones and zeros.  The fewer the number of observations placed into a mixed group, the more our data is separated, and the better the split. \n",
    "\n",
    ">  The number of observations placed in a mixed group is call **cost** of a split.  \n",
    "> We want to choose the feature that *minimizes* this cost.\n",
    "\n",
    "Let's run through some examples.\n",
    "\n",
    "1. We'll start by calculating the cost of splitting by college."
   ]
  },
  {
   "cell_type": "markdown",
   "metadata": {},
   "source": [
    "<img src=\"customer-leads-4.png\" width=\"50%\">"
   ]
  },
  {
   "cell_type": "markdown",
   "metadata": {},
   "source": [
    "Here the cost is 3.  Why?  Well, going from top to bottom, the first two sub-groups have a cost of zero, as neither the `Yes` or `No` sub-group is mixed.  But the sub-group on the bottom *is* mixed.  So what is the total number of observations in a mixed group? \n",
    "\n",
    "$cost = 0 + 0 + 3$"
   ]
  },
  {
   "cell_type": "markdown",
   "metadata": {},
   "source": [
    "2. Next, let's try splitting by income.  \n",
    "\n",
    "> Again, we calculate the cost by counting the total number of observations in a mixed group."
   ]
  },
  {
   "cell_type": "markdown",
   "metadata": {},
   "source": [
    "<img src=\"customer-leads-3.png\" width=\"50%\">"
   ]
  },
  {
   "cell_type": "markdown",
   "metadata": {},
   "source": [
    "Here, the cost is 8.  All of the observations are in a group of 1s and 0s."
   ]
  },
  {
   "cell_type": "markdown",
   "metadata": {},
   "source": [
    "#### 3. Select the feature that minimizes the cost"
   ]
  },
  {
   "cell_type": "markdown",
   "metadata": {},
   "source": [
    "If we calculate the cost of all of the splits, we'll see that college is the feature with the lowest cost, with a cost of 3."
   ]
  },
  {
   "cell_type": "markdown",
   "metadata": {},
   "source": [
    "<img src=\"customer-leads-1.png\" width=\"40%\"> <img src=\"customer-leads-2.png\" width=\"40%\">"
   ]
  },
  {
   "cell_type": "markdown",
   "metadata": {},
   "source": [
    "So next, as we know, we take the feature of college and add it to our hypothesis function."
   ]
  },
  {
   "cell_type": "markdown",
   "metadata": {},
   "source": [
    "<img src=\"customer-leads-6.png\" width=\"40%\">"
   ]
  },
  {
   "cell_type": "markdown",
   "metadata": {},
   "source": [
    "### 4. For each mixed group, repeat"
   ]
  },
  {
   "cell_type": "markdown",
   "metadata": {},
   "source": [
    "Next we split the data according to each feature for our resulting mixed group -- the observations with a `?` value for college -- and again calculate the cost of each split."
   ]
  },
  {
   "cell_type": "markdown",
   "metadata": {},
   "source": [
    "| Attended College | Under Thirty | Borough   | Income | Customer |\n",
    "| ---------------- | ------------ | --------- | ------ | :------: |\n",
    "| ?                | Yes          | Manhattan | < 55   |    0     |\n",
    "| ?                | No           | Brooklyn  | < 55   |    1     |\n",
    "| ?                | No           | Queens    | < 55   |    1     |\n"
   ]
  },
  {
   "cell_type": "markdown",
   "metadata": {},
   "source": [
    "This is what we get."
   ]
  },
  {
   "cell_type": "markdown",
   "metadata": {},
   "source": [
    "<img src=\"remaining-split-1.png\" width=\"33%\"><img src=\"remaining-split-2.png\" width=\"33%\"> <img src=\"remaining-split-3.png\" width=\"33%\">"
   ]
  },
  {
   "cell_type": "markdown",
   "metadata": {},
   "source": [
    "So calculating the cost of each split, we get: \n",
    "* Income: \n",
    "    * $cost = 3$\n",
    "    * All of the observations are in a mixed sub-group \n",
    "* Borough: \n",
    "    * $cost = 0 + 0 + 0$\n",
    "    * None of the observations are in a mixed sub-group\n",
    "* Under 30: \n",
    "    * $cost = 0 + 0$\n",
    "    * None of the observations are in a mixed sub-group"
   ]
  },
  {
   "cell_type": "markdown",
   "metadata": {},
   "source": [
    "So we can use `Borough` or `Under 30` to add to split our mixed group by.  We use Under 30. "
   ]
  },
  {
   "cell_type": "markdown",
   "metadata": {},
   "source": [
    "<img src=\"decision-tree-real-estate.png\" width=\"50%\">"
   ]
  },
  {
   "cell_type": "markdown",
   "metadata": {},
   "source": [
    "At this point, there are no remaining mixed groups so we stop. "
   ]
  },
  {
   "cell_type": "markdown",
   "metadata": {},
   "source": [
    "### The Cost Function"
   ]
  },
  {
   "cell_type": "markdown",
   "metadata": {},
   "source": [
    "At this point, we have learned all of the components of the decision tree algorithm!  The last component that we added is called the **cost function**.  \n",
    "\n",
    "> The **cost function** simply outputs the **cost** of different versions of our hypothesis function, or here a portion of a hypothesis function.  \n",
    "\n",
    "So here, our cost function to split our observations by their values in a feature, and then to count up the number of observations placed in a mixed group.  And we form our hypothesis function by minimizing that cost.  \n",
    "\n",
    "> We can update our cost function over time.  For example, we may want our function to assign different costs to a split that results in a mixed group where 90 percent of the data is a 1, and the rest a 0, versus a mixed group that results in a 50-50 split.  But this is fine for now."
   ]
  },
  {
   "cell_type": "markdown",
   "metadata": {},
   "source": [
    "### Wrapping Up"
   ]
  },
  {
   "cell_type": "markdown",
   "metadata": {},
   "source": [
    "Let's update our procedure for training the decision tree.\n",
    "\n",
    "**For a mixed group of training data:**\n",
    "1. Find the feature that most separates the data by the target values by\n",
    "    * Splitting the data according to the feature\n",
    "    * Then selecting the split resuling in the lowest **cost** where:\n",
    "        * The **cost** of a split is the number of observations placed into a mixed group (ie. a group with both `1s` and `0s`) \n",
    "2. Add the lowest cost feature to the hypothesis function to separate the mixed group\n",
    "3. Then for each remaining mixed group of training data, perform steps one through three \n",
    "\n",
    "**Stop** when there are no remaining mixed groups."
   ]
  },
  {
   "cell_type": "markdown",
   "metadata": {},
   "source": [
    "### Summary"
   ]
  },
  {
   "cell_type": "markdown",
   "metadata": {},
   "source": [
    "In this lesson we saw a formal procedure for splitting our data.  We started by finding the initial feature to split the data on.  We tried splitting our observations by values for each feature, and calculated the number of observations placed into a mixed group.\n",
    "\n",
    "Splitting by income had a cost of 8, as all of the observations were placed into a mixed group.  And splitting by college had a cost of three, as only three of the observations were placed into a mixed group.  Because college had the lowest cost, that became the first feature that we added to our hypothesis function.\n",
    "\n",
    "This left us with three observations in a mixed group.  And we saw how to split this data by again calculating the cost of splitting this subgroup by each feature."
   ]
  },
  {
   "cell_type": "markdown",
   "metadata": {},
   "source": [
    "<center>\n",
    "<a href=\"https://www.jigsawlabs.io/free\" style=\"position: center\"><img src=\"jigsaw-main.png\" width=\"15%\" style=\"text-align: center\"></a>\n",
    "</center>"
   ]
  }
 ],
 "metadata": {
  "kernelspec": {
   "display_name": "Python 3",
   "language": "python",
   "name": "python3"
  },
  "language_info": {
   "codemirror_mode": {
    "name": "ipython",
    "version": 3
   },
   "file_extension": ".py",
   "mimetype": "text/x-python",
   "name": "python",
   "nbconvert_exporter": "python",
   "pygments_lexer": "ipython3",
   "version": "3.8.6"
  }
 },
 "nbformat": 4,
 "nbformat_minor": 4
}
